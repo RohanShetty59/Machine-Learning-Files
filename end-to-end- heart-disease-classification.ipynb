{
 "cells": [
  {
   "cell_type": "markdown",
   "id": "76f3d222",
   "metadata": {},
   "source": [
    "# Predicting heart disease using machine learning\n",
    "\n",
    "This notebook looks into using various Python-based machine learning and data science libraries in an attempt to build a machine learning model capable of predicting whether or not someone has heart disease based on their medical attributes.\n",
    "\n",
    "We're going to take the following approach:\n",
    "1. Problem definition\n",
    "2. Data\n",
    "3. Evaluation\n",
    "4. Features\n",
    "5. Modelling\n",
    "6. Experimentation\n",
    "\n",
    "## 1. Problem Definition\n",
    "In a statement,\n",
    "> Given clinical parameters about a patient, can we predict whether or not they have heart disease?\n",
    "\n",
    "## 2. Data \n",
    "The original data came from the Cleveland data from the UCI Machine Learning Repository.https://archive.ics.uci.edu/ml/datasets/heart+disease\n",
    "\n",
    "There isa also a version of it available on Kaggle. https://www.kaggle.com/ronitf/heart-disease-uci\n",
    "\n",
    "## 3. Evaluation\n",
    "> To reach above 90% accuracy at predicting whether or not a patient has heart disease during the proof of concept\n",
    "\n",
    "## 4. Features\n",
    "\n",
    "Different information about each of the features in the data.\n",
    "\n",
    "**Create data dictionary**\n",
    "\n",
    "1. age - age in years\n",
    "2. sex - (1 = male; 0 = female)\n",
    "3. cp - chest pain type\n",
    " + 0: Typical angina: chest pain related decrease blood supply to the heart\n",
    " + 1: Atypical angina: chest pain not related to heart\n",
    " + 2: Non-anginal pain: typically esophageal spasms (non heart related)\n",
    " + 3: Asymptomatic: chest pain not showing signs of disease\n",
    "4. trestbps - resting blood pressure (in mm Hg on admission to the hospital) anything above 130-140 is typically cause for concern\n",
    "5. chol - serum cholestoral in mg/dl\n",
    "    + serum = LDL + HDL + .2 * triglycerides\n",
    "    + above 200 is cause for concern\n",
    "6. fbs - (fasting blood sugar > 120 mg/dl) (1 = true; 0 = false)\n",
    "    + '>126' mg/dL signals diabetes\n",
    "7. restecg - resting electrocardiographic results\n",
    "    + 0: Nothing to note\n",
    "    + 1: ST-T Wave abnormality\n",
    "        + can range from mild symptoms to severe problems\n",
    "        + signals non-normal heart beat\n",
    "    + 2: Possible or definite left ventricular hypertrophy\n",
    "        + Enlarged heart's main pumping chamber\n",
    "8. thalach - maximum heart rate achieved\n",
    "9. exang - exercise induced angina (1 = yes; 0 = no)\n",
    "10. oldpeak - ST depression induced by exercise relative to rest looks at stress of heart during excercise unhealthy heart will stress more\n",
    "11. slope - the slope of the peak exercise ST segment\n",
    "    + 0: Upsloping: better heart rate with excercise (uncommon)\n",
    "    + 1: Flatsloping: minimal change (typical healthy heart)\n",
    "    + 2: Downslopins: signs of unhealthy heart\n",
    "12. ca - number of major vessels (0-3) colored by flourosopy\n",
    "    + colored vessel means the doctor can see the blood passing through\n",
    "    + the more blood movement the better (no clots)\n",
    "13.  thal - thalium stress result\n",
    "    + 1,3: normal\n",
    "    + 6: fixed defect: used to be defect but ok now\n",
    "    + 7: reversable defect: no proper blood movement when excercising\n",
    "14. target - have disease or not (1=yes, 0=no) (= the predicted attribute)"
   ]
  },
  {
   "cell_type": "markdown",
   "id": "af4f6ee3",
   "metadata": {},
   "source": [
    "## Preparing the tools\n",
    "We're going to use Pandas, Matplotlib and Numpy for the data analysis and manipulation"
   ]
  },
  {
   "cell_type": "code",
   "execution_count": 7,
   "id": "1a837679",
   "metadata": {},
   "outputs": [],
   "source": [
    "# Import all the tools we need\n",
    "# Regular data analysis and plotting libraries\n",
    "\n",
    "import numpy as np\n",
    "import pandas as pd\n",
    "import matplotlib.pyplot as plt\n",
    "import seaborn as sns\n",
    "\n",
    "#we want our plots to appear inside the notebook\n",
    "%matplotlib inline \n",
    "\n",
    "# Models from sklearn\n",
    "from sklearn.linear_model import LogisticRegression\n",
    "from sklearn.neighbors import KNeighborsClassifier\n",
    "from sklearn.ensemble import RandomForestClassifier\n",
    "\n",
    "#Model Evaluations\n",
    "from sklearn.model_selection import train_test_split, cross_val_score\n",
    "from sklearn.model_selection import RandomizedSearchCV,GridSearchCV\n",
    "from sklearn.metrics import confusion_matrix, classification_report\n",
    "from sklearn.metrics import precision_score, recall_score, f1_score\n",
    "from sklearn.metrics import plot_roc_curve\n",
    "\n"
   ]
  },
  {
   "cell_type": "markdown",
   "id": "e75fd454",
   "metadata": {},
   "source": [
    "## Load data"
   ]
  },
  {
   "cell_type": "code",
   "execution_count": 8,
   "id": "983b1b18",
   "metadata": {},
   "outputs": [
    {
     "data": {
      "text/plain": [
       "(303, 14)"
      ]
     },
     "execution_count": 8,
     "metadata": {},
     "output_type": "execute_result"
    }
   ],
   "source": [
    "df= pd.read_csv(\"heart-disease.csv\")\n",
    "df.shape #(rows, columns)"
   ]
  },
  {
   "cell_type": "markdown",
   "id": "e6b27f2a",
   "metadata": {},
   "source": [
    "## Data exploration\n",
    "To find out more about the data\n",
    "1. What questions are we trying to solve?\n",
    "2. What kind of data do we have and how we treat different data types?\n",
    "3. What's missing from the data and how do we deal with it?\n",
    "4. What are the outliers and why should we care about them?\n",
    "5. How can we add, change or remove features to get more out of the data\n"
   ]
  },
  {
   "cell_type": "code",
   "execution_count": 9,
   "id": "d20076a3",
   "metadata": {},
   "outputs": [
    {
     "data": {
      "text/html": [
       "<div>\n",
       "<style scoped>\n",
       "    .dataframe tbody tr th:only-of-type {\n",
       "        vertical-align: middle;\n",
       "    }\n",
       "\n",
       "    .dataframe tbody tr th {\n",
       "        vertical-align: top;\n",
       "    }\n",
       "\n",
       "    .dataframe thead th {\n",
       "        text-align: right;\n",
       "    }\n",
       "</style>\n",
       "<table border=\"1\" class=\"dataframe\">\n",
       "  <thead>\n",
       "    <tr style=\"text-align: right;\">\n",
       "      <th></th>\n",
       "      <th>age</th>\n",
       "      <th>sex</th>\n",
       "      <th>cp</th>\n",
       "      <th>trestbps</th>\n",
       "      <th>chol</th>\n",
       "      <th>fbs</th>\n",
       "      <th>restecg</th>\n",
       "      <th>thalach</th>\n",
       "      <th>exang</th>\n",
       "      <th>oldpeak</th>\n",
       "      <th>slope</th>\n",
       "      <th>ca</th>\n",
       "      <th>thal</th>\n",
       "      <th>target</th>\n",
       "    </tr>\n",
       "  </thead>\n",
       "  <tbody>\n",
       "    <tr>\n",
       "      <th>0</th>\n",
       "      <td>63</td>\n",
       "      <td>1</td>\n",
       "      <td>3</td>\n",
       "      <td>145</td>\n",
       "      <td>233</td>\n",
       "      <td>1</td>\n",
       "      <td>0</td>\n",
       "      <td>150</td>\n",
       "      <td>0</td>\n",
       "      <td>2.3</td>\n",
       "      <td>0</td>\n",
       "      <td>0</td>\n",
       "      <td>1</td>\n",
       "      <td>1</td>\n",
       "    </tr>\n",
       "    <tr>\n",
       "      <th>1</th>\n",
       "      <td>37</td>\n",
       "      <td>1</td>\n",
       "      <td>2</td>\n",
       "      <td>130</td>\n",
       "      <td>250</td>\n",
       "      <td>0</td>\n",
       "      <td>1</td>\n",
       "      <td>187</td>\n",
       "      <td>0</td>\n",
       "      <td>3.5</td>\n",
       "      <td>0</td>\n",
       "      <td>0</td>\n",
       "      <td>2</td>\n",
       "      <td>1</td>\n",
       "    </tr>\n",
       "    <tr>\n",
       "      <th>2</th>\n",
       "      <td>41</td>\n",
       "      <td>0</td>\n",
       "      <td>1</td>\n",
       "      <td>130</td>\n",
       "      <td>204</td>\n",
       "      <td>0</td>\n",
       "      <td>0</td>\n",
       "      <td>172</td>\n",
       "      <td>0</td>\n",
       "      <td>1.4</td>\n",
       "      <td>2</td>\n",
       "      <td>0</td>\n",
       "      <td>2</td>\n",
       "      <td>1</td>\n",
       "    </tr>\n",
       "    <tr>\n",
       "      <th>3</th>\n",
       "      <td>56</td>\n",
       "      <td>1</td>\n",
       "      <td>1</td>\n",
       "      <td>120</td>\n",
       "      <td>236</td>\n",
       "      <td>0</td>\n",
       "      <td>1</td>\n",
       "      <td>178</td>\n",
       "      <td>0</td>\n",
       "      <td>0.8</td>\n",
       "      <td>2</td>\n",
       "      <td>0</td>\n",
       "      <td>2</td>\n",
       "      <td>1</td>\n",
       "    </tr>\n",
       "    <tr>\n",
       "      <th>4</th>\n",
       "      <td>57</td>\n",
       "      <td>0</td>\n",
       "      <td>0</td>\n",
       "      <td>120</td>\n",
       "      <td>354</td>\n",
       "      <td>0</td>\n",
       "      <td>1</td>\n",
       "      <td>163</td>\n",
       "      <td>1</td>\n",
       "      <td>0.6</td>\n",
       "      <td>2</td>\n",
       "      <td>0</td>\n",
       "      <td>2</td>\n",
       "      <td>1</td>\n",
       "    </tr>\n",
       "  </tbody>\n",
       "</table>\n",
       "</div>"
      ],
      "text/plain": [
       "   age  sex  cp  trestbps  chol  fbs  restecg  thalach  exang  oldpeak  slope  \\\n",
       "0   63    1   3       145   233    1        0      150      0      2.3      0   \n",
       "1   37    1   2       130   250    0        1      187      0      3.5      0   \n",
       "2   41    0   1       130   204    0        0      172      0      1.4      2   \n",
       "3   56    1   1       120   236    0        1      178      0      0.8      2   \n",
       "4   57    0   0       120   354    0        1      163      1      0.6      2   \n",
       "\n",
       "   ca  thal  target  \n",
       "0   0     1       1  \n",
       "1   0     2       1  \n",
       "2   0     2       1  \n",
       "3   0     2       1  \n",
       "4   0     2       1  "
      ]
     },
     "execution_count": 9,
     "metadata": {},
     "output_type": "execute_result"
    }
   ],
   "source": [
    "df.head()"
   ]
  },
  {
   "cell_type": "code",
   "execution_count": 10,
   "id": "b323e4f7",
   "metadata": {},
   "outputs": [
    {
     "data": {
      "text/plain": [
       "1    165\n",
       "0    138\n",
       "Name: target, dtype: int64"
      ]
     },
     "execution_count": 10,
     "metadata": {},
     "output_type": "execute_result"
    }
   ],
   "source": [
    "# TO find out how many of each class there are\n",
    "df[\"target\"].value_counts()"
   ]
  },
  {
   "cell_type": "code",
   "execution_count": 11,
   "id": "42caeb93",
   "metadata": {},
   "outputs": [
    {
     "data": {
      "image/png": "[encoded data removed]",
      "text/plain": [
       "<Figure size 432x288 with 1 Axes>"
      ]
     },
     "metadata": {
      "needs_background": "light"
     },
     "output_type": "display_data"
    }
   ],
   "source": [
    "df[\"target\"].value_counts().plot(kind=\"bar\", color =[\"green\", \"blue\"]);"
   ]
  },
  {
   "cell_type": "code",
   "execution_count": 12,
   "id": "e7e94139",
   "metadata": {},
   "outputs": [
    {
     "name": "stdout",
     "output_type": "stream",
     "text": [
      "<class 'pandas.core.frame.DataFrame'>\n",
      "RangeIndex: 303 entries, 0 to 302\n",
      "Data columns (total 14 columns):\n",
      " #   Column    Non-Null Count  Dtype  \n",
      "---  ------    --------------  -----  \n",
      " 0   age       303 non-null    int64  \n",
      " 1   sex       303 non-null    int64  \n",
      " 2   cp        303 non-null    int64  \n",
      " 3   trestbps  303 non-null    int64  \n",
      " 4   chol      303 non-null    int64  \n",
      " 5   fbs       303 non-null    int64  \n",
      " 6   restecg   303 non-null    int64  \n",
      " 7   thalach   303 non-null    int64  \n",
      " 8   exang     303 non-null    int64  \n",
      " 9   oldpeak   303 non-null    float64\n",
      " 10  slope     303 non-null    int64  \n",
      " 11  ca        303 non-null    int64  \n",
      " 12  thal      303 non-null    int64  \n",
      " 13  target    303 non-null    int64  \n",
      "dtypes: float64(1), int64(13)\n",
      "memory usage: 33.3 KB\n"
     ]
    }
   ],
   "source": [
    "df.info()"
   ]
  },
  {
   "cell_type": "code",
   "execution_count": 13,
   "id": "adb6245a",
   "metadata": {},
   "outputs": [
    {
     "data": {
      "text/plain": [
       "age         0\n",
       "sex         0\n",
       "cp          0\n",
       "trestbps    0\n",
       "chol        0\n",
       "fbs         0\n",
       "restecg     0\n",
       "thalach     0\n",
       "exang       0\n",
       "oldpeak     0\n",
       "slope       0\n",
       "ca          0\n",
       "thal        0\n",
       "target      0\n",
       "dtype: int64"
      ]
     },
     "execution_count": 13,
     "metadata": {},
     "output_type": "execute_result"
    }
   ],
   "source": [
    "#Are there any missing values\n",
    "df.isna().sum()"
   ]
  },
  {
   "cell_type": "code",
   "execution_count": 14,
   "id": "245f0c4d",
   "metadata": {},
   "outputs": [
    {
     "data": {
      "text/html": [
       "<div>\n",
       "<style scoped>\n",
       "    .dataframe tbody tr th:only-of-type {\n",
       "        vertical-align: middle;\n",
       "    }\n",
       "\n",
       "    .dataframe tbody tr th {\n",
       "        vertical-align: top;\n",
       "    }\n",
       "\n",
       "    .dataframe thead th {\n",
       "        text-align: right;\n",
       "    }\n",
       "</style>\n",
       "<table border=\"1\" class=\"dataframe\">\n",
       "  <thead>\n",
       "    <tr style=\"text-align: right;\">\n",
       "      <th></th>\n",
       "      <th>age</th>\n",
       "      <th>sex</th>\n",
       "      <th>cp</th>\n",
       "      <th>trestbps</th>\n",
       "      <th>chol</th>\n",
       "      <th>fbs</th>\n",
       "      <th>restecg</th>\n",
       "      <th>thalach</th>\n",
       "      <th>exang</th>\n",
       "      <th>oldpeak</th>\n",
       "      <th>slope</th>\n",
       "      <th>ca</th>\n",
       "      <th>thal</th>\n",
       "      <th>target</th>\n",
       "    </tr>\n",
       "  </thead>\n",
       "  <tbody>\n",
       "    <tr>\n",
       "      <th>count</th>\n",
       "      <td>303.000000</td>\n",
       "      <td>303.000000</td>\n",
       "      <td>303.000000</td>\n",
       "      <td>303.000000</td>\n",
       "      <td>303.000000</td>\n",
       "      <td>303.000000</td>\n",
       "      <td>303.000000</td>\n",
       "      <td>303.000000</td>\n",
       "      <td>303.000000</td>\n",
       "      <td>303.000000</td>\n",
       "      <td>303.000000</td>\n",
       "      <td>303.000000</td>\n",
       "      <td>303.000000</td>\n",
       "      <td>303.000000</td>\n",
       "    </tr>\n",
       "    <tr>\n",
       "      <th>mean</th>\n",
       "      <td>54.366337</td>\n",
       "      <td>0.683168</td>\n",
       "      <td>0.966997</td>\n",
       "      <td>131.623762</td>\n",
       "      <td>246.264026</td>\n",
       "      <td>0.148515</td>\n",
       "      <td>0.528053</td>\n",
       "      <td>149.646865</td>\n",
       "      <td>0.326733</td>\n",
       "      <td>1.039604</td>\n",
       "      <td>1.399340</td>\n",
       "      <td>0.729373</td>\n",
       "      <td>2.313531</td>\n",
       "      <td>0.544554</td>\n",
       "    </tr>\n",
       "    <tr>\n",
       "      <th>std</th>\n",
       "      <td>9.082101</td>\n",
       "      <td>0.466011</td>\n",
       "      <td>1.032052</td>\n",
       "      <td>17.538143</td>\n",
       "      <td>51.830751</td>\n",
       "      <td>0.356198</td>\n",
       "      <td>0.525860</td>\n",
       "      <td>22.905161</td>\n",
       "      <td>0.469794</td>\n",
       "      <td>1.161075</td>\n",
       "      <td>0.616226</td>\n",
       "      <td>1.022606</td>\n",
       "      <td>0.612277</td>\n",
       "      <td>0.498835</td>\n",
       "    </tr>\n",
       "    <tr>\n",
       "      <th>min</th>\n",
       "      <td>29.000000</td>\n",
       "      <td>0.000000</td>\n",
       "      <td>0.000000</td>\n",
       "      <td>94.000000</td>\n",
       "      <td>126.000000</td>\n",
       "      <td>0.000000</td>\n",
       "      <td>0.000000</td>\n",
       "      <td>71.000000</td>\n",
       "      <td>0.000000</td>\n",
       "      <td>0.000000</td>\n",
       "      <td>0.000000</td>\n",
       "      <td>0.000000</td>\n",
       "      <td>0.000000</td>\n",
       "      <td>0.000000</td>\n",
       "    </tr>\n",
       "    <tr>\n",
       "      <th>25%</th>\n",
       "      <td>47.500000</td>\n",
       "      <td>0.000000</td>\n",
       "      <td>0.000000</td>\n",
       "      <td>120.000000</td>\n",
       "      <td>211.000000</td>\n",
       "      <td>0.000000</td>\n",
       "      <td>0.000000</td>\n",
       "      <td>133.500000</td>\n",
       "      <td>0.000000</td>\n",
       "      <td>0.000000</td>\n",
       "      <td>1.000000</td>\n",
       "      <td>0.000000</td>\n",
       "      <td>2.000000</td>\n",
       "      <td>0.000000</td>\n",
       "    </tr>\n",
       "    <tr>\n",
       "      <th>50%</th>\n",
       "      <td>55.000000</td>\n",
       "      <td>1.000000</td>\n",
       "      <td>1.000000</td>\n",
       "      <td>130.000000</td>\n",
       "      <td>240.000000</td>\n",
       "      <td>0.000000</td>\n",
       "      <td>1.000000</td>\n",
       "      <td>153.000000</td>\n",
       "      <td>0.000000</td>\n",
       "      <td>0.800000</td>\n",
       "      <td>1.000000</td>\n",
       "      <td>0.000000</td>\n",
       "      <td>2.000000</td>\n",
       "      <td>1.000000</td>\n",
       "    </tr>\n",
       "    <tr>\n",
       "      <th>75%</th>\n",
       "      <td>61.000000</td>\n",
       "      <td>1.000000</td>\n",
       "      <td>2.000000</td>\n",
       "      <td>140.000000</td>\n",
       "      <td>274.500000</td>\n",
       "      <td>0.000000</td>\n",
       "      <td>1.000000</td>\n",
       "      <td>166.000000</td>\n",
       "      <td>1.000000</td>\n",
       "      <td>1.600000</td>\n",
       "      <td>2.000000</td>\n",
       "      <td>1.000000</td>\n",
       "      <td>3.000000</td>\n",
       "      <td>1.000000</td>\n",
       "    </tr>\n",
       "    <tr>\n",
       "      <th>max</th>\n",
       "      <td>77.000000</td>\n",
       "      <td>1.000000</td>\n",
       "      <td>3.000000</td>\n",
       "      <td>200.000000</td>\n",
       "      <td>564.000000</td>\n",
       "      <td>1.000000</td>\n",
       "      <td>2.000000</td>\n",
       "      <td>202.000000</td>\n",
       "      <td>1.000000</td>\n",
       "      <td>6.200000</td>\n",
       "      <td>2.000000</td>\n",
       "      <td>4.000000</td>\n",
       "      <td>3.000000</td>\n",
       "      <td>1.000000</td>\n",
       "    </tr>\n",
       "  </tbody>\n",
       "</table>\n",
       "</div>"
      ],
      "text/plain": [
       "              age         sex          cp    trestbps        chol         fbs  \\\n",
       "count  303.000000  303.000000  303.000000  303.000000  303.000000  303.000000   \n",
       "mean    54.366337    0.683168    0.966997  131.623762  246.264026    0.148515   \n",
       "std      9.082101    0.466011    1.032052   17.538143   51.830751    0.356198   \n",
       "min     29.000000    0.000000    0.000000   94.000000  126.000000    0.000000   \n",
       "25%     47.500000    0.000000    0.000000  120.000000  211.000000    0.000000   \n",
       "50%     55.000000    1.000000    1.000000  130.000000  240.000000    0.000000   \n",
       "75%     61.000000    1.000000    2.000000  140.000000  274.500000    0.000000   \n",
       "max     77.000000    1.000000    3.000000  200.000000  564.000000    1.000000   \n",
       "\n",
       "          restecg     thalach       exang     oldpeak       slope          ca  \\\n",
       "count  303.000000  303.000000  303.000000  303.000000  303.000000  303.000000   \n",
       "mean     0.528053  149.646865    0.326733    1.039604    1.399340    0.729373   \n",
       "std      0.525860   22.905161    0.469794    1.161075    0.616226    1.022606   \n",
       "min      0.000000   71.000000    0.000000    0.000000    0.000000    0.000000   \n",
       "25%      0.000000  133.500000    0.000000    0.000000    1.000000    0.000000   \n",
       "50%      1.000000  153.000000    0.000000    0.800000    1.000000    0.000000   \n",
       "75%      1.000000  166.000000    1.000000    1.600000    2.000000    1.000000   \n",
       "max      2.000000  202.000000    1.000000    6.200000    2.000000    4.000000   \n",
       "\n",
       "             thal      target  \n",
       "count  303.000000  303.000000  \n",
       "mean     2.313531    0.544554  \n",
       "std      0.612277    0.498835  \n",
       "min      0.000000    0.000000  \n",
       "25%      2.000000    0.000000  \n",
       "50%      2.000000    1.000000  \n",
       "75%      3.000000    1.000000  \n",
       "max      3.000000    1.000000  "
      ]
     },
     "execution_count": 14,
     "metadata": {},
     "output_type": "execute_result"
    }
   ],
   "source": [
    "df.describe()"
   ]
  },
  {
   "cell_type": "markdown",
   "id": "c10cb8c2",
   "metadata": {},
   "source": [
    "### Heart Disease Frequency according to Sex"
   ]
  },
  {
   "cell_type": "code",
   "execution_count": 15,
   "id": "53874e6a",
   "metadata": {},
   "outputs": [
    {
     "data": {
      "text/plain": [
       "1    207\n",
       "0     96\n",
       "Name: sex, dtype: int64"
      ]
     },
     "execution_count": 15,
     "metadata": {},
     "output_type": "execute_result"
    }
   ],
   "source": [
    "df.sex.value_counts()"
   ]
  },
  {
   "cell_type": "code",
   "execution_count": 16,
   "id": "3c36b285",
   "metadata": {},
   "outputs": [
    {
     "data": {
      "text/html": [
       "<div>\n",
       "<style scoped>\n",
       "    .dataframe tbody tr th:only-of-type {\n",
       "        vertical-align: middle;\n",
       "    }\n",
       "\n",
       "    .dataframe tbody tr th {\n",
       "        vertical-align: top;\n",
       "    }\n",
       "\n",
       "    .dataframe thead th {\n",
       "        text-align: right;\n",
       "    }\n",
       "</style>\n",
       "<table border=\"1\" class=\"dataframe\">\n",
       "  <thead>\n",
       "    <tr style=\"text-align: right;\">\n",
       "      <th>sex</th>\n",
       "      <th>0</th>\n",
       "      <th>1</th>\n",
       "    </tr>\n",
       "    <tr>\n",
       "      <th>target</th>\n",
       "      <th></th>\n",
       "      <th></th>\n",
       "    </tr>\n",
       "  </thead>\n",
       "  <tbody>\n",
       "    <tr>\n",
       "      <th>0</th>\n",
       "      <td>24</td>\n",
       "      <td>114</td>\n",
       "    </tr>\n",
       "    <tr>\n",
       "      <th>1</th>\n",
       "      <td>72</td>\n",
       "      <td>93</td>\n",
       "    </tr>\n",
       "  </tbody>\n",
       "</table>\n",
       "</div>"
      ],
      "text/plain": [
       "sex      0    1\n",
       "target         \n",
       "0       24  114\n",
       "1       72   93"
      ]
     },
     "execution_count": 16,
     "metadata": {},
     "output_type": "execute_result"
    }
   ],
   "source": [
    "# Compare target column with sex column\n",
    "pd.crosstab(df.target, df.sex)"
   ]
  },
  {
   "cell_type": "code",
   "execution_count": 17,
   "id": "426dd043",
   "metadata": {},
   "outputs": [
    {
     "data": {
      "image/png": "[encoded data removed]",
      "text/plain": [
       "<Figure size 720x360 with 1 Axes>"
      ]
     },
     "metadata": {
      "needs_background": "light"
     },
     "output_type": "display_data"
    }
   ],
   "source": [
    "# Creat a plot of crosstab\n",
    "pd.crosstab(df.target, df.sex).plot(kind=\"bar\", color=[\"brown\", \"blue\"], figsize=(10,5))\n",
    "plt.title(\"Heart Diease Frequency for Sex\")\n",
    "plt.xlabel(\"0= No Disease, 1= Disease\")\n",
    "plt.ylabel(\"Amount\")\n",
    "plt.yticks(np.arange(0,150,10))\n",
    "plt.legend([\"Female\",\"Male\"])\n",
    "plt.xticks(rotation=0);"
   ]
  },
  {
   "cell_type": "code",
   "execution_count": 18,
   "id": "15209dcd",
   "metadata": {},
   "outputs": [
    {
     "data": {
      "text/plain": [
       "162    11\n",
       "163     9\n",
       "160     9\n",
       "152     8\n",
       "173     8\n",
       "       ..\n",
       "128     1\n",
       "129     1\n",
       "134     1\n",
       "137     1\n",
       "202     1\n",
       "Name: thalach, Length: 91, dtype: int64"
      ]
     },
     "execution_count": 18,
     "metadata": {},
     "output_type": "execute_result"
    }
   ],
   "source": [
    "df[\"thalach\"].value_counts()"
   ]
  },
  {
   "cell_type": "markdown",
   "id": "cf7b85c6",
   "metadata": {},
   "source": [
    "## Age vs. Max Heart Rate for Heart Disease"
   ]
  },
  {
   "cell_type": "code",
   "execution_count": 19,
   "id": "708bdca8",
   "metadata": {},
   "outputs": [
    {
     "data": {
      "image/png": "[encoded data removed]",
      "text/plain": [
       "<Figure size 720x432 with 1 Axes>"
      ]
     },
     "metadata": {
      "needs_background": "light"
     },
     "output_type": "display_data"
    }
   ],
   "source": [
    "# Create another figure\n",
    "plt.figure(figsize=(10,6))\n",
    "\n",
    "#Scatter plot with positive examples\n",
    "plt.scatter(df.age[df.target==1], \n",
    "            df.thalach[df.target==1],\n",
    "            color =\"red\");\n",
    "\n",
    "#Scatter plot with negative examples\n",
    "plt.scatter(df.age[df.target==0], \n",
    "            df.thalach[df.target==0],\n",
    "            color =\"blue\");\n",
    "\n",
    "# Add info\n",
    "plt.title(\"Heart Diease based on Age and Max Heart Rate\")\n",
    "plt.xlabel(\"Age\")\n",
    "plt.ylabel(\"Max Heart Rate\")\n",
    "plt.legend([\"Heart Diease\", \"No Heart Diease\"]);"
   ]
  },
  {
   "cell_type": "code",
   "execution_count": 20,
   "id": "c1e625b5",
   "metadata": {},
   "outputs": [
    {
     "data": {
      "image/png": "[encoded data removed]",
      "text/plain": [
       "<Figure size 432x288 with 1 Axes>"
      ]
     },
     "metadata": {
      "needs_background": "light"
     },
     "output_type": "display_data"
    }
   ],
   "source": [
    "# Check distribution of Age \n",
    "df.age.plot.hist(color=\"lightblue\")\n",
    "plt.xlabel(\"Age\");"
   ]
  },
  {
   "cell_type": "markdown",
   "id": "b0e0e17c",
   "metadata": {},
   "source": [
    "### Heart Disease Frequency per Chest Pain\n",
    "cp = chest pain type (4 values) :\n",
    "+ 0: Typical angina: Chest pain related to decrease blood supply to the heart\n",
    "+ 1: Atypical angina: Chest pain not related to the heart\n",
    "+ 2: Non-angina: Typically esophageal spasms (non heart related)\n",
    "+ 3: Asymptomatic: chest pain not showing signs of disease\n",
    "\n"
   ]
  },
  {
   "cell_type": "code",
   "execution_count": 21,
   "id": "8ed0cd54",
   "metadata": {},
   "outputs": [
    {
     "data": {
      "text/html": [
       "<div>\n",
       "<style scoped>\n",
       "    .dataframe tbody tr th:only-of-type {\n",
       "        vertical-align: middle;\n",
       "    }\n",
       "\n",
       "    .dataframe tbody tr th {\n",
       "        vertical-align: top;\n",
       "    }\n",
       "\n",
       "    .dataframe thead th {\n",
       "        text-align: right;\n",
       "    }\n",
       "</style>\n",
       "<table border=\"1\" class=\"dataframe\">\n",
       "  <thead>\n",
       "    <tr style=\"text-align: right;\">\n",
       "      <th>target</th>\n",
       "      <th>0</th>\n",
       "      <th>1</th>\n",
       "    </tr>\n",
       "    <tr>\n",
       "      <th>cp</th>\n",
       "      <th></th>\n",
       "      <th></th>\n",
       "    </tr>\n",
       "  </thead>\n",
       "  <tbody>\n",
       "    <tr>\n",
       "      <th>0</th>\n",
       "      <td>104</td>\n",
       "      <td>39</td>\n",
       "    </tr>\n",
       "    <tr>\n",
       "      <th>1</th>\n",
       "      <td>9</td>\n",
       "      <td>41</td>\n",
       "    </tr>\n",
       "    <tr>\n",
       "      <th>2</th>\n",
       "      <td>18</td>\n",
       "      <td>69</td>\n",
       "    </tr>\n",
       "    <tr>\n",
       "      <th>3</th>\n",
       "      <td>7</td>\n",
       "      <td>16</td>\n",
       "    </tr>\n",
       "  </tbody>\n",
       "</table>\n",
       "</div>"
      ],
      "text/plain": [
       "target    0   1\n",
       "cp             \n",
       "0       104  39\n",
       "1         9  41\n",
       "2        18  69\n",
       "3         7  16"
      ]
     },
     "execution_count": 21,
     "metadata": {},
     "output_type": "execute_result"
    }
   ],
   "source": [
    "pd.crosstab(df.cp, df.target)"
   ]
  },
  {
   "cell_type": "code",
   "execution_count": 22,
   "id": "51f7a8bb",
   "metadata": {},
   "outputs": [
    {
     "data": {
      "image/png": "[encoded data removed]",
      "text/plain": [
       "<Figure size 720x360 with 1 Axes>"
      ]
     },
     "metadata": {
      "needs_background": "light"
     },
     "output_type": "display_data"
    }
   ],
   "source": [
    "# Make the crosstab more visual\n",
    "pd.crosstab(df.cp, df.target).plot(kind=\"bar\", \n",
    "                                   figsize=(10,5), \n",
    "                                   color= [\"brown\",\"navy\"])\n",
    "\n",
    "# Add additional information\n",
    "plt.title(\"Heart Disease Frequency per Chest Pain\")\n",
    "plt.xlabel(\"Chest Pain Type\")\n",
    "plt.ylabel(\"Amount\")\n",
    "plt.legend([\"No Heart Diease\", \"Heart Diease\"])\n",
    "plt.xticks(rotation=0);"
   ]
  },
  {
   "cell_type": "code",
   "execution_count": 23,
   "id": "cc8fd6c2",
   "metadata": {},
   "outputs": [
    {
     "data": {
      "text/html": [
       "<div>\n",
       "<style scoped>\n",
       "    .dataframe tbody tr th:only-of-type {\n",
       "        vertical-align: middle;\n",
       "    }\n",
       "\n",
       "    .dataframe tbody tr th {\n",
       "        vertical-align: top;\n",
       "    }\n",
       "\n",
       "    .dataframe thead th {\n",
       "        text-align: right;\n",
       "    }\n",
       "</style>\n",
       "<table border=\"1\" class=\"dataframe\">\n",
       "  <thead>\n",
       "    <tr style=\"text-align: right;\">\n",
       "      <th></th>\n",
       "      <th>age</th>\n",
       "      <th>sex</th>\n",
       "      <th>cp</th>\n",
       "      <th>trestbps</th>\n",
       "      <th>chol</th>\n",
       "      <th>fbs</th>\n",
       "      <th>restecg</th>\n",
       "      <th>thalach</th>\n",
       "      <th>exang</th>\n",
       "      <th>oldpeak</th>\n",
       "      <th>slope</th>\n",
       "      <th>ca</th>\n",
       "      <th>thal</th>\n",
       "      <th>target</th>\n",
       "    </tr>\n",
       "  </thead>\n",
       "  <tbody>\n",
       "    <tr>\n",
       "      <th>age</th>\n",
       "      <td>1.000000</td>\n",
       "      <td>-0.098447</td>\n",
       "      <td>-0.068653</td>\n",
       "      <td>0.279351</td>\n",
       "      <td>0.213678</td>\n",
       "      <td>0.121308</td>\n",
       "      <td>-0.116211</td>\n",
       "      <td>-0.398522</td>\n",
       "      <td>0.096801</td>\n",
       "      <td>0.210013</td>\n",
       "      <td>-0.168814</td>\n",
       "      <td>0.276326</td>\n",
       "      <td>0.068001</td>\n",
       "      <td>-0.225439</td>\n",
       "    </tr>\n",
       "    <tr>\n",
       "      <th>sex</th>\n",
       "      <td>-0.098447</td>\n",
       "      <td>1.000000</td>\n",
       "      <td>-0.049353</td>\n",
       "      <td>-0.056769</td>\n",
       "      <td>-0.197912</td>\n",
       "      <td>0.045032</td>\n",
       "      <td>-0.058196</td>\n",
       "      <td>-0.044020</td>\n",
       "      <td>0.141664</td>\n",
       "      <td>0.096093</td>\n",
       "      <td>-0.030711</td>\n",
       "      <td>0.118261</td>\n",
       "      <td>0.210041</td>\n",
       "      <td>-0.280937</td>\n",
       "    </tr>\n",
       "    <tr>\n",
       "      <th>cp</th>\n",
       "      <td>-0.068653</td>\n",
       "      <td>-0.049353</td>\n",
       "      <td>1.000000</td>\n",
       "      <td>0.047608</td>\n",
       "      <td>-0.076904</td>\n",
       "      <td>0.094444</td>\n",
       "      <td>0.044421</td>\n",
       "      <td>0.295762</td>\n",
       "      <td>-0.394280</td>\n",
       "      <td>-0.149230</td>\n",
       "      <td>0.119717</td>\n",
       "      <td>-0.181053</td>\n",
       "      <td>-0.161736</td>\n",
       "      <td>0.433798</td>\n",
       "    </tr>\n",
       "    <tr>\n",
       "      <th>trestbps</th>\n",
       "      <td>0.279351</td>\n",
       "      <td>-0.056769</td>\n",
       "      <td>0.047608</td>\n",
       "      <td>1.000000</td>\n",
       "      <td>0.123174</td>\n",
       "      <td>0.177531</td>\n",
       "      <td>-0.114103</td>\n",
       "      <td>-0.046698</td>\n",
       "      <td>0.067616</td>\n",
       "      <td>0.193216</td>\n",
       "      <td>-0.121475</td>\n",
       "      <td>0.101389</td>\n",
       "      <td>0.062210</td>\n",
       "      <td>-0.144931</td>\n",
       "    </tr>\n",
       "    <tr>\n",
       "      <th>chol</th>\n",
       "      <td>0.213678</td>\n",
       "      <td>-0.197912</td>\n",
       "      <td>-0.076904</td>\n",
       "      <td>0.123174</td>\n",
       "      <td>1.000000</td>\n",
       "      <td>0.013294</td>\n",
       "      <td>-0.151040</td>\n",
       "      <td>-0.009940</td>\n",
       "      <td>0.067023</td>\n",
       "      <td>0.053952</td>\n",
       "      <td>-0.004038</td>\n",
       "      <td>0.070511</td>\n",
       "      <td>0.098803</td>\n",
       "      <td>-0.085239</td>\n",
       "    </tr>\n",
       "    <tr>\n",
       "      <th>fbs</th>\n",
       "      <td>0.121308</td>\n",
       "      <td>0.045032</td>\n",
       "      <td>0.094444</td>\n",
       "      <td>0.177531</td>\n",
       "      <td>0.013294</td>\n",
       "      <td>1.000000</td>\n",
       "      <td>-0.084189</td>\n",
       "      <td>-0.008567</td>\n",
       "      <td>0.025665</td>\n",
       "      <td>0.005747</td>\n",
       "      <td>-0.059894</td>\n",
       "      <td>0.137979</td>\n",
       "      <td>-0.032019</td>\n",
       "      <td>-0.028046</td>\n",
       "    </tr>\n",
       "    <tr>\n",
       "      <th>restecg</th>\n",
       "      <td>-0.116211</td>\n",
       "      <td>-0.058196</td>\n",
       "      <td>0.044421</td>\n",
       "      <td>-0.114103</td>\n",
       "      <td>-0.151040</td>\n",
       "      <td>-0.084189</td>\n",
       "      <td>1.000000</td>\n",
       "      <td>0.044123</td>\n",
       "      <td>-0.070733</td>\n",
       "      <td>-0.058770</td>\n",
       "      <td>0.093045</td>\n",
       "      <td>-0.072042</td>\n",
       "      <td>-0.011981</td>\n",
       "      <td>0.137230</td>\n",
       "    </tr>\n",
       "    <tr>\n",
       "      <th>thalach</th>\n",
       "      <td>-0.398522</td>\n",
       "      <td>-0.044020</td>\n",
       "      <td>0.295762</td>\n",
       "      <td>-0.046698</td>\n",
       "      <td>-0.009940</td>\n",
       "      <td>-0.008567</td>\n",
       "      <td>0.044123</td>\n",
       "      <td>1.000000</td>\n",
       "      <td>-0.378812</td>\n",
       "      <td>-0.344187</td>\n",
       "      <td>0.386784</td>\n",
       "      <td>-0.213177</td>\n",
       "      <td>-0.096439</td>\n",
       "      <td>0.421741</td>\n",
       "    </tr>\n",
       "    <tr>\n",
       "      <th>exang</th>\n",
       "      <td>0.096801</td>\n",
       "      <td>0.141664</td>\n",
       "      <td>-0.394280</td>\n",
       "      <td>0.067616</td>\n",
       "      <td>0.067023</td>\n",
       "      <td>0.025665</td>\n",
       "      <td>-0.070733</td>\n",
       "      <td>-0.378812</td>\n",
       "      <td>1.000000</td>\n",
       "      <td>0.288223</td>\n",
       "      <td>-0.257748</td>\n",
       "      <td>0.115739</td>\n",
       "      <td>0.206754</td>\n",
       "      <td>-0.436757</td>\n",
       "    </tr>\n",
       "    <tr>\n",
       "      <th>oldpeak</th>\n",
       "      <td>0.210013</td>\n",
       "      <td>0.096093</td>\n",
       "      <td>-0.149230</td>\n",
       "      <td>0.193216</td>\n",
       "      <td>0.053952</td>\n",
       "      <td>0.005747</td>\n",
       "      <td>-0.058770</td>\n",
       "      <td>-0.344187</td>\n",
       "      <td>0.288223</td>\n",
       "      <td>1.000000</td>\n",
       "      <td>-0.577537</td>\n",
       "      <td>0.222682</td>\n",
       "      <td>0.210244</td>\n",
       "      <td>-0.430696</td>\n",
       "    </tr>\n",
       "    <tr>\n",
       "      <th>slope</th>\n",
       "      <td>-0.168814</td>\n",
       "      <td>-0.030711</td>\n",
       "      <td>0.119717</td>\n",
       "      <td>-0.121475</td>\n",
       "      <td>-0.004038</td>\n",
       "      <td>-0.059894</td>\n",
       "      <td>0.093045</td>\n",
       "      <td>0.386784</td>\n",
       "      <td>-0.257748</td>\n",
       "      <td>-0.577537</td>\n",
       "      <td>1.000000</td>\n",
       "      <td>-0.080155</td>\n",
       "      <td>-0.104764</td>\n",
       "      <td>0.345877</td>\n",
       "    </tr>\n",
       "    <tr>\n",
       "      <th>ca</th>\n",
       "      <td>0.276326</td>\n",
       "      <td>0.118261</td>\n",
       "      <td>-0.181053</td>\n",
       "      <td>0.101389</td>\n",
       "      <td>0.070511</td>\n",
       "      <td>0.137979</td>\n",
       "      <td>-0.072042</td>\n",
       "      <td>-0.213177</td>\n",
       "      <td>0.115739</td>\n",
       "      <td>0.222682</td>\n",
       "      <td>-0.080155</td>\n",
       "      <td>1.000000</td>\n",
       "      <td>0.151832</td>\n",
       "      <td>-0.391724</td>\n",
       "    </tr>\n",
       "    <tr>\n",
       "      <th>thal</th>\n",
       "      <td>0.068001</td>\n",
       "      <td>0.210041</td>\n",
       "      <td>-0.161736</td>\n",
       "      <td>0.062210</td>\n",
       "      <td>0.098803</td>\n",
       "      <td>-0.032019</td>\n",
       "      <td>-0.011981</td>\n",
       "      <td>-0.096439</td>\n",
       "      <td>0.206754</td>\n",
       "      <td>0.210244</td>\n",
       "      <td>-0.104764</td>\n",
       "      <td>0.151832</td>\n",
       "      <td>1.000000</td>\n",
       "      <td>-0.344029</td>\n",
       "    </tr>\n",
       "    <tr>\n",
       "      <th>target</th>\n",
       "      <td>-0.225439</td>\n",
       "      <td>-0.280937</td>\n",
       "      <td>0.433798</td>\n",
       "      <td>-0.144931</td>\n",
       "      <td>-0.085239</td>\n",
       "      <td>-0.028046</td>\n",
       "      <td>0.137230</td>\n",
       "      <td>0.421741</td>\n",
       "      <td>-0.436757</td>\n",
       "      <td>-0.430696</td>\n",
       "      <td>0.345877</td>\n",
       "      <td>-0.391724</td>\n",
       "      <td>-0.344029</td>\n",
       "      <td>1.000000</td>\n",
       "    </tr>\n",
       "  </tbody>\n",
       "</table>\n",
       "</div>"
      ],
      "text/plain": [
       "               age       sex        cp  trestbps      chol       fbs  \\\n",
       "age       1.000000 -0.098447 -0.068653  0.279351  0.213678  0.121308   \n",
       "sex      -0.098447  1.000000 -0.049353 -0.056769 -0.197912  0.045032   \n",
       "cp       -0.068653 -0.049353  1.000000  0.047608 -0.076904  0.094444   \n",
       "trestbps  0.279351 -0.056769  0.047608  1.000000  0.123174  0.177531   \n",
       "chol      0.213678 -0.197912 -0.076904  0.123174  1.000000  0.013294   \n",
       "fbs       0.121308  0.045032  0.094444  0.177531  0.013294  1.000000   \n",
       "restecg  -0.116211 -0.058196  0.044421 -0.114103 -0.151040 -0.084189   \n",
       "thalach  -0.398522 -0.044020  0.295762 -0.046698 -0.009940 -0.008567   \n",
       "exang     0.096801  0.141664 -0.394280  0.067616  0.067023  0.025665   \n",
       "oldpeak   0.210013  0.096093 -0.149230  0.193216  0.053952  0.005747   \n",
       "slope    -0.168814 -0.030711  0.119717 -0.121475 -0.004038 -0.059894   \n",
       "ca        0.276326  0.118261 -0.181053  0.101389  0.070511  0.137979   \n",
       "thal      0.068001  0.210041 -0.161736  0.062210  0.098803 -0.032019   \n",
       "target   -0.225439 -0.280937  0.433798 -0.144931 -0.085239 -0.028046   \n",
       "\n",
       "           restecg   thalach     exang   oldpeak     slope        ca  \\\n",
       "age      -0.116211 -0.398522  0.096801  0.210013 -0.168814  0.276326   \n",
       "sex      -0.058196 -0.044020  0.141664  0.096093 -0.030711  0.118261   \n",
       "cp        0.044421  0.295762 -0.394280 -0.149230  0.119717 -0.181053   \n",
       "trestbps -0.114103 -0.046698  0.067616  0.193216 -0.121475  0.101389   \n",
       "chol     -0.151040 -0.009940  0.067023  0.053952 -0.004038  0.070511   \n",
       "fbs      -0.084189 -0.008567  0.025665  0.005747 -0.059894  0.137979   \n",
       "restecg   1.000000  0.044123 -0.070733 -0.058770  0.093045 -0.072042   \n",
       "thalach   0.044123  1.000000 -0.378812 -0.344187  0.386784 -0.213177   \n",
       "exang    -0.070733 -0.378812  1.000000  0.288223 -0.257748  0.115739   \n",
       "oldpeak  -0.058770 -0.344187  0.288223  1.000000 -0.577537  0.222682   \n",
       "slope     0.093045  0.386784 -0.257748 -0.577537  1.000000 -0.080155   \n",
       "ca       -0.072042 -0.213177  0.115739  0.222682 -0.080155  1.000000   \n",
       "thal     -0.011981 -0.096439  0.206754  0.210244 -0.104764  0.151832   \n",
       "target    0.137230  0.421741 -0.436757 -0.430696  0.345877 -0.391724   \n",
       "\n",
       "              thal    target  \n",
       "age       0.068001 -0.225439  \n",
       "sex       0.210041 -0.280937  \n",
       "cp       -0.161736  0.433798  \n",
       "trestbps  0.062210 -0.144931  \n",
       "chol      0.098803 -0.085239  \n",
       "fbs      -0.032019 -0.028046  \n",
       "restecg  -0.011981  0.137230  \n",
       "thalach  -0.096439  0.421741  \n",
       "exang     0.206754 -0.436757  \n",
       "oldpeak   0.210244 -0.430696  \n",
       "slope    -0.104764  0.345877  \n",
       "ca        0.151832 -0.391724  \n",
       "thal      1.000000 -0.344029  \n",
       "target   -0.344029  1.000000  "
      ]
     },
     "execution_count": 23,
     "metadata": {},
     "output_type": "execute_result"
    }
   ],
   "source": [
    "df.corr()"
   ]
  },
  {
   "cell_type": "code",
   "execution_count": 24,
   "id": "dc4db7c9",
   "metadata": {},
   "outputs": [
    {
     "data": {
      "image/png": "[encoded data removed]",
      "text/plain": [
       "<Figure size 1080x720 with 2 Axes>"
      ]
     },
     "metadata": {
      "needs_background": "light"
     },
     "output_type": "display_data"
    }
   ],
   "source": [
    "# Check correlation using seaborn\n",
    "corr_matrix=df.corr()\n",
    "fig, ax =plt.subplots(figsize=(15,10))\n",
    "ax= sns.heatmap(corr_matrix,\n",
    "               annot= True,\n",
    "                linewidths=0.5,\n",
    "               fmt=\".2f\",\n",
    "               cmap=\"YlOrBr\")"
   ]
  },
  {
   "cell_type": "markdown",
   "id": "3004e5d2",
   "metadata": {},
   "source": [
    "## Modelling"
   ]
  },
  {
   "cell_type": "code",
   "execution_count": 25,
   "id": "7080a6e5",
   "metadata": {},
   "outputs": [],
   "source": [
    "# Split data in to X and y\n",
    "X= df.drop(\"target\", axis=1)\n",
    "y=df[\"target\"]"
   ]
  },
  {
   "cell_type": "code",
   "execution_count": 26,
   "id": "230ddfa7",
   "metadata": {},
   "outputs": [],
   "source": [
    "#Split data into train and testing sets\n",
    "np.random.seed(5)\n",
    "X_train,X_test, y_train, y_test= train_test_split(X,\n",
    "                                                  y,\n",
    "                                                  test_size=0.2)"
   ]
  },
  {
   "cell_type": "markdown",
   "id": "d6cc27c2",
   "metadata": {},
   "source": [
    "## Train different machine learning models, test on testing data and comparing the results\n",
    "\n",
    "+ Logistic Regression\n",
    "+ K-Nearest Neighbours Classifier\n",
    "+ Random Forest Classifier\n"
   ]
  },
  {
   "cell_type": "code",
   "execution_count": 27,
   "id": "db418dc1",
   "metadata": {},
   "outputs": [],
   "source": [
    "#Put models in dictionary\n",
    "models={\"Logistic Regression\": LogisticRegression(),\n",
    "       \"KNN\": KNeighborsClassifier(),\n",
    "       \"Random Forest\": RandomForestClassifier()}\n",
    "# Creat a function to fit and score model\n",
    "def fit_and_score(models, X_train, X_test, y_train, y_test):\n",
    "    \"\"\"\n",
    "    Fits and evaluates give machine learning models.\n",
    "    models: a dict of different Scikit-Learn machine learning models\n",
    "    X_train, y_train: training data\n",
    "    X_test, y_test: testing data\n",
    "    \"\"\"\n",
    "    #set random seed\n",
    "    np.random.seed(5)\n",
    "    #make a dictionary to keep model scores\n",
    "    model_scores={}\n",
    "    #Loop through the models\n",
    "    for name, model in models.items():\n",
    "        model.fit(X_train, y_train)\n",
    "        #Evaluate the model and append its score to model_scores\n",
    "        model_scores[name]=model.score(X_test,y_test)\n",
    "    return model_scores"
   ]
  },
  {
   "cell_type": "code",
   "execution_count": 28,
   "id": "5c6a3330",
   "metadata": {},
   "outputs": [
    {
     "name": "stderr",
     "output_type": "stream",
     "text": [
      "C:\\Users\\rohan\\Desktop\\sample_project_1\\heart-disease-project\\env\\enviroment.yml\\lib\\site-packages\\sklearn\\linear_model\\_logistic.py:763: ConvergenceWarning: lbfgs failed to converge (status=1):\n",
      "STOP: TOTAL NO. of ITERATIONS REACHED LIMIT.\n",
      "\n",
      "Increase the number of iterations (max_iter) or scale the data as shown in:\n",
      "    https://scikit-learn.org/stable/modules/preprocessing.html\n",
      "Please also refer to the documentation for alternative solver options:\n",
      "    https://scikit-learn.org/stable/modules/linear_model.html#logistic-regression\n",
      "  n_iter_i = _check_optimize_result(\n"
     ]
    },
    {
     "data": {
      "text/plain": [
       "{'Logistic Regression': 0.9180327868852459,\n",
       " 'KNN': 0.639344262295082,\n",
       " 'Random Forest': 0.9016393442622951}"
      ]
     },
     "execution_count": 28,
     "metadata": {},
     "output_type": "execute_result"
    }
   ],
   "source": [
    "model_scores=fit_and_score(models=models, X_train= X_train, X_test=X_test, y_train=y_train, y_test=y_test)\n",
    "model_scores"
   ]
  },
  {
   "cell_type": "markdown",
   "id": "e24b2547",
   "metadata": {},
   "source": [
    "## Model Comparison"
   ]
  },
  {
   "cell_type": "code",
   "execution_count": 29,
   "id": "e781c46f",
   "metadata": {},
   "outputs": [
    {
     "data": {
      "image/png": "[encoded data removed]",
      "text/plain": [
       "<Figure size 720x360 with 1 Axes>"
      ]
     },
     "metadata": {
      "needs_background": "light"
     },
     "output_type": "display_data"
    }
   ],
   "source": [
    "model_compare = pd.DataFrame(model_scores, index=[\"Accuracy\"])\n",
    "model_compare.plot(kind=\"bar\", figsize=(10,5))\n",
    "plt.xticks(rotation=0);"
   ]
  },
  {
   "cell_type": "code",
   "execution_count": 30,
   "id": "6900ea60",
   "metadata": {},
   "outputs": [
    {
     "data": {
      "image/png": "[encoded data removed]",
      "text/plain": [
       "<Figure size 720x360 with 1 Axes>"
      ]
     },
     "metadata": {
      "needs_background": "light"
     },
     "output_type": "display_data"
    }
   ],
   "source": [
    "model_compare.T.plot(kind=\"bar\", figsize=(10,5))\n",
    "plt.xticks(rotation=0);"
   ]
  },
  {
   "cell_type": "markdown",
   "id": "e3461a85",
   "metadata": {},
   "source": [
    "# Try to improve baseline models\n",
    "+ Hyper parameter tuning\n",
    "+ Feature importance\n",
    "+ Confusion Matrix\n",
    "+ Cross-validation\n",
    "+ Precision\n",
    "+ Recall\n",
    "+ F1 score\n",
    "+ Classification report\n",
    "+ ROC curve\n",
    "+ Area under the curve(AUC)\n",
    "\n",
    "# Hyperparameter Tuning- KNN"
   ]
  },
  {
   "cell_type": "code",
   "execution_count": 31,
   "id": "bb436193",
   "metadata": {},
   "outputs": [],
   "source": [
    "train_scores= []\n",
    "test_scores= []\n",
    "\n",
    "np.random.seed(5)\n",
    "#Create a list of different values of n_neightbors\n",
    "neighbors = range(1,21)\n",
    "\n",
    "#Setup KNN instance\n",
    "knn= KNeighborsClassifier()\n",
    "\n",
    "# Loop through different n_nieghbors\n",
    "\n",
    "for i in neighbors:\n",
    "    knn.set_params(n_neighbors= i)\n",
    "    #Fit the algorithm\n",
    "    knn.fit(X_train, y_train)\n",
    "    \n",
    "    #update training scores list\n",
    "    \n",
    "    train_scores.append(knn.score(X_train, y_train))\n",
    "    \n",
    "    #update testing scores list\n",
    "    test_scores.append(knn.score(X_test,y_test))\n",
    "    "
   ]
  },
  {
   "cell_type": "code",
   "execution_count": 32,
   "id": "67e784e1",
   "metadata": {},
   "outputs": [
    {
     "data": {
      "text/plain": [
       "[0.5901639344262295,\n",
       " 0.6229508196721312,\n",
       " 0.6229508196721312,\n",
       " 0.639344262295082,\n",
       " 0.639344262295082,\n",
       " 0.7049180327868853,\n",
       " 0.7049180327868853,\n",
       " 0.6721311475409836,\n",
       " 0.6885245901639344,\n",
       " 0.7049180327868853,\n",
       " 0.6721311475409836,\n",
       " 0.6557377049180327,\n",
       " 0.6557377049180327,\n",
       " 0.6229508196721312,\n",
       " 0.6065573770491803,\n",
       " 0.5901639344262295,\n",
       " 0.6229508196721312,\n",
       " 0.6557377049180327,\n",
       " 0.6885245901639344,\n",
       " 0.639344262295082]"
      ]
     },
     "execution_count": 32,
     "metadata": {},
     "output_type": "execute_result"
    }
   ],
   "source": [
    "test_scores"
   ]
  },
  {
   "cell_type": "code",
   "execution_count": 33,
   "id": "55c4e87a",
   "metadata": {},
   "outputs": [
    {
     "data": {
      "text/plain": [
       "Text(0.5, 1.0, 'Maximum KNN score on the test data: 70.49%')"
      ]
     },
     "execution_count": 33,
     "metadata": {},
     "output_type": "execute_result"
    },
    {
     "data": {
      "image/png": "[encoded data removed]",
      "text/plain": [
       "<Figure size 432x288 with 1 Axes>"
      ]
     },
     "metadata": {
      "needs_background": "light"
     },
     "output_type": "display_data"
    }
   ],
   "source": [
    "plt.plot(neighbors, train_scores, label=\"Train Scores\")\n",
    "plt.plot(neighbors, test_scores, label= \"Test Scores\")\n",
    "plt.xticks(np.arange(1,21,1))\n",
    "plt.xlabel(\"Number of Neighbours\")\n",
    "plt.ylabel(\"Model Score\")\n",
    "plt.legend()\n",
    "\n",
    "plt.title(f\"Maximum KNN score on the test data: {max(test_scores)*100:.2f}%\")"
   ]
  },
  {
   "cell_type": "markdown",
   "id": "2b3aeb4f",
   "metadata": {},
   "source": [
    "## Hyperparameter tuning with RandomizedSearchCV\n",
    "+ Logistic Regression  \n",
    "+ Random Forest Classifier"
   ]
  },
  {
   "cell_type": "code",
   "execution_count": 34,
   "id": "6da5f7be",
   "metadata": {},
   "outputs": [],
   "source": [
    "# Create a hyperparameter grid for LogisticRegression\n",
    "l_reg_grid={\"C\":np.logspace(-4,4,20),\n",
    "             \"solver\":[\"liblinear\"]}\n",
    "\n",
    "# Create a hyperparameter set for RandomForestClassifier\n",
    "rf_grid ={\"n_estimators\":np.arange(10,1000,50),\n",
    "         \"max_depth\": [None,3,5,10],\n",
    "         \"min_samples_split\":np.arange(2,20,2),\n",
    "         \"min_samples_leaf\": np.arange(1,20,2)}"
   ]
  },
  {
   "cell_type": "code",
   "execution_count": 35,
   "id": "6828e4ed",
   "metadata": {},
   "outputs": [
    {
     "name": "stdout",
     "output_type": "stream",
     "text": [
      "Fitting 5 folds for each of 20 candidates, totalling 100 fits\n"
     ]
    },
    {
     "data": {
      "text/plain": [
       "RandomizedSearchCV(cv=5, estimator=LogisticRegression(), n_iter=20,\n",
       "                   param_distributions={'C': array([1.00000000e-04, 2.63665090e-04, 6.95192796e-04, 1.83298071e-03,\n",
       "       4.83293024e-03, 1.27427499e-02, 3.35981829e-02, 8.85866790e-02,\n",
       "       2.33572147e-01, 6.15848211e-01, 1.62377674e+00, 4.28133240e+00,\n",
       "       1.12883789e+01, 2.97635144e+01, 7.84759970e+01, 2.06913808e+02,\n",
       "       5.45559478e+02, 1.43844989e+03, 3.79269019e+03, 1.00000000e+04]),\n",
       "                                        'solver': ['liblinear']},\n",
       "                   verbose=True)"
      ]
     },
     "execution_count": 35,
     "metadata": {},
     "output_type": "execute_result"
    }
   ],
   "source": [
    "np.random.seed(5)\n",
    "\n",
    "rm_log_reg= RandomizedSearchCV(LogisticRegression(),\n",
    "                               param_distributions=l_reg_grid,\n",
    "                               cv=5,\n",
    "                               n_iter=20,\n",
    "                               verbose=True)\n",
    "# Fit on training data\n",
    "rm_log_reg.fit(X_train, y_train)\n"
   ]
  },
  {
   "cell_type": "code",
   "execution_count": 36,
   "id": "0caa1daf",
   "metadata": {},
   "outputs": [
    {
     "data": {
      "text/plain": [
       "{'solver': 'liblinear', 'C': 4.281332398719396}"
      ]
     },
     "execution_count": 36,
     "metadata": {},
     "output_type": "execute_result"
    }
   ],
   "source": [
    "#checking best hyperparameter\n",
    "rm_log_reg.best_params_"
   ]
  },
  {
   "cell_type": "code",
   "execution_count": 37,
   "id": "ce812d49",
   "metadata": {},
   "outputs": [
    {
     "data": {
      "text/plain": [
       "0.8852459016393442"
      ]
     },
     "execution_count": 37,
     "metadata": {},
     "output_type": "execute_result"
    }
   ],
   "source": [
    "#check tuned model score\n",
    "rm_log_reg.score(X_test, y_test)"
   ]
  },
  {
   "cell_type": "code",
   "execution_count": 38,
   "id": "6b02b9de",
   "metadata": {},
   "outputs": [
    {
     "name": "stdout",
     "output_type": "stream",
     "text": [
      "Fitting 5 folds for each of 20 candidates, totalling 100 fits\n",
      "[CV] END max_depth=3, min_samples_leaf=13, min_samples_split=4, n_estimators=760; total time=   2.7s\n",
      "[CV] END max_depth=3, min_samples_leaf=13, min_samples_split=4, n_estimators=760; total time=   2.8s\n",
      "[CV] END max_depth=3, min_samples_leaf=13, min_samples_split=4, n_estimators=760; total time=   2.5s\n",
      "[CV] END max_depth=3, min_samples_leaf=13, min_samples_split=4, n_estimators=760; total time=   2.3s\n",
      "[CV] END max_depth=3, min_samples_leaf=13, min_samples_split=4, n_estimators=760; total time=   2.7s\n",
      "[CV] END max_depth=3, min_samples_leaf=5, min_samples_split=10, n_estimators=710; total time=   2.2s\n",
      "[CV] END max_depth=3, min_samples_leaf=5, min_samples_split=10, n_estimators=710; total time=   2.4s\n",
      "[CV] END max_depth=3, min_samples_leaf=5, min_samples_split=10, n_estimators=710; total time=   2.1s\n",
      "[CV] END max_depth=3, min_samples_leaf=5, min_samples_split=10, n_estimators=710; total time=   2.4s\n",
      "[CV] END max_depth=3, min_samples_leaf=5, min_samples_split=10, n_estimators=710; total time=   2.2s\n",
      "[CV] END max_depth=5, min_samples_leaf=5, min_samples_split=12, n_estimators=960; total time=   2.9s\n",
      "[CV] END max_depth=5, min_samples_leaf=5, min_samples_split=12, n_estimators=960; total time=   3.0s\n",
      "[CV] END max_depth=5, min_samples_leaf=5, min_samples_split=12, n_estimators=960; total time=   2.8s\n",
      "[CV] END max_depth=5, min_samples_leaf=5, min_samples_split=12, n_estimators=960; total time=   2.8s\n",
      "[CV] END max_depth=5, min_samples_leaf=5, min_samples_split=12, n_estimators=960; total time=   3.0s\n",
      "[CV] END max_depth=None, min_samples_leaf=19, min_samples_split=12, n_estimators=260; total time=   0.7s\n",
      "[CV] END max_depth=None, min_samples_leaf=19, min_samples_split=12, n_estimators=260; total time=   0.7s\n",
      "[CV] END max_depth=None, min_samples_leaf=19, min_samples_split=12, n_estimators=260; total time=   0.8s\n",
      "[CV] END max_depth=None, min_samples_leaf=19, min_samples_split=12, n_estimators=260; total time=   0.7s\n",
      "[CV] END max_depth=None, min_samples_leaf=19, min_samples_split=12, n_estimators=260; total time=   0.7s\n",
      "[CV] END max_depth=3, min_samples_leaf=13, min_samples_split=18, n_estimators=310; total time=   0.9s\n"
     ]
    },
    {
     "ename": "KeyboardInterrupt",
     "evalue": "",
     "output_type": "error",
     "traceback": [
      "\u001b[1;31m---------------------------------------------------------------------------\u001b[0m",
      "\u001b[1;31mEmpty\u001b[0m                                     Traceback (most recent call last)",
      "\u001b[1;32m~\\Desktop\\sample_project_1\\heart-disease-project\\env\\enviroment.yml\\lib\\site-packages\\joblib\\parallel.py\u001b[0m in \u001b[0;36mdispatch_one_batch\u001b[1;34m(self, iterator)\u001b[0m\n\u001b[0;32m    819\u001b[0m             \u001b[1;32mtry\u001b[0m\u001b[1;33m:\u001b[0m\u001b[1;33m\u001b[0m\u001b[1;33m\u001b[0m\u001b[0m\n\u001b[1;32m--> 820\u001b[1;33m                 \u001b[0mtasks\u001b[0m \u001b[1;33m=\u001b[0m \u001b[0mself\u001b[0m\u001b[1;33m.\u001b[0m\u001b[0m_ready_batches\u001b[0m\u001b[1;33m.\u001b[0m\u001b[0mget\u001b[0m\u001b[1;33m(\u001b[0m\u001b[0mblock\u001b[0m\u001b[1;33m=\u001b[0m\u001b[1;32mFalse\u001b[0m\u001b[1;33m)\u001b[0m\u001b[1;33m\u001b[0m\u001b[1;33m\u001b[0m\u001b[0m\n\u001b[0m\u001b[0;32m    821\u001b[0m             \u001b[1;32mexcept\u001b[0m \u001b[0mqueue\u001b[0m\u001b[1;33m.\u001b[0m\u001b[0mEmpty\u001b[0m\u001b[1;33m:\u001b[0m\u001b[1;33m\u001b[0m\u001b[1;33m\u001b[0m\u001b[0m\n",
      "\u001b[1;32m~\\Desktop\\sample_project_1\\heart-disease-project\\env\\enviroment.yml\\lib\\queue.py\u001b[0m in \u001b[0;36mget\u001b[1;34m(self, block, timeout)\u001b[0m\n\u001b[0;32m    167\u001b[0m                 \u001b[1;32mif\u001b[0m \u001b[1;32mnot\u001b[0m \u001b[0mself\u001b[0m\u001b[1;33m.\u001b[0m\u001b[0m_qsize\u001b[0m\u001b[1;33m(\u001b[0m\u001b[1;33m)\u001b[0m\u001b[1;33m:\u001b[0m\u001b[1;33m\u001b[0m\u001b[1;33m\u001b[0m\u001b[0m\n\u001b[1;32m--> 168\u001b[1;33m                     \u001b[1;32mraise\u001b[0m \u001b[0mEmpty\u001b[0m\u001b[1;33m\u001b[0m\u001b[1;33m\u001b[0m\u001b[0m\n\u001b[0m\u001b[0;32m    169\u001b[0m             \u001b[1;32melif\u001b[0m \u001b[0mtimeout\u001b[0m \u001b[1;32mis\u001b[0m \u001b[1;32mNone\u001b[0m\u001b[1;33m:\u001b[0m\u001b[1;33m\u001b[0m\u001b[1;33m\u001b[0m\u001b[0m\n",
      "\u001b[1;31mEmpty\u001b[0m: ",
      "\nDuring handling of the above exception, another exception occurred:\n",
      "\u001b[1;31mKeyboardInterrupt\u001b[0m                         Traceback (most recent call last)",
      "\u001b[1;32m<ipython-input-38-96bf91b521c6>\u001b[0m in \u001b[0;36m<module>\u001b[1;34m\u001b[0m\n\u001b[0;32m      8\u001b[0m                                verbose=2)\n\u001b[0;32m      9\u001b[0m \u001b[1;31m# Fit on training data\u001b[0m\u001b[1;33m\u001b[0m\u001b[1;33m\u001b[0m\u001b[1;33m\u001b[0m\u001b[0m\n\u001b[1;32m---> 10\u001b[1;33m \u001b[0mrm_rf_cl\u001b[0m\u001b[1;33m.\u001b[0m\u001b[0mfit\u001b[0m\u001b[1;33m(\u001b[0m\u001b[0mX_train\u001b[0m\u001b[1;33m,\u001b[0m \u001b[0my_train\u001b[0m\u001b[1;33m)\u001b[0m\u001b[1;33m\u001b[0m\u001b[1;33m\u001b[0m\u001b[0m\n\u001b[0m\u001b[0;32m     11\u001b[0m \u001b[1;33m\u001b[0m\u001b[0m\n",
      "\u001b[1;32m~\\Desktop\\sample_project_1\\heart-disease-project\\env\\enviroment.yml\\lib\\site-packages\\sklearn\\utils\\validation.py\u001b[0m in \u001b[0;36minner_f\u001b[1;34m(*args, **kwargs)\u001b[0m\n\u001b[0;32m     61\u001b[0m             \u001b[0mextra_args\u001b[0m \u001b[1;33m=\u001b[0m \u001b[0mlen\u001b[0m\u001b[1;33m(\u001b[0m\u001b[0margs\u001b[0m\u001b[1;33m)\u001b[0m \u001b[1;33m-\u001b[0m \u001b[0mlen\u001b[0m\u001b[1;33m(\u001b[0m\u001b[0mall_args\u001b[0m\u001b[1;33m)\u001b[0m\u001b[1;33m\u001b[0m\u001b[1;33m\u001b[0m\u001b[0m\n\u001b[0;32m     62\u001b[0m             \u001b[1;32mif\u001b[0m \u001b[0mextra_args\u001b[0m \u001b[1;33m<=\u001b[0m \u001b[1;36m0\u001b[0m\u001b[1;33m:\u001b[0m\u001b[1;33m\u001b[0m\u001b[1;33m\u001b[0m\u001b[0m\n\u001b[1;32m---> 63\u001b[1;33m                 \u001b[1;32mreturn\u001b[0m \u001b[0mf\u001b[0m\u001b[1;33m(\u001b[0m\u001b[1;33m*\u001b[0m\u001b[0margs\u001b[0m\u001b[1;33m,\u001b[0m \u001b[1;33m**\u001b[0m\u001b[0mkwargs\u001b[0m\u001b[1;33m)\u001b[0m\u001b[1;33m\u001b[0m\u001b[1;33m\u001b[0m\u001b[0m\n\u001b[0m\u001b[0;32m     64\u001b[0m \u001b[1;33m\u001b[0m\u001b[0m\n\u001b[0;32m     65\u001b[0m             \u001b[1;31m# extra_args > 0\u001b[0m\u001b[1;33m\u001b[0m\u001b[1;33m\u001b[0m\u001b[1;33m\u001b[0m\u001b[0m\n",
      "\u001b[1;32m~\\Desktop\\sample_project_1\\heart-disease-project\\env\\enviroment.yml\\lib\\site-packages\\sklearn\\model_selection\\_search.py\u001b[0m in \u001b[0;36mfit\u001b[1;34m(self, X, y, groups, **fit_params)\u001b[0m\n\u001b[0;32m    839\u001b[0m                 \u001b[1;32mreturn\u001b[0m \u001b[0mresults\u001b[0m\u001b[1;33m\u001b[0m\u001b[1;33m\u001b[0m\u001b[0m\n\u001b[0;32m    840\u001b[0m \u001b[1;33m\u001b[0m\u001b[0m\n\u001b[1;32m--> 841\u001b[1;33m             \u001b[0mself\u001b[0m\u001b[1;33m.\u001b[0m\u001b[0m_run_search\u001b[0m\u001b[1;33m(\u001b[0m\u001b[0mevaluate_candidates\u001b[0m\u001b[1;33m)\u001b[0m\u001b[1;33m\u001b[0m\u001b[1;33m\u001b[0m\u001b[0m\n\u001b[0m\u001b[0;32m    842\u001b[0m \u001b[1;33m\u001b[0m\u001b[0m\n\u001b[0;32m    843\u001b[0m             \u001b[1;31m# multimetric is determined here because in the case of a callable\u001b[0m\u001b[1;33m\u001b[0m\u001b[1;33m\u001b[0m\u001b[1;33m\u001b[0m\u001b[0m\n",
      "\u001b[1;32m~\\Desktop\\sample_project_1\\heart-disease-project\\env\\enviroment.yml\\lib\\site-packages\\sklearn\\model_selection\\_search.py\u001b[0m in \u001b[0;36m_run_search\u001b[1;34m(self, evaluate_candidates)\u001b[0m\n\u001b[0;32m   1631\u001b[0m     \u001b[1;32mdef\u001b[0m \u001b[0m_run_search\u001b[0m\u001b[1;33m(\u001b[0m\u001b[0mself\u001b[0m\u001b[1;33m,\u001b[0m \u001b[0mevaluate_candidates\u001b[0m\u001b[1;33m)\u001b[0m\u001b[1;33m:\u001b[0m\u001b[1;33m\u001b[0m\u001b[1;33m\u001b[0m\u001b[0m\n\u001b[0;32m   1632\u001b[0m         \u001b[1;34m\"\"\"Search n_iter candidates from param_distributions\"\"\"\u001b[0m\u001b[1;33m\u001b[0m\u001b[1;33m\u001b[0m\u001b[0m\n\u001b[1;32m-> 1633\u001b[1;33m         evaluate_candidates(ParameterSampler(\n\u001b[0m\u001b[0;32m   1634\u001b[0m             \u001b[0mself\u001b[0m\u001b[1;33m.\u001b[0m\u001b[0mparam_distributions\u001b[0m\u001b[1;33m,\u001b[0m \u001b[0mself\u001b[0m\u001b[1;33m.\u001b[0m\u001b[0mn_iter\u001b[0m\u001b[1;33m,\u001b[0m\u001b[1;33m\u001b[0m\u001b[1;33m\u001b[0m\u001b[0m\n\u001b[0;32m   1635\u001b[0m             random_state=self.random_state))\n",
      "\u001b[1;32m~\\Desktop\\sample_project_1\\heart-disease-project\\env\\enviroment.yml\\lib\\site-packages\\sklearn\\model_selection\\_search.py\u001b[0m in \u001b[0;36mevaluate_candidates\u001b[1;34m(candidate_params, cv, more_results)\u001b[0m\n\u001b[0;32m    793\u001b[0m                               n_splits, n_candidates, n_candidates * n_splits))\n\u001b[0;32m    794\u001b[0m \u001b[1;33m\u001b[0m\u001b[0m\n\u001b[1;32m--> 795\u001b[1;33m                 out = parallel(delayed(_fit_and_score)(clone(base_estimator),\n\u001b[0m\u001b[0;32m    796\u001b[0m                                                        \u001b[0mX\u001b[0m\u001b[1;33m,\u001b[0m \u001b[0my\u001b[0m\u001b[1;33m,\u001b[0m\u001b[1;33m\u001b[0m\u001b[1;33m\u001b[0m\u001b[0m\n\u001b[0;32m    797\u001b[0m                                                        \u001b[0mtrain\u001b[0m\u001b[1;33m=\u001b[0m\u001b[0mtrain\u001b[0m\u001b[1;33m,\u001b[0m \u001b[0mtest\u001b[0m\u001b[1;33m=\u001b[0m\u001b[0mtest\u001b[0m\u001b[1;33m,\u001b[0m\u001b[1;33m\u001b[0m\u001b[1;33m\u001b[0m\u001b[0m\n",
      "\u001b[1;32m~\\Desktop\\sample_project_1\\heart-disease-project\\env\\enviroment.yml\\lib\\site-packages\\joblib\\parallel.py\u001b[0m in \u001b[0;36m__call__\u001b[1;34m(self, iterable)\u001b[0m\n\u001b[0;32m   1042\u001b[0m                 \u001b[0mself\u001b[0m\u001b[1;33m.\u001b[0m\u001b[0m_iterating\u001b[0m \u001b[1;33m=\u001b[0m \u001b[0mself\u001b[0m\u001b[1;33m.\u001b[0m\u001b[0m_original_iterator\u001b[0m \u001b[1;32mis\u001b[0m \u001b[1;32mnot\u001b[0m \u001b[1;32mNone\u001b[0m\u001b[1;33m\u001b[0m\u001b[1;33m\u001b[0m\u001b[0m\n\u001b[0;32m   1043\u001b[0m \u001b[1;33m\u001b[0m\u001b[0m\n\u001b[1;32m-> 1044\u001b[1;33m             \u001b[1;32mwhile\u001b[0m \u001b[0mself\u001b[0m\u001b[1;33m.\u001b[0m\u001b[0mdispatch_one_batch\u001b[0m\u001b[1;33m(\u001b[0m\u001b[0miterator\u001b[0m\u001b[1;33m)\u001b[0m\u001b[1;33m:\u001b[0m\u001b[1;33m\u001b[0m\u001b[1;33m\u001b[0m\u001b[0m\n\u001b[0m\u001b[0;32m   1045\u001b[0m                 \u001b[1;32mpass\u001b[0m\u001b[1;33m\u001b[0m\u001b[1;33m\u001b[0m\u001b[0m\n\u001b[0;32m   1046\u001b[0m \u001b[1;33m\u001b[0m\u001b[0m\n",
      "\u001b[1;32m~\\Desktop\\sample_project_1\\heart-disease-project\\env\\enviroment.yml\\lib\\site-packages\\joblib\\parallel.py\u001b[0m in \u001b[0;36mdispatch_one_batch\u001b[1;34m(self, iterator)\u001b[0m\n\u001b[0;32m    857\u001b[0m                 \u001b[1;32mreturn\u001b[0m \u001b[1;32mFalse\u001b[0m\u001b[1;33m\u001b[0m\u001b[1;33m\u001b[0m\u001b[0m\n\u001b[0;32m    858\u001b[0m             \u001b[1;32melse\u001b[0m\u001b[1;33m:\u001b[0m\u001b[1;33m\u001b[0m\u001b[1;33m\u001b[0m\u001b[0m\n\u001b[1;32m--> 859\u001b[1;33m                 \u001b[0mself\u001b[0m\u001b[1;33m.\u001b[0m\u001b[0m_dispatch\u001b[0m\u001b[1;33m(\u001b[0m\u001b[0mtasks\u001b[0m\u001b[1;33m)\u001b[0m\u001b[1;33m\u001b[0m\u001b[1;33m\u001b[0m\u001b[0m\n\u001b[0m\u001b[0;32m    860\u001b[0m                 \u001b[1;32mreturn\u001b[0m \u001b[1;32mTrue\u001b[0m\u001b[1;33m\u001b[0m\u001b[1;33m\u001b[0m\u001b[0m\n\u001b[0;32m    861\u001b[0m \u001b[1;33m\u001b[0m\u001b[0m\n",
      "\u001b[1;32m~\\Desktop\\sample_project_1\\heart-disease-project\\env\\enviroment.yml\\lib\\site-packages\\joblib\\parallel.py\u001b[0m in \u001b[0;36m_dispatch\u001b[1;34m(self, batch)\u001b[0m\n\u001b[0;32m    775\u001b[0m         \u001b[1;32mwith\u001b[0m \u001b[0mself\u001b[0m\u001b[1;33m.\u001b[0m\u001b[0m_lock\u001b[0m\u001b[1;33m:\u001b[0m\u001b[1;33m\u001b[0m\u001b[1;33m\u001b[0m\u001b[0m\n\u001b[0;32m    776\u001b[0m             \u001b[0mjob_idx\u001b[0m \u001b[1;33m=\u001b[0m \u001b[0mlen\u001b[0m\u001b[1;33m(\u001b[0m\u001b[0mself\u001b[0m\u001b[1;33m.\u001b[0m\u001b[0m_jobs\u001b[0m\u001b[1;33m)\u001b[0m\u001b[1;33m\u001b[0m\u001b[1;33m\u001b[0m\u001b[0m\n\u001b[1;32m--> 777\u001b[1;33m             \u001b[0mjob\u001b[0m \u001b[1;33m=\u001b[0m \u001b[0mself\u001b[0m\u001b[1;33m.\u001b[0m\u001b[0m_backend\u001b[0m\u001b[1;33m.\u001b[0m\u001b[0mapply_async\u001b[0m\u001b[1;33m(\u001b[0m\u001b[0mbatch\u001b[0m\u001b[1;33m,\u001b[0m \u001b[0mcallback\u001b[0m\u001b[1;33m=\u001b[0m\u001b[0mcb\u001b[0m\u001b[1;33m)\u001b[0m\u001b[1;33m\u001b[0m\u001b[1;33m\u001b[0m\u001b[0m\n\u001b[0m\u001b[0;32m    778\u001b[0m             \u001b[1;31m# A job can complete so quickly than its callback is\u001b[0m\u001b[1;33m\u001b[0m\u001b[1;33m\u001b[0m\u001b[1;33m\u001b[0m\u001b[0m\n\u001b[0;32m    779\u001b[0m             \u001b[1;31m# called before we get here, causing self._jobs to\u001b[0m\u001b[1;33m\u001b[0m\u001b[1;33m\u001b[0m\u001b[1;33m\u001b[0m\u001b[0m\n",
      "\u001b[1;32m~\\Desktop\\sample_project_1\\heart-disease-project\\env\\enviroment.yml\\lib\\site-packages\\joblib\\_parallel_backends.py\u001b[0m in \u001b[0;36mapply_async\u001b[1;34m(self, func, callback)\u001b[0m\n\u001b[0;32m    206\u001b[0m     \u001b[1;32mdef\u001b[0m \u001b[0mapply_async\u001b[0m\u001b[1;33m(\u001b[0m\u001b[0mself\u001b[0m\u001b[1;33m,\u001b[0m \u001b[0mfunc\u001b[0m\u001b[1;33m,\u001b[0m \u001b[0mcallback\u001b[0m\u001b[1;33m=\u001b[0m\u001b[1;32mNone\u001b[0m\u001b[1;33m)\u001b[0m\u001b[1;33m:\u001b[0m\u001b[1;33m\u001b[0m\u001b[1;33m\u001b[0m\u001b[0m\n\u001b[0;32m    207\u001b[0m         \u001b[1;34m\"\"\"Schedule a func to be run\"\"\"\u001b[0m\u001b[1;33m\u001b[0m\u001b[1;33m\u001b[0m\u001b[0m\n\u001b[1;32m--> 208\u001b[1;33m         \u001b[0mresult\u001b[0m \u001b[1;33m=\u001b[0m \u001b[0mImmediateResult\u001b[0m\u001b[1;33m(\u001b[0m\u001b[0mfunc\u001b[0m\u001b[1;33m)\u001b[0m\u001b[1;33m\u001b[0m\u001b[1;33m\u001b[0m\u001b[0m\n\u001b[0m\u001b[0;32m    209\u001b[0m         \u001b[1;32mif\u001b[0m \u001b[0mcallback\u001b[0m\u001b[1;33m:\u001b[0m\u001b[1;33m\u001b[0m\u001b[1;33m\u001b[0m\u001b[0m\n\u001b[0;32m    210\u001b[0m             \u001b[0mcallback\u001b[0m\u001b[1;33m(\u001b[0m\u001b[0mresult\u001b[0m\u001b[1;33m)\u001b[0m\u001b[1;33m\u001b[0m\u001b[1;33m\u001b[0m\u001b[0m\n",
      "\u001b[1;32m~\\Desktop\\sample_project_1\\heart-disease-project\\env\\enviroment.yml\\lib\\site-packages\\joblib\\_parallel_backends.py\u001b[0m in \u001b[0;36m__init__\u001b[1;34m(self, batch)\u001b[0m\n\u001b[0;32m    570\u001b[0m         \u001b[1;31m# Don't delay the application, to avoid keeping the input\u001b[0m\u001b[1;33m\u001b[0m\u001b[1;33m\u001b[0m\u001b[1;33m\u001b[0m\u001b[0m\n\u001b[0;32m    571\u001b[0m         \u001b[1;31m# arguments in memory\u001b[0m\u001b[1;33m\u001b[0m\u001b[1;33m\u001b[0m\u001b[1;33m\u001b[0m\u001b[0m\n\u001b[1;32m--> 572\u001b[1;33m         \u001b[0mself\u001b[0m\u001b[1;33m.\u001b[0m\u001b[0mresults\u001b[0m \u001b[1;33m=\u001b[0m \u001b[0mbatch\u001b[0m\u001b[1;33m(\u001b[0m\u001b[1;33m)\u001b[0m\u001b[1;33m\u001b[0m\u001b[1;33m\u001b[0m\u001b[0m\n\u001b[0m\u001b[0;32m    573\u001b[0m \u001b[1;33m\u001b[0m\u001b[0m\n\u001b[0;32m    574\u001b[0m     \u001b[1;32mdef\u001b[0m \u001b[0mget\u001b[0m\u001b[1;33m(\u001b[0m\u001b[0mself\u001b[0m\u001b[1;33m)\u001b[0m\u001b[1;33m:\u001b[0m\u001b[1;33m\u001b[0m\u001b[1;33m\u001b[0m\u001b[0m\n",
      "\u001b[1;32m~\\Desktop\\sample_project_1\\heart-disease-project\\env\\enviroment.yml\\lib\\site-packages\\joblib\\parallel.py\u001b[0m in \u001b[0;36m__call__\u001b[1;34m(self)\u001b[0m\n\u001b[0;32m    260\u001b[0m         \u001b[1;31m# change the default number of processes to -1\u001b[0m\u001b[1;33m\u001b[0m\u001b[1;33m\u001b[0m\u001b[1;33m\u001b[0m\u001b[0m\n\u001b[0;32m    261\u001b[0m         \u001b[1;32mwith\u001b[0m \u001b[0mparallel_backend\u001b[0m\u001b[1;33m(\u001b[0m\u001b[0mself\u001b[0m\u001b[1;33m.\u001b[0m\u001b[0m_backend\u001b[0m\u001b[1;33m,\u001b[0m \u001b[0mn_jobs\u001b[0m\u001b[1;33m=\u001b[0m\u001b[0mself\u001b[0m\u001b[1;33m.\u001b[0m\u001b[0m_n_jobs\u001b[0m\u001b[1;33m)\u001b[0m\u001b[1;33m:\u001b[0m\u001b[1;33m\u001b[0m\u001b[1;33m\u001b[0m\u001b[0m\n\u001b[1;32m--> 262\u001b[1;33m             return [func(*args, **kwargs)\n\u001b[0m\u001b[0;32m    263\u001b[0m                     for func, args, kwargs in self.items]\n\u001b[0;32m    264\u001b[0m \u001b[1;33m\u001b[0m\u001b[0m\n",
      "\u001b[1;32m~\\Desktop\\sample_project_1\\heart-disease-project\\env\\enviroment.yml\\lib\\site-packages\\joblib\\parallel.py\u001b[0m in \u001b[0;36m<listcomp>\u001b[1;34m(.0)\u001b[0m\n\u001b[0;32m    260\u001b[0m         \u001b[1;31m# change the default number of processes to -1\u001b[0m\u001b[1;33m\u001b[0m\u001b[1;33m\u001b[0m\u001b[1;33m\u001b[0m\u001b[0m\n\u001b[0;32m    261\u001b[0m         \u001b[1;32mwith\u001b[0m \u001b[0mparallel_backend\u001b[0m\u001b[1;33m(\u001b[0m\u001b[0mself\u001b[0m\u001b[1;33m.\u001b[0m\u001b[0m_backend\u001b[0m\u001b[1;33m,\u001b[0m \u001b[0mn_jobs\u001b[0m\u001b[1;33m=\u001b[0m\u001b[0mself\u001b[0m\u001b[1;33m.\u001b[0m\u001b[0m_n_jobs\u001b[0m\u001b[1;33m)\u001b[0m\u001b[1;33m:\u001b[0m\u001b[1;33m\u001b[0m\u001b[1;33m\u001b[0m\u001b[0m\n\u001b[1;32m--> 262\u001b[1;33m             return [func(*args, **kwargs)\n\u001b[0m\u001b[0;32m    263\u001b[0m                     for func, args, kwargs in self.items]\n\u001b[0;32m    264\u001b[0m \u001b[1;33m\u001b[0m\u001b[0m\n",
      "\u001b[1;32m~\\Desktop\\sample_project_1\\heart-disease-project\\env\\enviroment.yml\\lib\\site-packages\\sklearn\\utils\\fixes.py\u001b[0m in \u001b[0;36m__call__\u001b[1;34m(self, *args, **kwargs)\u001b[0m\n\u001b[0;32m    220\u001b[0m     \u001b[1;32mdef\u001b[0m \u001b[0m__call__\u001b[0m\u001b[1;33m(\u001b[0m\u001b[0mself\u001b[0m\u001b[1;33m,\u001b[0m \u001b[1;33m*\u001b[0m\u001b[0margs\u001b[0m\u001b[1;33m,\u001b[0m \u001b[1;33m**\u001b[0m\u001b[0mkwargs\u001b[0m\u001b[1;33m)\u001b[0m\u001b[1;33m:\u001b[0m\u001b[1;33m\u001b[0m\u001b[1;33m\u001b[0m\u001b[0m\n\u001b[0;32m    221\u001b[0m         \u001b[1;32mwith\u001b[0m \u001b[0mconfig_context\u001b[0m\u001b[1;33m(\u001b[0m\u001b[1;33m**\u001b[0m\u001b[0mself\u001b[0m\u001b[1;33m.\u001b[0m\u001b[0mconfig\u001b[0m\u001b[1;33m)\u001b[0m\u001b[1;33m:\u001b[0m\u001b[1;33m\u001b[0m\u001b[1;33m\u001b[0m\u001b[0m\n\u001b[1;32m--> 222\u001b[1;33m             \u001b[1;32mreturn\u001b[0m \u001b[0mself\u001b[0m\u001b[1;33m.\u001b[0m\u001b[0mfunction\u001b[0m\u001b[1;33m(\u001b[0m\u001b[1;33m*\u001b[0m\u001b[0margs\u001b[0m\u001b[1;33m,\u001b[0m \u001b[1;33m**\u001b[0m\u001b[0mkwargs\u001b[0m\u001b[1;33m)\u001b[0m\u001b[1;33m\u001b[0m\u001b[1;33m\u001b[0m\u001b[0m\n\u001b[0m",
      "\u001b[1;32m~\\Desktop\\sample_project_1\\heart-disease-project\\env\\enviroment.yml\\lib\\site-packages\\sklearn\\model_selection\\_validation.py\u001b[0m in \u001b[0;36m_fit_and_score\u001b[1;34m(estimator, X, y, scorer, train, test, verbose, parameters, fit_params, return_train_score, return_parameters, return_n_test_samples, return_times, return_estimator, split_progress, candidate_progress, error_score)\u001b[0m\n\u001b[0;32m    596\u001b[0m             \u001b[0mestimator\u001b[0m\u001b[1;33m.\u001b[0m\u001b[0mfit\u001b[0m\u001b[1;33m(\u001b[0m\u001b[0mX_train\u001b[0m\u001b[1;33m,\u001b[0m \u001b[1;33m**\u001b[0m\u001b[0mfit_params\u001b[0m\u001b[1;33m)\u001b[0m\u001b[1;33m\u001b[0m\u001b[1;33m\u001b[0m\u001b[0m\n\u001b[0;32m    597\u001b[0m         \u001b[1;32melse\u001b[0m\u001b[1;33m:\u001b[0m\u001b[1;33m\u001b[0m\u001b[1;33m\u001b[0m\u001b[0m\n\u001b[1;32m--> 598\u001b[1;33m             \u001b[0mestimator\u001b[0m\u001b[1;33m.\u001b[0m\u001b[0mfit\u001b[0m\u001b[1;33m(\u001b[0m\u001b[0mX_train\u001b[0m\u001b[1;33m,\u001b[0m \u001b[0my_train\u001b[0m\u001b[1;33m,\u001b[0m \u001b[1;33m**\u001b[0m\u001b[0mfit_params\u001b[0m\u001b[1;33m)\u001b[0m\u001b[1;33m\u001b[0m\u001b[1;33m\u001b[0m\u001b[0m\n\u001b[0m\u001b[0;32m    599\u001b[0m \u001b[1;33m\u001b[0m\u001b[0m\n\u001b[0;32m    600\u001b[0m     \u001b[1;32mexcept\u001b[0m \u001b[0mException\u001b[0m \u001b[1;32mas\u001b[0m \u001b[0me\u001b[0m\u001b[1;33m:\u001b[0m\u001b[1;33m\u001b[0m\u001b[1;33m\u001b[0m\u001b[0m\n",
      "\u001b[1;32m~\\Desktop\\sample_project_1\\heart-disease-project\\env\\enviroment.yml\\lib\\site-packages\\sklearn\\ensemble\\_forest.py\u001b[0m in \u001b[0;36mfit\u001b[1;34m(self, X, y, sample_weight)\u001b[0m\n\u001b[0;32m    385\u001b[0m             \u001b[1;31m# parallel_backend contexts set at a higher level,\u001b[0m\u001b[1;33m\u001b[0m\u001b[1;33m\u001b[0m\u001b[1;33m\u001b[0m\u001b[0m\n\u001b[0;32m    386\u001b[0m             \u001b[1;31m# since correctness does not rely on using threads.\u001b[0m\u001b[1;33m\u001b[0m\u001b[1;33m\u001b[0m\u001b[1;33m\u001b[0m\u001b[0m\n\u001b[1;32m--> 387\u001b[1;33m             trees = Parallel(n_jobs=self.n_jobs, verbose=self.verbose,\n\u001b[0m\u001b[0;32m    388\u001b[0m                              \u001b[1;33m**\u001b[0m\u001b[0m_joblib_parallel_args\u001b[0m\u001b[1;33m(\u001b[0m\u001b[0mprefer\u001b[0m\u001b[1;33m=\u001b[0m\u001b[1;34m'threads'\u001b[0m\u001b[1;33m)\u001b[0m\u001b[1;33m)\u001b[0m\u001b[1;33m(\u001b[0m\u001b[1;33m\u001b[0m\u001b[1;33m\u001b[0m\u001b[0m\n\u001b[0;32m    389\u001b[0m                 delayed(_parallel_build_trees)(\n",
      "\u001b[1;32m~\\Desktop\\sample_project_1\\heart-disease-project\\env\\enviroment.yml\\lib\\site-packages\\joblib\\parallel.py\u001b[0m in \u001b[0;36m__call__\u001b[1;34m(self, iterable)\u001b[0m\n\u001b[0;32m   1042\u001b[0m                 \u001b[0mself\u001b[0m\u001b[1;33m.\u001b[0m\u001b[0m_iterating\u001b[0m \u001b[1;33m=\u001b[0m \u001b[0mself\u001b[0m\u001b[1;33m.\u001b[0m\u001b[0m_original_iterator\u001b[0m \u001b[1;32mis\u001b[0m \u001b[1;32mnot\u001b[0m \u001b[1;32mNone\u001b[0m\u001b[1;33m\u001b[0m\u001b[1;33m\u001b[0m\u001b[0m\n\u001b[0;32m   1043\u001b[0m \u001b[1;33m\u001b[0m\u001b[0m\n\u001b[1;32m-> 1044\u001b[1;33m             \u001b[1;32mwhile\u001b[0m \u001b[0mself\u001b[0m\u001b[1;33m.\u001b[0m\u001b[0mdispatch_one_batch\u001b[0m\u001b[1;33m(\u001b[0m\u001b[0miterator\u001b[0m\u001b[1;33m)\u001b[0m\u001b[1;33m:\u001b[0m\u001b[1;33m\u001b[0m\u001b[1;33m\u001b[0m\u001b[0m\n\u001b[0m\u001b[0;32m   1045\u001b[0m                 \u001b[1;32mpass\u001b[0m\u001b[1;33m\u001b[0m\u001b[1;33m\u001b[0m\u001b[0m\n\u001b[0;32m   1046\u001b[0m \u001b[1;33m\u001b[0m\u001b[0m\n",
      "\u001b[1;32m~\\Desktop\\sample_project_1\\heart-disease-project\\env\\enviroment.yml\\lib\\site-packages\\joblib\\parallel.py\u001b[0m in \u001b[0;36mdispatch_one_batch\u001b[1;34m(self, iterator)\u001b[0m\n\u001b[0;32m    849\u001b[0m                                          \u001b[0mself\u001b[0m\u001b[1;33m.\u001b[0m\u001b[0m_reducer_callback\u001b[0m\u001b[1;33m,\u001b[0m\u001b[1;33m\u001b[0m\u001b[1;33m\u001b[0m\u001b[0m\n\u001b[0;32m    850\u001b[0m                                          self._pickle_cache)\n\u001b[1;32m--> 851\u001b[1;33m                     \u001b[0mself\u001b[0m\u001b[1;33m.\u001b[0m\u001b[0m_ready_batches\u001b[0m\u001b[1;33m.\u001b[0m\u001b[0mput\u001b[0m\u001b[1;33m(\u001b[0m\u001b[0mtasks\u001b[0m\u001b[1;33m)\u001b[0m\u001b[1;33m\u001b[0m\u001b[1;33m\u001b[0m\u001b[0m\n\u001b[0m\u001b[0;32m    852\u001b[0m \u001b[1;33m\u001b[0m\u001b[0m\n\u001b[0;32m    853\u001b[0m                 \u001b[1;31m# finally, get one task.\u001b[0m\u001b[1;33m\u001b[0m\u001b[1;33m\u001b[0m\u001b[1;33m\u001b[0m\u001b[0m\n",
      "\u001b[1;32m~\\Desktop\\sample_project_1\\heart-disease-project\\env\\enviroment.yml\\lib\\queue.py\u001b[0m in \u001b[0;36mput\u001b[1;34m(self, item, block, timeout)\u001b[0m\n\u001b[0;32m    150\u001b[0m             \u001b[0mself\u001b[0m\u001b[1;33m.\u001b[0m\u001b[0m_put\u001b[0m\u001b[1;33m(\u001b[0m\u001b[0mitem\u001b[0m\u001b[1;33m)\u001b[0m\u001b[1;33m\u001b[0m\u001b[1;33m\u001b[0m\u001b[0m\n\u001b[0;32m    151\u001b[0m             \u001b[0mself\u001b[0m\u001b[1;33m.\u001b[0m\u001b[0munfinished_tasks\u001b[0m \u001b[1;33m+=\u001b[0m \u001b[1;36m1\u001b[0m\u001b[1;33m\u001b[0m\u001b[1;33m\u001b[0m\u001b[0m\n\u001b[1;32m--> 152\u001b[1;33m             \u001b[0mself\u001b[0m\u001b[1;33m.\u001b[0m\u001b[0mnot_empty\u001b[0m\u001b[1;33m.\u001b[0m\u001b[0mnotify\u001b[0m\u001b[1;33m(\u001b[0m\u001b[1;33m)\u001b[0m\u001b[1;33m\u001b[0m\u001b[1;33m\u001b[0m\u001b[0m\n\u001b[0m\u001b[0;32m    153\u001b[0m \u001b[1;33m\u001b[0m\u001b[0m\n\u001b[0;32m    154\u001b[0m     \u001b[1;32mdef\u001b[0m \u001b[0mget\u001b[0m\u001b[1;33m(\u001b[0m\u001b[0mself\u001b[0m\u001b[1;33m,\u001b[0m \u001b[0mblock\u001b[0m\u001b[1;33m=\u001b[0m\u001b[1;32mTrue\u001b[0m\u001b[1;33m,\u001b[0m \u001b[0mtimeout\u001b[0m\u001b[1;33m=\u001b[0m\u001b[1;32mNone\u001b[0m\u001b[1;33m)\u001b[0m\u001b[1;33m:\u001b[0m\u001b[1;33m\u001b[0m\u001b[1;33m\u001b[0m\u001b[0m\n",
      "\u001b[1;32m~\\Desktop\\sample_project_1\\heart-disease-project\\env\\enviroment.yml\\lib\\threading.py\u001b[0m in \u001b[0;36mnotify\u001b[1;34m(self, n)\u001b[0m\n\u001b[0;32m    362\u001b[0m             \u001b[1;32mraise\u001b[0m \u001b[0mRuntimeError\u001b[0m\u001b[1;33m(\u001b[0m\u001b[1;34m\"cannot notify on un-acquired lock\"\u001b[0m\u001b[1;33m)\u001b[0m\u001b[1;33m\u001b[0m\u001b[1;33m\u001b[0m\u001b[0m\n\u001b[0;32m    363\u001b[0m         \u001b[0mall_waiters\u001b[0m \u001b[1;33m=\u001b[0m \u001b[0mself\u001b[0m\u001b[1;33m.\u001b[0m\u001b[0m_waiters\u001b[0m\u001b[1;33m\u001b[0m\u001b[1;33m\u001b[0m\u001b[0m\n\u001b[1;32m--> 364\u001b[1;33m         \u001b[0mwaiters_to_notify\u001b[0m \u001b[1;33m=\u001b[0m \u001b[0m_deque\u001b[0m\u001b[1;33m(\u001b[0m\u001b[0m_islice\u001b[0m\u001b[1;33m(\u001b[0m\u001b[0mall_waiters\u001b[0m\u001b[1;33m,\u001b[0m \u001b[0mn\u001b[0m\u001b[1;33m)\u001b[0m\u001b[1;33m)\u001b[0m\u001b[1;33m\u001b[0m\u001b[1;33m\u001b[0m\u001b[0m\n\u001b[0m\u001b[0;32m    365\u001b[0m         \u001b[1;32mif\u001b[0m \u001b[1;32mnot\u001b[0m \u001b[0mwaiters_to_notify\u001b[0m\u001b[1;33m:\u001b[0m\u001b[1;33m\u001b[0m\u001b[1;33m\u001b[0m\u001b[0m\n\u001b[0;32m    366\u001b[0m             \u001b[1;32mreturn\u001b[0m\u001b[1;33m\u001b[0m\u001b[1;33m\u001b[0m\u001b[0m\n",
      "\u001b[1;31mKeyboardInterrupt\u001b[0m: "
     ]
    }
   ],
   "source": [
    "# Tuning Hyperparameters for Random Forest Classifier\n",
    "np.random.seed(5)\n",
    "\n",
    "rm_rf_cl= RandomizedSearchCV(RandomForestClassifier(),\n",
    "                               param_distributions=rf_grid,\n",
    "                               cv=5,\n",
    "                               n_iter=20,\n",
    "                               verbose=2)\n",
    "# Fit on training data\n",
    "rm_rf_cl.fit(X_train, y_train)\n",
    "\n"
   ]
  },
  {
   "cell_type": "code",
   "execution_count": 39,
   "id": "96b07823",
   "metadata": {},
   "outputs": [
    {
     "ename": "AttributeError",
     "evalue": "'RandomizedSearchCV' object has no attribute 'best_params_'",
     "output_type": "error",
     "traceback": [
      "\u001b[1;31m---------------------------------------------------------------------------\u001b[0m",
      "\u001b[1;31mAttributeError\u001b[0m                            Traceback (most recent call last)",
      "\u001b[1;32m<ipython-input-39-3f93c19ee0eb>\u001b[0m in \u001b[0;36m<module>\u001b[1;34m\u001b[0m\n\u001b[0;32m      1\u001b[0m \u001b[1;31m#checking best hyperparameter\u001b[0m\u001b[1;33m\u001b[0m\u001b[1;33m\u001b[0m\u001b[1;33m\u001b[0m\u001b[0m\n\u001b[1;32m----> 2\u001b[1;33m \u001b[0mrm_rf_cl\u001b[0m\u001b[1;33m.\u001b[0m\u001b[0mbest_params_\u001b[0m\u001b[1;33m\u001b[0m\u001b[1;33m\u001b[0m\u001b[0m\n\u001b[0m",
      "\u001b[1;31mAttributeError\u001b[0m: 'RandomizedSearchCV' object has no attribute 'best_params_'"
     ]
    }
   ],
   "source": [
    "#checking best hyperparameter\n",
    "rm_rf_cl.best_params_"
   ]
  },
  {
   "cell_type": "code",
   "execution_count": null,
   "id": "29964587",
   "metadata": {},
   "outputs": [],
   "source": [
    "#check tuned model score\n",
    "rm_rf_cl.score(X_test, y_test)"
   ]
  },
  {
   "cell_type": "code",
   "execution_count": null,
   "id": "6db6a3f8",
   "metadata": {},
   "outputs": [],
   "source": [
    "model_scores"
   ]
  },
  {
   "cell_type": "code",
   "execution_count": null,
   "id": "71bac004",
   "metadata": {},
   "outputs": [],
   "source": [
    "## Hyperparamter Tuning with GridSearch CV\n",
    "\n",
    "# Create a hyperparameter grid for LogisticRegression\n",
    "l_reg_grid={\"C\":np.logspace(-4,4,30),\n",
    "             \"solver\":[\"liblinear\"]}\n",
    "\n",
    "# Create a hyperparameter set for RandomForestClassifier\n",
    "rf_grid ={\"n_estimators\":np.arange(800,1000,50),\n",
    "         \"max_depth\": [None,5,10],\n",
    "         \"min_samples_split\":np.arange(2,10,2),\n",
    "         \"min_samples_leaf\": np.arange(16,20,2)}\n"
   ]
  },
  {
   "cell_type": "code",
   "execution_count": null,
   "id": "1e2a0897",
   "metadata": {},
   "outputs": [],
   "source": [
    "#hyperparameter for LogisticRegression\n",
    "\n",
    "np.random.seed(5)\n",
    "gs_log_reg= GridSearchCV(LogisticRegression(),\n",
    "                               param_grid=l_reg_grid,\n",
    "                               cv=5,\n",
    "                               verbose=True)\n",
    "# Fit on training data\n",
    "gs_log_reg.fit(X_train, y_train)"
   ]
  },
  {
   "cell_type": "code",
   "execution_count": null,
   "id": "728bbed1",
   "metadata": {},
   "outputs": [],
   "source": [
    "#checking best hyperparameter\n",
    "gs_log_reg.best_params_"
   ]
  },
  {
   "cell_type": "code",
   "execution_count": null,
   "id": "28699876",
   "metadata": {},
   "outputs": [],
   "source": [
    "#check tuned model score\n",
    "gs_log_reg.score(X_test, y_test)"
   ]
  },
  {
   "cell_type": "code",
   "execution_count": 329,
   "id": "47c24d73",
   "metadata": {},
   "outputs": [
    {
     "name": "stdout",
     "output_type": "stream",
     "text": [
      "Fitting 5 folds for each of 96 candidates, totalling 480 fits\n",
      "[CV] END max_depth=None, min_samples_leaf=16, min_samples_split=2, n_estimators=800; total time=   1.7s\n",
      "[CV] END max_depth=None, min_samples_leaf=16, min_samples_split=2, n_estimators=800; total time=   1.7s\n",
      "[CV] END max_depth=None, min_samples_leaf=16, min_samples_split=2, n_estimators=800; total time=   1.7s\n",
      "[CV] END max_depth=None, min_samples_leaf=16, min_samples_split=2, n_estimators=800; total time=   1.7s\n",
      "[CV] END max_depth=None, min_samples_leaf=16, min_samples_split=2, n_estimators=800; total time=   1.7s\n",
      "[CV] END max_depth=None, min_samples_leaf=16, min_samples_split=2, n_estimators=850; total time=   1.9s\n",
      "[CV] END max_depth=None, min_samples_leaf=16, min_samples_split=2, n_estimators=850; total time=   1.8s\n",
      "[CV] END max_depth=None, min_samples_leaf=16, min_samples_split=2, n_estimators=850; total time=   1.8s\n",
      "[CV] END max_depth=None, min_samples_leaf=16, min_samples_split=2, n_estimators=850; total time=   1.8s\n",
      "[CV] END max_depth=None, min_samples_leaf=16, min_samples_split=2, n_estimators=850; total time=   1.8s\n",
      "[CV] END max_depth=None, min_samples_leaf=16, min_samples_split=2, n_estimators=900; total time=   2.0s\n",
      "[CV] END max_depth=None, min_samples_leaf=16, min_samples_split=2, n_estimators=900; total time=   1.9s\n",
      "[CV] END max_depth=None, min_samples_leaf=16, min_samples_split=2, n_estimators=900; total time=   1.9s\n",
      "[CV] END max_depth=None, min_samples_leaf=16, min_samples_split=2, n_estimators=900; total time=   1.9s\n",
      "[CV] END max_depth=None, min_samples_leaf=16, min_samples_split=2, n_estimators=900; total time=   1.9s\n",
      "[CV] END max_depth=None, min_samples_leaf=16, min_samples_split=2, n_estimators=950; total time=   2.0s\n",
      "[CV] END max_depth=None, min_samples_leaf=16, min_samples_split=2, n_estimators=950; total time=   3.7s\n",
      "[CV] END max_depth=None, min_samples_leaf=16, min_samples_split=2, n_estimators=950; total time=   2.6s\n",
      "[CV] END max_depth=None, min_samples_leaf=16, min_samples_split=2, n_estimators=950; total time=   2.6s\n",
      "[CV] END max_depth=None, min_samples_leaf=16, min_samples_split=2, n_estimators=950; total time=   2.6s\n",
      "[CV] END max_depth=None, min_samples_leaf=16, min_samples_split=4, n_estimators=800; total time=   2.2s\n",
      "[CV] END max_depth=None, min_samples_leaf=16, min_samples_split=4, n_estimators=800; total time=   2.2s\n",
      "[CV] END max_depth=None, min_samples_leaf=16, min_samples_split=4, n_estimators=800; total time=   2.2s\n",
      "[CV] END max_depth=None, min_samples_leaf=16, min_samples_split=4, n_estimators=800; total time=   2.6s\n",
      "[CV] END max_depth=None, min_samples_leaf=16, min_samples_split=4, n_estimators=800; total time=   2.2s\n",
      "[CV] END max_depth=None, min_samples_leaf=16, min_samples_split=4, n_estimators=850; total time=   2.4s\n",
      "[CV] END max_depth=None, min_samples_leaf=16, min_samples_split=4, n_estimators=850; total time=   2.3s\n",
      "[CV] END max_depth=None, min_samples_leaf=16, min_samples_split=4, n_estimators=850; total time=   2.3s\n",
      "[CV] END max_depth=None, min_samples_leaf=16, min_samples_split=4, n_estimators=850; total time=   2.3s\n",
      "[CV] END max_depth=None, min_samples_leaf=16, min_samples_split=4, n_estimators=850; total time=   2.3s\n",
      "[CV] END max_depth=None, min_samples_leaf=16, min_samples_split=4, n_estimators=900; total time=   2.5s\n",
      "[CV] END max_depth=None, min_samples_leaf=16, min_samples_split=4, n_estimators=900; total time=   2.5s\n",
      "[CV] END max_depth=None, min_samples_leaf=16, min_samples_split=4, n_estimators=900; total time=   2.5s\n",
      "[CV] END max_depth=None, min_samples_leaf=16, min_samples_split=4, n_estimators=900; total time=   2.5s\n",
      "[CV] END max_depth=None, min_samples_leaf=16, min_samples_split=4, n_estimators=900; total time=   2.5s\n",
      "[CV] END max_depth=None, min_samples_leaf=16, min_samples_split=4, n_estimators=950; total time=   2.6s\n",
      "[CV] END max_depth=None, min_samples_leaf=16, min_samples_split=4, n_estimators=950; total time=   2.6s\n",
      "[CV] END max_depth=None, min_samples_leaf=16, min_samples_split=4, n_estimators=950; total time=   2.6s\n",
      "[CV] END max_depth=None, min_samples_leaf=16, min_samples_split=4, n_estimators=950; total time=   2.6s\n",
      "[CV] END max_depth=None, min_samples_leaf=16, min_samples_split=4, n_estimators=950; total time=   2.9s\n",
      "[CV] END max_depth=None, min_samples_leaf=16, min_samples_split=6, n_estimators=800; total time=   2.2s\n",
      "[CV] END max_depth=None, min_samples_leaf=16, min_samples_split=6, n_estimators=800; total time=   2.4s\n",
      "[CV] END max_depth=None, min_samples_leaf=16, min_samples_split=6, n_estimators=800; total time=   3.1s\n",
      "[CV] END max_depth=None, min_samples_leaf=16, min_samples_split=6, n_estimators=800; total time=   2.4s\n",
      "[CV] END max_depth=None, min_samples_leaf=16, min_samples_split=6, n_estimators=800; total time=   2.2s\n",
      "[CV] END max_depth=None, min_samples_leaf=16, min_samples_split=6, n_estimators=850; total time=   2.3s\n",
      "[CV] END max_depth=None, min_samples_leaf=16, min_samples_split=6, n_estimators=850; total time=   2.3s\n",
      "[CV] END max_depth=None, min_samples_leaf=16, min_samples_split=6, n_estimators=850; total time=   2.3s\n",
      "[CV] END max_depth=None, min_samples_leaf=16, min_samples_split=6, n_estimators=850; total time=   2.3s\n",
      "[CV] END max_depth=None, min_samples_leaf=16, min_samples_split=6, n_estimators=850; total time=   2.3s\n",
      "[CV] END max_depth=None, min_samples_leaf=16, min_samples_split=6, n_estimators=900; total time=   2.5s\n",
      "[CV] END max_depth=None, min_samples_leaf=16, min_samples_split=6, n_estimators=900; total time=   2.5s\n",
      "[CV] END max_depth=None, min_samples_leaf=16, min_samples_split=6, n_estimators=900; total time=   2.5s\n",
      "[CV] END max_depth=None, min_samples_leaf=16, min_samples_split=6, n_estimators=900; total time=   2.5s\n",
      "[CV] END max_depth=None, min_samples_leaf=16, min_samples_split=6, n_estimators=900; total time=   2.5s\n",
      "[CV] END max_depth=None, min_samples_leaf=16, min_samples_split=6, n_estimators=950; total time=   3.0s\n",
      "[CV] END max_depth=None, min_samples_leaf=16, min_samples_split=6, n_estimators=950; total time=   2.7s\n",
      "[CV] END max_depth=None, min_samples_leaf=16, min_samples_split=6, n_estimators=950; total time=   2.9s\n",
      "[CV] END max_depth=None, min_samples_leaf=16, min_samples_split=6, n_estimators=950; total time=   3.4s\n",
      "[CV] END max_depth=None, min_samples_leaf=16, min_samples_split=6, n_estimators=950; total time=   2.6s\n",
      "[CV] END max_depth=None, min_samples_leaf=16, min_samples_split=8, n_estimators=800; total time=   2.2s\n",
      "[CV] END max_depth=None, min_samples_leaf=16, min_samples_split=8, n_estimators=800; total time=   2.2s\n",
      "[CV] END max_depth=None, min_samples_leaf=16, min_samples_split=8, n_estimators=800; total time=   2.2s\n",
      "[CV] END max_depth=None, min_samples_leaf=16, min_samples_split=8, n_estimators=800; total time=   2.2s\n",
      "[CV] END max_depth=None, min_samples_leaf=16, min_samples_split=8, n_estimators=800; total time=   2.2s\n",
      "[CV] END max_depth=None, min_samples_leaf=16, min_samples_split=8, n_estimators=850; total time=   2.4s\n",
      "[CV] END max_depth=None, min_samples_leaf=16, min_samples_split=8, n_estimators=850; total time=   2.3s\n",
      "[CV] END max_depth=None, min_samples_leaf=16, min_samples_split=8, n_estimators=850; total time=   2.3s\n",
      "[CV] END max_depth=None, min_samples_leaf=16, min_samples_split=8, n_estimators=850; total time=   2.3s\n",
      "[CV] END max_depth=None, min_samples_leaf=16, min_samples_split=8, n_estimators=850; total time=   2.3s\n",
      "[CV] END max_depth=None, min_samples_leaf=16, min_samples_split=8, n_estimators=900; total time=   2.5s\n",
      "[CV] END max_depth=None, min_samples_leaf=16, min_samples_split=8, n_estimators=900; total time=   2.5s\n",
      "[CV] END max_depth=None, min_samples_leaf=16, min_samples_split=8, n_estimators=900; total time=   2.5s\n",
      "[CV] END max_depth=None, min_samples_leaf=16, min_samples_split=8, n_estimators=900; total time=   2.5s\n",
      "[CV] END max_depth=None, min_samples_leaf=16, min_samples_split=8, n_estimators=900; total time=   2.5s\n",
      "[CV] END max_depth=None, min_samples_leaf=16, min_samples_split=8, n_estimators=950; total time=   2.6s\n",
      "[CV] END max_depth=None, min_samples_leaf=16, min_samples_split=8, n_estimators=950; total time=   2.6s\n",
      "[CV] END max_depth=None, min_samples_leaf=16, min_samples_split=8, n_estimators=950; total time=   2.6s\n",
      "[CV] END max_depth=None, min_samples_leaf=16, min_samples_split=8, n_estimators=950; total time=   2.6s\n"
     ]
    },
    {
     "name": "stdout",
     "output_type": "stream",
     "text": [
      "[CV] END max_depth=None, min_samples_leaf=16, min_samples_split=8, n_estimators=950; total time=   2.6s\n",
      "[CV] END max_depth=None, min_samples_leaf=18, min_samples_split=2, n_estimators=800; total time=   2.6s\n",
      "[CV] END max_depth=None, min_samples_leaf=18, min_samples_split=2, n_estimators=800; total time=   2.3s\n",
      "[CV] END max_depth=None, min_samples_leaf=18, min_samples_split=2, n_estimators=800; total time=   2.4s\n",
      "[CV] END max_depth=None, min_samples_leaf=18, min_samples_split=2, n_estimators=800; total time=   2.5s\n",
      "[CV] END max_depth=None, min_samples_leaf=18, min_samples_split=2, n_estimators=800; total time=   2.3s\n",
      "[CV] END max_depth=None, min_samples_leaf=18, min_samples_split=2, n_estimators=850; total time=   2.9s\n",
      "[CV] END max_depth=None, min_samples_leaf=18, min_samples_split=2, n_estimators=850; total time=   3.3s\n",
      "[CV] END max_depth=None, min_samples_leaf=18, min_samples_split=2, n_estimators=850; total time=   3.0s\n",
      "[CV] END max_depth=None, min_samples_leaf=18, min_samples_split=2, n_estimators=850; total time=   2.8s\n",
      "[CV] END max_depth=None, min_samples_leaf=18, min_samples_split=2, n_estimators=850; total time=   3.0s\n",
      "[CV] END max_depth=None, min_samples_leaf=18, min_samples_split=2, n_estimators=900; total time=   2.8s\n",
      "[CV] END max_depth=None, min_samples_leaf=18, min_samples_split=2, n_estimators=900; total time=   2.5s\n",
      "[CV] END max_depth=None, min_samples_leaf=18, min_samples_split=2, n_estimators=900; total time=   2.5s\n",
      "[CV] END max_depth=None, min_samples_leaf=18, min_samples_split=2, n_estimators=900; total time=   2.5s\n",
      "[CV] END max_depth=None, min_samples_leaf=18, min_samples_split=2, n_estimators=900; total time=   2.5s\n",
      "[CV] END max_depth=None, min_samples_leaf=18, min_samples_split=2, n_estimators=950; total time=   2.6s\n",
      "[CV] END max_depth=None, min_samples_leaf=18, min_samples_split=2, n_estimators=950; total time=   2.6s\n",
      "[CV] END max_depth=None, min_samples_leaf=18, min_samples_split=2, n_estimators=950; total time=   2.6s\n",
      "[CV] END max_depth=None, min_samples_leaf=18, min_samples_split=2, n_estimators=950; total time=   2.8s\n",
      "[CV] END max_depth=None, min_samples_leaf=18, min_samples_split=2, n_estimators=950; total time=   2.6s\n",
      "[CV] END max_depth=None, min_samples_leaf=18, min_samples_split=4, n_estimators=800; total time=   2.2s\n",
      "[CV] END max_depth=None, min_samples_leaf=18, min_samples_split=4, n_estimators=800; total time=   2.2s\n",
      "[CV] END max_depth=None, min_samples_leaf=18, min_samples_split=4, n_estimators=800; total time=   2.2s\n",
      "[CV] END max_depth=None, min_samples_leaf=18, min_samples_split=4, n_estimators=800; total time=   2.2s\n",
      "[CV] END max_depth=None, min_samples_leaf=18, min_samples_split=4, n_estimators=800; total time=   2.3s\n",
      "[CV] END max_depth=None, min_samples_leaf=18, min_samples_split=4, n_estimators=850; total time=   2.3s\n",
      "[CV] END max_depth=None, min_samples_leaf=18, min_samples_split=4, n_estimators=850; total time=   2.3s\n",
      "[CV] END max_depth=None, min_samples_leaf=18, min_samples_split=4, n_estimators=850; total time=   2.9s\n",
      "[CV] END max_depth=None, min_samples_leaf=18, min_samples_split=4, n_estimators=850; total time=   2.8s\n",
      "[CV] END max_depth=None, min_samples_leaf=18, min_samples_split=4, n_estimators=850; total time=   2.6s\n",
      "[CV] END max_depth=None, min_samples_leaf=18, min_samples_split=4, n_estimators=900; total time=   3.0s\n",
      "[CV] END max_depth=None, min_samples_leaf=18, min_samples_split=4, n_estimators=900; total time=   2.5s\n",
      "[CV] END max_depth=None, min_samples_leaf=18, min_samples_split=4, n_estimators=900; total time=   2.6s\n",
      "[CV] END max_depth=None, min_samples_leaf=18, min_samples_split=4, n_estimators=900; total time=   2.5s\n",
      "[CV] END max_depth=None, min_samples_leaf=18, min_samples_split=4, n_estimators=900; total time=   2.5s\n",
      "[CV] END max_depth=None, min_samples_leaf=18, min_samples_split=4, n_estimators=950; total time=   2.9s\n",
      "[CV] END max_depth=None, min_samples_leaf=18, min_samples_split=4, n_estimators=950; total time=   2.9s\n",
      "[CV] END max_depth=None, min_samples_leaf=18, min_samples_split=4, n_estimators=950; total time=   2.9s\n",
      "[CV] END max_depth=None, min_samples_leaf=18, min_samples_split=4, n_estimators=950; total time=   2.7s\n",
      "[CV] END max_depth=None, min_samples_leaf=18, min_samples_split=4, n_estimators=950; total time=   2.6s\n",
      "[CV] END max_depth=None, min_samples_leaf=18, min_samples_split=6, n_estimators=800; total time=   2.2s\n",
      "[CV] END max_depth=None, min_samples_leaf=18, min_samples_split=6, n_estimators=800; total time=   2.2s\n",
      "[CV] END max_depth=None, min_samples_leaf=18, min_samples_split=6, n_estimators=800; total time=   2.2s\n",
      "[CV] END max_depth=None, min_samples_leaf=18, min_samples_split=6, n_estimators=800; total time=   2.2s\n",
      "[CV] END max_depth=None, min_samples_leaf=18, min_samples_split=6, n_estimators=800; total time=   2.2s\n",
      "[CV] END max_depth=None, min_samples_leaf=18, min_samples_split=6, n_estimators=850; total time=   2.3s\n",
      "[CV] END max_depth=None, min_samples_leaf=18, min_samples_split=6, n_estimators=850; total time=   2.3s\n",
      "[CV] END max_depth=None, min_samples_leaf=18, min_samples_split=6, n_estimators=850; total time=   2.5s\n",
      "[CV] END max_depth=None, min_samples_leaf=18, min_samples_split=6, n_estimators=850; total time=   2.7s\n",
      "[CV] END max_depth=None, min_samples_leaf=18, min_samples_split=6, n_estimators=850; total time=   2.5s\n",
      "[CV] END max_depth=None, min_samples_leaf=18, min_samples_split=6, n_estimators=900; total time=   2.7s\n",
      "[CV] END max_depth=None, min_samples_leaf=18, min_samples_split=6, n_estimators=900; total time=   2.8s\n",
      "[CV] END max_depth=None, min_samples_leaf=18, min_samples_split=6, n_estimators=900; total time=   2.8s\n",
      "[CV] END max_depth=None, min_samples_leaf=18, min_samples_split=6, n_estimators=900; total time=   2.7s\n",
      "[CV] END max_depth=None, min_samples_leaf=18, min_samples_split=6, n_estimators=900; total time=   2.6s\n",
      "[CV] END max_depth=None, min_samples_leaf=18, min_samples_split=6, n_estimators=950; total time=   2.6s\n",
      "[CV] END max_depth=None, min_samples_leaf=18, min_samples_split=6, n_estimators=950; total time=   2.6s\n",
      "[CV] END max_depth=None, min_samples_leaf=18, min_samples_split=6, n_estimators=950; total time=   2.7s\n",
      "[CV] END max_depth=None, min_samples_leaf=18, min_samples_split=6, n_estimators=950; total time=   2.7s\n",
      "[CV] END max_depth=None, min_samples_leaf=18, min_samples_split=6, n_estimators=950; total time=   2.6s\n",
      "[CV] END max_depth=None, min_samples_leaf=18, min_samples_split=8, n_estimators=800; total time=   2.3s\n",
      "[CV] END max_depth=None, min_samples_leaf=18, min_samples_split=8, n_estimators=800; total time=   2.2s\n",
      "[CV] END max_depth=None, min_samples_leaf=18, min_samples_split=8, n_estimators=800; total time=   2.3s\n",
      "[CV] END max_depth=None, min_samples_leaf=18, min_samples_split=8, n_estimators=800; total time=   2.2s\n",
      "[CV] END max_depth=None, min_samples_leaf=18, min_samples_split=8, n_estimators=800; total time=   2.3s\n",
      "[CV] END max_depth=None, min_samples_leaf=18, min_samples_split=8, n_estimators=850; total time=   2.4s\n",
      "[CV] END max_depth=None, min_samples_leaf=18, min_samples_split=8, n_estimators=850; total time=   2.4s\n",
      "[CV] END max_depth=None, min_samples_leaf=18, min_samples_split=8, n_estimators=850; total time=   2.4s\n",
      "[CV] END max_depth=None, min_samples_leaf=18, min_samples_split=8, n_estimators=850; total time=   2.3s\n",
      "[CV] END max_depth=None, min_samples_leaf=18, min_samples_split=8, n_estimators=850; total time=   2.3s\n",
      "[CV] END max_depth=None, min_samples_leaf=18, min_samples_split=8, n_estimators=900; total time=   2.5s\n",
      "[CV] END max_depth=None, min_samples_leaf=18, min_samples_split=8, n_estimators=900; total time=   2.5s\n",
      "[CV] END max_depth=None, min_samples_leaf=18, min_samples_split=8, n_estimators=900; total time=   2.5s\n",
      "[CV] END max_depth=None, min_samples_leaf=18, min_samples_split=8, n_estimators=900; total time=   2.5s\n",
      "[CV] END max_depth=None, min_samples_leaf=18, min_samples_split=8, n_estimators=900; total time=   2.6s\n",
      "[CV] END max_depth=None, min_samples_leaf=18, min_samples_split=8, n_estimators=950; total time=   2.7s\n",
      "[CV] END max_depth=None, min_samples_leaf=18, min_samples_split=8, n_estimators=950; total time=   2.8s\n",
      "[CV] END max_depth=None, min_samples_leaf=18, min_samples_split=8, n_estimators=950; total time=   3.2s\n"
     ]
    },
    {
     "name": "stdout",
     "output_type": "stream",
     "text": [
      "[CV] END max_depth=None, min_samples_leaf=18, min_samples_split=8, n_estimators=950; total time=   2.8s\n",
      "[CV] END max_depth=None, min_samples_leaf=18, min_samples_split=8, n_estimators=950; total time=   2.6s\n",
      "[CV] END max_depth=5, min_samples_leaf=16, min_samples_split=2, n_estimators=800; total time=   2.2s\n",
      "[CV] END max_depth=5, min_samples_leaf=16, min_samples_split=2, n_estimators=800; total time=   2.2s\n",
      "[CV] END max_depth=5, min_samples_leaf=16, min_samples_split=2, n_estimators=800; total time=   2.2s\n",
      "[CV] END max_depth=5, min_samples_leaf=16, min_samples_split=2, n_estimators=800; total time=   2.2s\n",
      "[CV] END max_depth=5, min_samples_leaf=16, min_samples_split=2, n_estimators=800; total time=   2.2s\n",
      "[CV] END max_depth=5, min_samples_leaf=16, min_samples_split=2, n_estimators=850; total time=   2.3s\n",
      "[CV] END max_depth=5, min_samples_leaf=16, min_samples_split=2, n_estimators=850; total time=   2.3s\n",
      "[CV] END max_depth=5, min_samples_leaf=16, min_samples_split=2, n_estimators=850; total time=   2.3s\n",
      "[CV] END max_depth=5, min_samples_leaf=16, min_samples_split=2, n_estimators=850; total time=   2.3s\n",
      "[CV] END max_depth=5, min_samples_leaf=16, min_samples_split=2, n_estimators=850; total time=   2.3s\n",
      "[CV] END max_depth=5, min_samples_leaf=16, min_samples_split=2, n_estimators=900; total time=   2.5s\n",
      "[CV] END max_depth=5, min_samples_leaf=16, min_samples_split=2, n_estimators=900; total time=   2.5s\n",
      "[CV] END max_depth=5, min_samples_leaf=16, min_samples_split=2, n_estimators=900; total time=   2.5s\n",
      "[CV] END max_depth=5, min_samples_leaf=16, min_samples_split=2, n_estimators=900; total time=   2.5s\n",
      "[CV] END max_depth=5, min_samples_leaf=16, min_samples_split=2, n_estimators=900; total time=   2.4s\n",
      "[CV] END max_depth=5, min_samples_leaf=16, min_samples_split=2, n_estimators=950; total time=   2.6s\n",
      "[CV] END max_depth=5, min_samples_leaf=16, min_samples_split=2, n_estimators=950; total time=   2.6s\n",
      "[CV] END max_depth=5, min_samples_leaf=16, min_samples_split=2, n_estimators=950; total time=   2.6s\n",
      "[CV] END max_depth=5, min_samples_leaf=16, min_samples_split=2, n_estimators=950; total time=   2.6s\n",
      "[CV] END max_depth=5, min_samples_leaf=16, min_samples_split=2, n_estimators=950; total time=   2.6s\n",
      "[CV] END max_depth=5, min_samples_leaf=16, min_samples_split=4, n_estimators=800; total time=   2.4s\n",
      "[CV] END max_depth=5, min_samples_leaf=16, min_samples_split=4, n_estimators=800; total time=   2.2s\n",
      "[CV] END max_depth=5, min_samples_leaf=16, min_samples_split=4, n_estimators=800; total time=   2.2s\n",
      "[CV] END max_depth=5, min_samples_leaf=16, min_samples_split=4, n_estimators=800; total time=   2.2s\n",
      "[CV] END max_depth=5, min_samples_leaf=16, min_samples_split=4, n_estimators=800; total time=   2.2s\n",
      "[CV] END max_depth=5, min_samples_leaf=16, min_samples_split=4, n_estimators=850; total time=   2.6s\n",
      "[CV] END max_depth=5, min_samples_leaf=16, min_samples_split=4, n_estimators=850; total time=   2.5s\n",
      "[CV] END max_depth=5, min_samples_leaf=16, min_samples_split=4, n_estimators=850; total time=   3.2s\n",
      "[CV] END max_depth=5, min_samples_leaf=16, min_samples_split=4, n_estimators=850; total time=   2.7s\n",
      "[CV] END max_depth=5, min_samples_leaf=16, min_samples_split=4, n_estimators=850; total time=   2.9s\n",
      "[CV] END max_depth=5, min_samples_leaf=16, min_samples_split=4, n_estimators=900; total time=   2.5s\n",
      "[CV] END max_depth=5, min_samples_leaf=16, min_samples_split=4, n_estimators=900; total time=   2.5s\n",
      "[CV] END max_depth=5, min_samples_leaf=16, min_samples_split=4, n_estimators=900; total time=   2.5s\n",
      "[CV] END max_depth=5, min_samples_leaf=16, min_samples_split=4, n_estimators=900; total time=   2.5s\n",
      "[CV] END max_depth=5, min_samples_leaf=16, min_samples_split=4, n_estimators=900; total time=   2.4s\n",
      "[CV] END max_depth=5, min_samples_leaf=16, min_samples_split=4, n_estimators=950; total time=   2.6s\n",
      "[CV] END max_depth=5, min_samples_leaf=16, min_samples_split=4, n_estimators=950; total time=   2.6s\n",
      "[CV] END max_depth=5, min_samples_leaf=16, min_samples_split=4, n_estimators=950; total time=   2.6s\n",
      "[CV] END max_depth=5, min_samples_leaf=16, min_samples_split=4, n_estimators=950; total time=   2.6s\n",
      "[CV] END max_depth=5, min_samples_leaf=16, min_samples_split=4, n_estimators=950; total time=   2.6s\n",
      "[CV] END max_depth=5, min_samples_leaf=16, min_samples_split=6, n_estimators=800; total time=   2.2s\n",
      "[CV] END max_depth=5, min_samples_leaf=16, min_samples_split=6, n_estimators=800; total time=   2.2s\n",
      "[CV] END max_depth=5, min_samples_leaf=16, min_samples_split=6, n_estimators=800; total time=   2.2s\n",
      "[CV] END max_depth=5, min_samples_leaf=16, min_samples_split=6, n_estimators=800; total time=   2.2s\n",
      "[CV] END max_depth=5, min_samples_leaf=16, min_samples_split=6, n_estimators=800; total time=   2.2s\n",
      "[CV] END max_depth=5, min_samples_leaf=16, min_samples_split=6, n_estimators=850; total time=   2.4s\n",
      "[CV] END max_depth=5, min_samples_leaf=16, min_samples_split=6, n_estimators=850; total time=   2.3s\n",
      "[CV] END max_depth=5, min_samples_leaf=16, min_samples_split=6, n_estimators=850; total time=   2.3s\n",
      "[CV] END max_depth=5, min_samples_leaf=16, min_samples_split=6, n_estimators=850; total time=   2.3s\n",
      "[CV] END max_depth=5, min_samples_leaf=16, min_samples_split=6, n_estimators=850; total time=   2.3s\n",
      "[CV] END max_depth=5, min_samples_leaf=16, min_samples_split=6, n_estimators=900; total time=   2.5s\n",
      "[CV] END max_depth=5, min_samples_leaf=16, min_samples_split=6, n_estimators=900; total time=   2.8s\n",
      "[CV] END max_depth=5, min_samples_leaf=16, min_samples_split=6, n_estimators=900; total time=   3.9s\n",
      "[CV] END max_depth=5, min_samples_leaf=16, min_samples_split=6, n_estimators=900; total time=   2.8s\n",
      "[CV] END max_depth=5, min_samples_leaf=16, min_samples_split=6, n_estimators=900; total time=   4.3s\n",
      "[CV] END max_depth=5, min_samples_leaf=16, min_samples_split=6, n_estimators=950; total time=   3.7s\n",
      "[CV] END max_depth=5, min_samples_leaf=16, min_samples_split=6, n_estimators=950; total time=   5.0s\n",
      "[CV] END max_depth=5, min_samples_leaf=16, min_samples_split=6, n_estimators=950; total time=   6.8s\n",
      "[CV] END max_depth=5, min_samples_leaf=16, min_samples_split=6, n_estimators=950; total time=   4.7s\n",
      "[CV] END max_depth=5, min_samples_leaf=16, min_samples_split=6, n_estimators=950; total time=   4.3s\n",
      "[CV] END max_depth=5, min_samples_leaf=16, min_samples_split=8, n_estimators=800; total time=   4.1s\n",
      "[CV] END max_depth=5, min_samples_leaf=16, min_samples_split=8, n_estimators=800; total time=   3.1s\n",
      "[CV] END max_depth=5, min_samples_leaf=16, min_samples_split=8, n_estimators=800; total time=   2.5s\n",
      "[CV] END max_depth=5, min_samples_leaf=16, min_samples_split=8, n_estimators=800; total time=   2.3s\n",
      "[CV] END max_depth=5, min_samples_leaf=16, min_samples_split=8, n_estimators=800; total time=   2.2s\n",
      "[CV] END max_depth=5, min_samples_leaf=16, min_samples_split=8, n_estimators=850; total time=   2.5s\n",
      "[CV] END max_depth=5, min_samples_leaf=16, min_samples_split=8, n_estimators=850; total time=   3.7s\n",
      "[CV] END max_depth=5, min_samples_leaf=16, min_samples_split=8, n_estimators=850; total time=   2.9s\n",
      "[CV] END max_depth=5, min_samples_leaf=16, min_samples_split=8, n_estimators=850; total time=   3.1s\n",
      "[CV] END max_depth=5, min_samples_leaf=16, min_samples_split=8, n_estimators=850; total time=   3.1s\n",
      "[CV] END max_depth=5, min_samples_leaf=16, min_samples_split=8, n_estimators=900; total time=   2.5s\n",
      "[CV] END max_depth=5, min_samples_leaf=16, min_samples_split=8, n_estimators=900; total time=   2.7s\n",
      "[CV] END max_depth=5, min_samples_leaf=16, min_samples_split=8, n_estimators=900; total time=   2.5s\n",
      "[CV] END max_depth=5, min_samples_leaf=16, min_samples_split=8, n_estimators=900; total time=   2.7s\n",
      "[CV] END max_depth=5, min_samples_leaf=16, min_samples_split=8, n_estimators=900; total time=   3.2s\n",
      "[CV] END max_depth=5, min_samples_leaf=16, min_samples_split=8, n_estimators=950; total time=   2.6s\n",
      "[CV] END max_depth=5, min_samples_leaf=16, min_samples_split=8, n_estimators=950; total time=   2.6s\n",
      "[CV] END max_depth=5, min_samples_leaf=16, min_samples_split=8, n_estimators=950; total time=   2.6s\n",
      "[CV] END max_depth=5, min_samples_leaf=16, min_samples_split=8, n_estimators=950; total time=   2.6s\n",
      "[CV] END max_depth=5, min_samples_leaf=16, min_samples_split=8, n_estimators=950; total time=   2.7s\n"
     ]
    },
    {
     "name": "stdout",
     "output_type": "stream",
     "text": [
      "[CV] END max_depth=5, min_samples_leaf=18, min_samples_split=2, n_estimators=800; total time=   2.2s\n",
      "[CV] END max_depth=5, min_samples_leaf=18, min_samples_split=2, n_estimators=800; total time=   2.4s\n",
      "[CV] END max_depth=5, min_samples_leaf=18, min_samples_split=2, n_estimators=800; total time=   2.4s\n",
      "[CV] END max_depth=5, min_samples_leaf=18, min_samples_split=2, n_estimators=800; total time=   2.2s\n",
      "[CV] END max_depth=5, min_samples_leaf=18, min_samples_split=2, n_estimators=800; total time=   2.2s\n",
      "[CV] END max_depth=5, min_samples_leaf=18, min_samples_split=2, n_estimators=850; total time=   2.4s\n",
      "[CV] END max_depth=5, min_samples_leaf=18, min_samples_split=2, n_estimators=850; total time=   2.3s\n",
      "[CV] END max_depth=5, min_samples_leaf=18, min_samples_split=2, n_estimators=850; total time=   2.4s\n",
      "[CV] END max_depth=5, min_samples_leaf=18, min_samples_split=2, n_estimators=850; total time=   2.7s\n",
      "[CV] END max_depth=5, min_samples_leaf=18, min_samples_split=2, n_estimators=850; total time=   2.6s\n",
      "[CV] END max_depth=5, min_samples_leaf=18, min_samples_split=2, n_estimators=900; total time=   2.9s\n",
      "[CV] END max_depth=5, min_samples_leaf=18, min_samples_split=2, n_estimators=900; total time=   2.6s\n",
      "[CV] END max_depth=5, min_samples_leaf=18, min_samples_split=2, n_estimators=900; total time=   2.5s\n",
      "[CV] END max_depth=5, min_samples_leaf=18, min_samples_split=2, n_estimators=900; total time=   2.5s\n",
      "[CV] END max_depth=5, min_samples_leaf=18, min_samples_split=2, n_estimators=900; total time=   2.5s\n",
      "[CV] END max_depth=5, min_samples_leaf=18, min_samples_split=2, n_estimators=950; total time=   2.6s\n",
      "[CV] END max_depth=5, min_samples_leaf=18, min_samples_split=2, n_estimators=950; total time=   2.6s\n",
      "[CV] END max_depth=5, min_samples_leaf=18, min_samples_split=2, n_estimators=950; total time=   2.6s\n",
      "[CV] END max_depth=5, min_samples_leaf=18, min_samples_split=2, n_estimators=950; total time=   2.6s\n",
      "[CV] END max_depth=5, min_samples_leaf=18, min_samples_split=2, n_estimators=950; total time=   2.6s\n",
      "[CV] END max_depth=5, min_samples_leaf=18, min_samples_split=4, n_estimators=800; total time=   2.2s\n",
      "[CV] END max_depth=5, min_samples_leaf=18, min_samples_split=4, n_estimators=800; total time=   2.2s\n",
      "[CV] END max_depth=5, min_samples_leaf=18, min_samples_split=4, n_estimators=800; total time=   2.2s\n",
      "[CV] END max_depth=5, min_samples_leaf=18, min_samples_split=4, n_estimators=800; total time=   2.4s\n",
      "[CV] END max_depth=5, min_samples_leaf=18, min_samples_split=4, n_estimators=800; total time=   2.3s\n",
      "[CV] END max_depth=5, min_samples_leaf=18, min_samples_split=4, n_estimators=850; total time=   2.8s\n",
      "[CV] END max_depth=5, min_samples_leaf=18, min_samples_split=4, n_estimators=850; total time=   2.4s\n",
      "[CV] END max_depth=5, min_samples_leaf=18, min_samples_split=4, n_estimators=850; total time=   2.3s\n",
      "[CV] END max_depth=5, min_samples_leaf=18, min_samples_split=4, n_estimators=850; total time=   2.3s\n",
      "[CV] END max_depth=5, min_samples_leaf=18, min_samples_split=4, n_estimators=850; total time=   2.3s\n",
      "[CV] END max_depth=5, min_samples_leaf=18, min_samples_split=4, n_estimators=900; total time=   2.5s\n",
      "[CV] END max_depth=5, min_samples_leaf=18, min_samples_split=4, n_estimators=900; total time=   2.5s\n",
      "[CV] END max_depth=5, min_samples_leaf=18, min_samples_split=4, n_estimators=900; total time=   2.5s\n",
      "[CV] END max_depth=5, min_samples_leaf=18, min_samples_split=4, n_estimators=900; total time=   2.5s\n",
      "[CV] END max_depth=5, min_samples_leaf=18, min_samples_split=4, n_estimators=900; total time=   2.5s\n",
      "[CV] END max_depth=5, min_samples_leaf=18, min_samples_split=4, n_estimators=950; total time=   2.6s\n",
      "[CV] END max_depth=5, min_samples_leaf=18, min_samples_split=4, n_estimators=950; total time=   2.6s\n",
      "[CV] END max_depth=5, min_samples_leaf=18, min_samples_split=4, n_estimators=950; total time=   2.9s\n",
      "[CV] END max_depth=5, min_samples_leaf=18, min_samples_split=4, n_estimators=950; total time=   2.6s\n",
      "[CV] END max_depth=5, min_samples_leaf=18, min_samples_split=4, n_estimators=950; total time=   2.6s\n",
      "[CV] END max_depth=5, min_samples_leaf=18, min_samples_split=6, n_estimators=800; total time=   2.3s\n",
      "[CV] END max_depth=5, min_samples_leaf=18, min_samples_split=6, n_estimators=800; total time=   2.2s\n",
      "[CV] END max_depth=5, min_samples_leaf=18, min_samples_split=6, n_estimators=800; total time=   2.2s\n",
      "[CV] END max_depth=5, min_samples_leaf=18, min_samples_split=6, n_estimators=800; total time=   2.2s\n",
      "[CV] END max_depth=5, min_samples_leaf=18, min_samples_split=6, n_estimators=800; total time=   2.2s\n",
      "[CV] END max_depth=5, min_samples_leaf=18, min_samples_split=6, n_estimators=850; total time=   2.3s\n",
      "[CV] END max_depth=5, min_samples_leaf=18, min_samples_split=6, n_estimators=850; total time=   2.3s\n",
      "[CV] END max_depth=5, min_samples_leaf=18, min_samples_split=6, n_estimators=850; total time=   2.3s\n",
      "[CV] END max_depth=5, min_samples_leaf=18, min_samples_split=6, n_estimators=850; total time=   2.5s\n",
      "[CV] END max_depth=5, min_samples_leaf=18, min_samples_split=6, n_estimators=850; total time=   2.4s\n",
      "[CV] END max_depth=5, min_samples_leaf=18, min_samples_split=6, n_estimators=900; total time=   2.5s\n",
      "[CV] END max_depth=5, min_samples_leaf=18, min_samples_split=6, n_estimators=900; total time=   2.5s\n",
      "[CV] END max_depth=5, min_samples_leaf=18, min_samples_split=6, n_estimators=900; total time=   2.6s\n",
      "[CV] END max_depth=5, min_samples_leaf=18, min_samples_split=6, n_estimators=900; total time=   2.5s\n",
      "[CV] END max_depth=5, min_samples_leaf=18, min_samples_split=6, n_estimators=900; total time=   2.5s\n",
      "[CV] END max_depth=5, min_samples_leaf=18, min_samples_split=6, n_estimators=950; total time=   2.6s\n",
      "[CV] END max_depth=5, min_samples_leaf=18, min_samples_split=6, n_estimators=950; total time=   2.6s\n",
      "[CV] END max_depth=5, min_samples_leaf=18, min_samples_split=6, n_estimators=950; total time=   2.6s\n",
      "[CV] END max_depth=5, min_samples_leaf=18, min_samples_split=6, n_estimators=950; total time=   2.6s\n",
      "[CV] END max_depth=5, min_samples_leaf=18, min_samples_split=6, n_estimators=950; total time=   2.6s\n",
      "[CV] END max_depth=5, min_samples_leaf=18, min_samples_split=8, n_estimators=800; total time=   2.2s\n",
      "[CV] END max_depth=5, min_samples_leaf=18, min_samples_split=8, n_estimators=800; total time=   2.4s\n",
      "[CV] END max_depth=5, min_samples_leaf=18, min_samples_split=8, n_estimators=800; total time=   2.2s\n",
      "[CV] END max_depth=5, min_samples_leaf=18, min_samples_split=8, n_estimators=800; total time=   2.2s\n",
      "[CV] END max_depth=5, min_samples_leaf=18, min_samples_split=8, n_estimators=800; total time=   2.2s\n",
      "[CV] END max_depth=5, min_samples_leaf=18, min_samples_split=8, n_estimators=850; total time=   2.3s\n",
      "[CV] END max_depth=5, min_samples_leaf=18, min_samples_split=8, n_estimators=850; total time=   2.3s\n",
      "[CV] END max_depth=5, min_samples_leaf=18, min_samples_split=8, n_estimators=850; total time=   2.3s\n",
      "[CV] END max_depth=5, min_samples_leaf=18, min_samples_split=8, n_estimators=850; total time=   2.3s\n",
      "[CV] END max_depth=5, min_samples_leaf=18, min_samples_split=8, n_estimators=850; total time=   2.3s\n",
      "[CV] END max_depth=5, min_samples_leaf=18, min_samples_split=8, n_estimators=900; total time=   2.5s\n",
      "[CV] END max_depth=5, min_samples_leaf=18, min_samples_split=8, n_estimators=900; total time=   2.5s\n",
      "[CV] END max_depth=5, min_samples_leaf=18, min_samples_split=8, n_estimators=900; total time=   2.6s\n",
      "[CV] END max_depth=5, min_samples_leaf=18, min_samples_split=8, n_estimators=900; total time=   2.5s\n",
      "[CV] END max_depth=5, min_samples_leaf=18, min_samples_split=8, n_estimators=900; total time=   2.9s\n",
      "[CV] END max_depth=5, min_samples_leaf=18, min_samples_split=8, n_estimators=950; total time=   3.3s\n",
      "[CV] END max_depth=5, min_samples_leaf=18, min_samples_split=8, n_estimators=950; total time=   3.5s\n",
      "[CV] END max_depth=5, min_samples_leaf=18, min_samples_split=8, n_estimators=950; total time=   3.3s\n",
      "[CV] END max_depth=5, min_samples_leaf=18, min_samples_split=8, n_estimators=950; total time=   3.4s\n",
      "[CV] END max_depth=5, min_samples_leaf=18, min_samples_split=8, n_estimators=950; total time=   2.9s\n",
      "[CV] END max_depth=10, min_samples_leaf=16, min_samples_split=2, n_estimators=800; total time=   2.2s\n",
      "[CV] END max_depth=10, min_samples_leaf=16, min_samples_split=2, n_estimators=800; total time=   2.2s\n"
     ]
    },
    {
     "name": "stdout",
     "output_type": "stream",
     "text": [
      "[CV] END max_depth=10, min_samples_leaf=16, min_samples_split=2, n_estimators=800; total time=   2.2s\n",
      "[CV] END max_depth=10, min_samples_leaf=16, min_samples_split=2, n_estimators=800; total time=   2.3s\n",
      "[CV] END max_depth=10, min_samples_leaf=16, min_samples_split=2, n_estimators=800; total time=   2.3s\n",
      "[CV] END max_depth=10, min_samples_leaf=16, min_samples_split=2, n_estimators=850; total time=   2.5s\n",
      "[CV] END max_depth=10, min_samples_leaf=16, min_samples_split=2, n_estimators=850; total time=   2.5s\n",
      "[CV] END max_depth=10, min_samples_leaf=16, min_samples_split=2, n_estimators=850; total time=   2.5s\n",
      "[CV] END max_depth=10, min_samples_leaf=16, min_samples_split=2, n_estimators=850; total time=   2.4s\n",
      "[CV] END max_depth=10, min_samples_leaf=16, min_samples_split=2, n_estimators=850; total time=   2.4s\n",
      "[CV] END max_depth=10, min_samples_leaf=16, min_samples_split=2, n_estimators=900; total time=   2.5s\n",
      "[CV] END max_depth=10, min_samples_leaf=16, min_samples_split=2, n_estimators=900; total time=   2.6s\n",
      "[CV] END max_depth=10, min_samples_leaf=16, min_samples_split=2, n_estimators=900; total time=   3.7s\n",
      "[CV] END max_depth=10, min_samples_leaf=16, min_samples_split=2, n_estimators=900; total time=   3.5s\n",
      "[CV] END max_depth=10, min_samples_leaf=16, min_samples_split=2, n_estimators=900; total time=   3.0s\n",
      "[CV] END max_depth=10, min_samples_leaf=16, min_samples_split=2, n_estimators=950; total time=   2.7s\n",
      "[CV] END max_depth=10, min_samples_leaf=16, min_samples_split=2, n_estimators=950; total time=   2.6s\n",
      "[CV] END max_depth=10, min_samples_leaf=16, min_samples_split=2, n_estimators=950; total time=   2.6s\n",
      "[CV] END max_depth=10, min_samples_leaf=16, min_samples_split=2, n_estimators=950; total time=   2.7s\n",
      "[CV] END max_depth=10, min_samples_leaf=16, min_samples_split=2, n_estimators=950; total time=   2.7s\n",
      "[CV] END max_depth=10, min_samples_leaf=16, min_samples_split=4, n_estimators=800; total time=   2.2s\n",
      "[CV] END max_depth=10, min_samples_leaf=16, min_samples_split=4, n_estimators=800; total time=   3.8s\n",
      "[CV] END max_depth=10, min_samples_leaf=16, min_samples_split=4, n_estimators=800; total time=   3.4s\n",
      "[CV] END max_depth=10, min_samples_leaf=16, min_samples_split=4, n_estimators=800; total time=   2.8s\n",
      "[CV] END max_depth=10, min_samples_leaf=16, min_samples_split=4, n_estimators=800; total time=   2.4s\n",
      "[CV] END max_depth=10, min_samples_leaf=16, min_samples_split=4, n_estimators=850; total time=   2.4s\n",
      "[CV] END max_depth=10, min_samples_leaf=16, min_samples_split=4, n_estimators=850; total time=   3.2s\n",
      "[CV] END max_depth=10, min_samples_leaf=16, min_samples_split=4, n_estimators=850; total time=   3.0s\n",
      "[CV] END max_depth=10, min_samples_leaf=16, min_samples_split=4, n_estimators=850; total time=   2.3s\n",
      "[CV] END max_depth=10, min_samples_leaf=16, min_samples_split=4, n_estimators=850; total time=   2.3s\n",
      "[CV] END max_depth=10, min_samples_leaf=16, min_samples_split=4, n_estimators=900; total time=   2.5s\n",
      "[CV] END max_depth=10, min_samples_leaf=16, min_samples_split=4, n_estimators=900; total time=   2.5s\n",
      "[CV] END max_depth=10, min_samples_leaf=16, min_samples_split=4, n_estimators=900; total time=   2.7s\n",
      "[CV] END max_depth=10, min_samples_leaf=16, min_samples_split=4, n_estimators=900; total time=   4.6s\n",
      "[CV] END max_depth=10, min_samples_leaf=16, min_samples_split=4, n_estimators=900; total time=   3.5s\n",
      "[CV] END max_depth=10, min_samples_leaf=16, min_samples_split=4, n_estimators=950; total time=   3.2s\n",
      "[CV] END max_depth=10, min_samples_leaf=16, min_samples_split=4, n_estimators=950; total time=   2.8s\n",
      "[CV] END max_depth=10, min_samples_leaf=16, min_samples_split=4, n_estimators=950; total time=   3.6s\n",
      "[CV] END max_depth=10, min_samples_leaf=16, min_samples_split=4, n_estimators=950; total time=   4.3s\n",
      "[CV] END max_depth=10, min_samples_leaf=16, min_samples_split=4, n_estimators=950; total time=   2.9s\n",
      "[CV] END max_depth=10, min_samples_leaf=16, min_samples_split=6, n_estimators=800; total time=   2.5s\n",
      "[CV] END max_depth=10, min_samples_leaf=16, min_samples_split=6, n_estimators=800; total time=   2.9s\n",
      "[CV] END max_depth=10, min_samples_leaf=16, min_samples_split=6, n_estimators=800; total time=   2.5s\n",
      "[CV] END max_depth=10, min_samples_leaf=16, min_samples_split=6, n_estimators=800; total time=   2.8s\n",
      "[CV] END max_depth=10, min_samples_leaf=16, min_samples_split=6, n_estimators=800; total time=   2.6s\n",
      "[CV] END max_depth=10, min_samples_leaf=16, min_samples_split=6, n_estimators=850; total time=   3.6s\n",
      "[CV] END max_depth=10, min_samples_leaf=16, min_samples_split=6, n_estimators=850; total time=   2.9s\n",
      "[CV] END max_depth=10, min_samples_leaf=16, min_samples_split=6, n_estimators=850; total time=   3.3s\n",
      "[CV] END max_depth=10, min_samples_leaf=16, min_samples_split=6, n_estimators=850; total time=   3.4s\n",
      "[CV] END max_depth=10, min_samples_leaf=16, min_samples_split=6, n_estimators=850; total time=   3.0s\n",
      "[CV] END max_depth=10, min_samples_leaf=16, min_samples_split=6, n_estimators=900; total time=   2.5s\n",
      "[CV] END max_depth=10, min_samples_leaf=16, min_samples_split=6, n_estimators=900; total time=   2.7s\n",
      "[CV] END max_depth=10, min_samples_leaf=16, min_samples_split=6, n_estimators=900; total time=   3.5s\n",
      "[CV] END max_depth=10, min_samples_leaf=16, min_samples_split=6, n_estimators=900; total time=   2.8s\n",
      "[CV] END max_depth=10, min_samples_leaf=16, min_samples_split=6, n_estimators=900; total time=   2.9s\n",
      "[CV] END max_depth=10, min_samples_leaf=16, min_samples_split=6, n_estimators=950; total time=   4.1s\n",
      "[CV] END max_depth=10, min_samples_leaf=16, min_samples_split=6, n_estimators=950; total time=   2.7s\n",
      "[CV] END max_depth=10, min_samples_leaf=16, min_samples_split=6, n_estimators=950; total time=   2.8s\n",
      "[CV] END max_depth=10, min_samples_leaf=16, min_samples_split=6, n_estimators=950; total time=   2.6s\n",
      "[CV] END max_depth=10, min_samples_leaf=16, min_samples_split=6, n_estimators=950; total time=   2.9s\n",
      "[CV] END max_depth=10, min_samples_leaf=16, min_samples_split=8, n_estimators=800; total time=   2.6s\n",
      "[CV] END max_depth=10, min_samples_leaf=16, min_samples_split=8, n_estimators=800; total time=   2.4s\n",
      "[CV] END max_depth=10, min_samples_leaf=16, min_samples_split=8, n_estimators=800; total time=   2.2s\n",
      "[CV] END max_depth=10, min_samples_leaf=16, min_samples_split=8, n_estimators=800; total time=   3.2s\n",
      "[CV] END max_depth=10, min_samples_leaf=16, min_samples_split=8, n_estimators=800; total time=   3.5s\n",
      "[CV] END max_depth=10, min_samples_leaf=16, min_samples_split=8, n_estimators=850; total time=   3.4s\n",
      "[CV] END max_depth=10, min_samples_leaf=16, min_samples_split=8, n_estimators=850; total time=   2.5s\n",
      "[CV] END max_depth=10, min_samples_leaf=16, min_samples_split=8, n_estimators=850; total time=   2.4s\n",
      "[CV] END max_depth=10, min_samples_leaf=16, min_samples_split=8, n_estimators=850; total time=   2.4s\n",
      "[CV] END max_depth=10, min_samples_leaf=16, min_samples_split=8, n_estimators=850; total time=   2.4s\n",
      "[CV] END max_depth=10, min_samples_leaf=16, min_samples_split=8, n_estimators=900; total time=   2.7s\n",
      "[CV] END max_depth=10, min_samples_leaf=16, min_samples_split=8, n_estimators=900; total time=   2.6s\n",
      "[CV] END max_depth=10, min_samples_leaf=16, min_samples_split=8, n_estimators=900; total time=   3.0s\n",
      "[CV] END max_depth=10, min_samples_leaf=16, min_samples_split=8, n_estimators=900; total time=   3.0s\n",
      "[CV] END max_depth=10, min_samples_leaf=16, min_samples_split=8, n_estimators=900; total time=   2.6s\n",
      "[CV] END max_depth=10, min_samples_leaf=16, min_samples_split=8, n_estimators=950; total time=   2.9s\n",
      "[CV] END max_depth=10, min_samples_leaf=16, min_samples_split=8, n_estimators=950; total time=   2.9s\n",
      "[CV] END max_depth=10, min_samples_leaf=16, min_samples_split=8, n_estimators=950; total time=   2.8s\n",
      "[CV] END max_depth=10, min_samples_leaf=16, min_samples_split=8, n_estimators=950; total time=   3.0s\n",
      "[CV] END max_depth=10, min_samples_leaf=16, min_samples_split=8, n_estimators=950; total time=   2.6s\n",
      "[CV] END max_depth=10, min_samples_leaf=18, min_samples_split=2, n_estimators=800; total time=   2.2s\n",
      "[CV] END max_depth=10, min_samples_leaf=18, min_samples_split=2, n_estimators=800; total time=   2.7s\n",
      "[CV] END max_depth=10, min_samples_leaf=18, min_samples_split=2, n_estimators=800; total time=   2.2s\n"
     ]
    },
    {
     "name": "stdout",
     "output_type": "stream",
     "text": [
      "[CV] END max_depth=10, min_samples_leaf=18, min_samples_split=2, n_estimators=800; total time=   2.5s\n",
      "[CV] END max_depth=10, min_samples_leaf=18, min_samples_split=2, n_estimators=800; total time=   2.3s\n",
      "[CV] END max_depth=10, min_samples_leaf=18, min_samples_split=2, n_estimators=850; total time=   2.4s\n",
      "[CV] END max_depth=10, min_samples_leaf=18, min_samples_split=2, n_estimators=850; total time=   2.4s\n",
      "[CV] END max_depth=10, min_samples_leaf=18, min_samples_split=2, n_estimators=850; total time=   3.2s\n",
      "[CV] END max_depth=10, min_samples_leaf=18, min_samples_split=2, n_estimators=850; total time=   2.4s\n",
      "[CV] END max_depth=10, min_samples_leaf=18, min_samples_split=2, n_estimators=850; total time=   2.3s\n",
      "[CV] END max_depth=10, min_samples_leaf=18, min_samples_split=2, n_estimators=900; total time=   2.5s\n",
      "[CV] END max_depth=10, min_samples_leaf=18, min_samples_split=2, n_estimators=900; total time=   2.6s\n",
      "[CV] END max_depth=10, min_samples_leaf=18, min_samples_split=2, n_estimators=900; total time=   2.4s\n",
      "[CV] END max_depth=10, min_samples_leaf=18, min_samples_split=2, n_estimators=900; total time=   2.7s\n",
      "[CV] END max_depth=10, min_samples_leaf=18, min_samples_split=2, n_estimators=900; total time=   2.7s\n",
      "[CV] END max_depth=10, min_samples_leaf=18, min_samples_split=2, n_estimators=950; total time=   2.7s\n",
      "[CV] END max_depth=10, min_samples_leaf=18, min_samples_split=2, n_estimators=950; total time=   2.6s\n",
      "[CV] END max_depth=10, min_samples_leaf=18, min_samples_split=2, n_estimators=950; total time=   2.7s\n",
      "[CV] END max_depth=10, min_samples_leaf=18, min_samples_split=2, n_estimators=950; total time=   3.0s\n",
      "[CV] END max_depth=10, min_samples_leaf=18, min_samples_split=2, n_estimators=950; total time=   3.6s\n",
      "[CV] END max_depth=10, min_samples_leaf=18, min_samples_split=4, n_estimators=800; total time=   2.6s\n",
      "[CV] END max_depth=10, min_samples_leaf=18, min_samples_split=4, n_estimators=800; total time=   2.4s\n",
      "[CV] END max_depth=10, min_samples_leaf=18, min_samples_split=4, n_estimators=800; total time=   2.4s\n",
      "[CV] END max_depth=10, min_samples_leaf=18, min_samples_split=4, n_estimators=800; total time=   2.5s\n",
      "[CV] END max_depth=10, min_samples_leaf=18, min_samples_split=4, n_estimators=800; total time=   3.1s\n",
      "[CV] END max_depth=10, min_samples_leaf=18, min_samples_split=4, n_estimators=850; total time=   3.7s\n",
      "[CV] END max_depth=10, min_samples_leaf=18, min_samples_split=4, n_estimators=850; total time=   2.7s\n",
      "[CV] END max_depth=10, min_samples_leaf=18, min_samples_split=4, n_estimators=850; total time=   2.6s\n",
      "[CV] END max_depth=10, min_samples_leaf=18, min_samples_split=4, n_estimators=850; total time=   2.5s\n",
      "[CV] END max_depth=10, min_samples_leaf=18, min_samples_split=4, n_estimators=850; total time=   3.6s\n",
      "[CV] END max_depth=10, min_samples_leaf=18, min_samples_split=4, n_estimators=900; total time=   2.7s\n",
      "[CV] END max_depth=10, min_samples_leaf=18, min_samples_split=4, n_estimators=900; total time=   2.7s\n",
      "[CV] END max_depth=10, min_samples_leaf=18, min_samples_split=4, n_estimators=900; total time=   2.7s\n",
      "[CV] END max_depth=10, min_samples_leaf=18, min_samples_split=4, n_estimators=900; total time=   2.7s\n",
      "[CV] END max_depth=10, min_samples_leaf=18, min_samples_split=4, n_estimators=900; total time=   3.1s\n",
      "[CV] END max_depth=10, min_samples_leaf=18, min_samples_split=4, n_estimators=950; total time=   2.9s\n",
      "[CV] END max_depth=10, min_samples_leaf=18, min_samples_split=4, n_estimators=950; total time=   3.4s\n",
      "[CV] END max_depth=10, min_samples_leaf=18, min_samples_split=4, n_estimators=950; total time=   3.4s\n",
      "[CV] END max_depth=10, min_samples_leaf=18, min_samples_split=4, n_estimators=950; total time=   3.2s\n",
      "[CV] END max_depth=10, min_samples_leaf=18, min_samples_split=4, n_estimators=950; total time=   2.8s\n",
      "[CV] END max_depth=10, min_samples_leaf=18, min_samples_split=6, n_estimators=800; total time=   2.4s\n",
      "[CV] END max_depth=10, min_samples_leaf=18, min_samples_split=6, n_estimators=800; total time=   2.3s\n",
      "[CV] END max_depth=10, min_samples_leaf=18, min_samples_split=6, n_estimators=800; total time=   2.4s\n",
      "[CV] END max_depth=10, min_samples_leaf=18, min_samples_split=6, n_estimators=800; total time=   2.4s\n",
      "[CV] END max_depth=10, min_samples_leaf=18, min_samples_split=6, n_estimators=800; total time=   2.4s\n",
      "[CV] END max_depth=10, min_samples_leaf=18, min_samples_split=6, n_estimators=850; total time=   2.6s\n",
      "[CV] END max_depth=10, min_samples_leaf=18, min_samples_split=6, n_estimators=850; total time=   2.5s\n",
      "[CV] END max_depth=10, min_samples_leaf=18, min_samples_split=6, n_estimators=850; total time=   2.5s\n",
      "[CV] END max_depth=10, min_samples_leaf=18, min_samples_split=6, n_estimators=850; total time=   2.5s\n",
      "[CV] END max_depth=10, min_samples_leaf=18, min_samples_split=6, n_estimators=850; total time=   2.5s\n",
      "[CV] END max_depth=10, min_samples_leaf=18, min_samples_split=6, n_estimators=900; total time=   3.0s\n",
      "[CV] END max_depth=10, min_samples_leaf=18, min_samples_split=6, n_estimators=900; total time=   2.8s\n",
      "[CV] END max_depth=10, min_samples_leaf=18, min_samples_split=6, n_estimators=900; total time=   2.6s\n",
      "[CV] END max_depth=10, min_samples_leaf=18, min_samples_split=6, n_estimators=900; total time=   2.6s\n",
      "[CV] END max_depth=10, min_samples_leaf=18, min_samples_split=6, n_estimators=900; total time=   2.8s\n",
      "[CV] END max_depth=10, min_samples_leaf=18, min_samples_split=6, n_estimators=950; total time=   3.1s\n",
      "[CV] END max_depth=10, min_samples_leaf=18, min_samples_split=6, n_estimators=950; total time=   3.7s\n",
      "[CV] END max_depth=10, min_samples_leaf=18, min_samples_split=6, n_estimators=950; total time=   3.1s\n",
      "[CV] END max_depth=10, min_samples_leaf=18, min_samples_split=6, n_estimators=950; total time=   2.8s\n",
      "[CV] END max_depth=10, min_samples_leaf=18, min_samples_split=6, n_estimators=950; total time=   2.9s\n",
      "[CV] END max_depth=10, min_samples_leaf=18, min_samples_split=8, n_estimators=800; total time=   2.3s\n",
      "[CV] END max_depth=10, min_samples_leaf=18, min_samples_split=8, n_estimators=800; total time=   2.4s\n",
      "[CV] END max_depth=10, min_samples_leaf=18, min_samples_split=8, n_estimators=800; total time=   2.7s\n",
      "[CV] END max_depth=10, min_samples_leaf=18, min_samples_split=8, n_estimators=800; total time=   2.3s\n",
      "[CV] END max_depth=10, min_samples_leaf=18, min_samples_split=8, n_estimators=800; total time=   2.3s\n",
      "[CV] END max_depth=10, min_samples_leaf=18, min_samples_split=8, n_estimators=850; total time=   2.5s\n",
      "[CV] END max_depth=10, min_samples_leaf=18, min_samples_split=8, n_estimators=850; total time=   2.6s\n",
      "[CV] END max_depth=10, min_samples_leaf=18, min_samples_split=8, n_estimators=850; total time=   3.0s\n",
      "[CV] END max_depth=10, min_samples_leaf=18, min_samples_split=8, n_estimators=850; total time=   2.7s\n",
      "[CV] END max_depth=10, min_samples_leaf=18, min_samples_split=8, n_estimators=850; total time=   2.7s\n",
      "[CV] END max_depth=10, min_samples_leaf=18, min_samples_split=8, n_estimators=900; total time=   3.0s\n",
      "[CV] END max_depth=10, min_samples_leaf=18, min_samples_split=8, n_estimators=900; total time=   4.4s\n",
      "[CV] END max_depth=10, min_samples_leaf=18, min_samples_split=8, n_estimators=900; total time=   2.9s\n",
      "[CV] END max_depth=10, min_samples_leaf=18, min_samples_split=8, n_estimators=900; total time=   2.6s\n",
      "[CV] END max_depth=10, min_samples_leaf=18, min_samples_split=8, n_estimators=900; total time=   2.5s\n",
      "[CV] END max_depth=10, min_samples_leaf=18, min_samples_split=8, n_estimators=950; total time=   2.7s\n",
      "[CV] END max_depth=10, min_samples_leaf=18, min_samples_split=8, n_estimators=950; total time=   2.6s\n",
      "[CV] END max_depth=10, min_samples_leaf=18, min_samples_split=8, n_estimators=950; total time=   2.6s\n",
      "[CV] END max_depth=10, min_samples_leaf=18, min_samples_split=8, n_estimators=950; total time=   2.7s\n",
      "[CV] END max_depth=10, min_samples_leaf=18, min_samples_split=8, n_estimators=950; total time=   2.7s\n"
     ]
    },
    {
     "data": {
      "text/plain": [
       "GridSearchCV(cv=5, estimator=RandomForestClassifier(),\n",
       "             param_grid={'max_depth': [None, 5, 10],\n",
       "                         'min_samples_leaf': array([16, 18]),\n",
       "                         'min_samples_split': array([2, 4, 6, 8]),\n",
       "                         'n_estimators': array([800, 850, 900, 950])},\n",
       "             verbose=2)"
      ]
     },
     "execution_count": 329,
     "metadata": {},
     "output_type": "execute_result"
    }
   ],
   "source": [
    "# Tuning Hyperparameters for Random Forest Classifier\n",
    "np.random.seed(5)\n",
    "\n",
    "gs_rf_cl= GridSearchCV(RandomForestClassifier(),\n",
    "                               param_grid=rf_grid,\n",
    "                               cv=5,\n",
    "                               verbose=2)\n",
    "# Fit on training data\n",
    "gs_rf_cl.fit(X_train, y_train)\n"
   ]
  },
  {
   "cell_type": "code",
   "execution_count": 330,
   "id": "a723e1a1",
   "metadata": {},
   "outputs": [
    {
     "data": {
      "text/plain": [
       "{'max_depth': None,\n",
       " 'min_samples_leaf': 18,\n",
       " 'min_samples_split': 8,\n",
       " 'n_estimators': 800}"
      ]
     },
     "execution_count": 330,
     "metadata": {},
     "output_type": "execute_result"
    }
   ],
   "source": [
    "#checking best hyperparameter\n",
    "gs_rf_cl.best_params_"
   ]
  },
  {
   "cell_type": "code",
   "execution_count": null,
   "id": "fa4c3061",
   "metadata": {},
   "outputs": [],
   "source": [
    "#check tuned model score\n",
    "gs_rf_cl.score(X_test, y_test)"
   ]
  },
  {
   "cell_type": "markdown",
   "id": "e9d5e1d9",
   "metadata": {},
   "source": [
    "# Evaluating machine learning classifier model beyond accuracy\n",
    "\n",
    "+ ROC and AUC curve\n",
    "+ Confusion Matrix\n",
    "+ Precision\n",
    "+ Recall\n",
    "+ F1 score\n",
    "\n",
    "To make comparisons and evaluate models"
   ]
  },
  {
   "cell_type": "markdown",
   "id": "3340d357",
   "metadata": {},
   "source": [
    "# ROC and AUC curve(for Logistic Regression and Random Forest Classifier)"
   ]
  },
  {
   "cell_type": "code",
   "execution_count": 40,
   "id": "bc5c71ff",
   "metadata": {},
   "outputs": [
    {
     "ename": "NameError",
     "evalue": "name 'gs_log_reg' is not defined",
     "output_type": "error",
     "traceback": [
      "\u001b[1;31m---------------------------------------------------------------------------\u001b[0m",
      "\u001b[1;31mNameError\u001b[0m                                 Traceback (most recent call last)",
      "\u001b[1;32m<ipython-input-40-fd7ef3cb17d3>\u001b[0m in \u001b[0;36m<module>\u001b[1;34m\u001b[0m\n\u001b[0;32m      2\u001b[0m \u001b[1;31m# Make predictions with tuned and baseline model\u001b[0m\u001b[1;33m\u001b[0m\u001b[1;33m\u001b[0m\u001b[1;33m\u001b[0m\u001b[0m\n\u001b[0;32m      3\u001b[0m \u001b[1;33m\u001b[0m\u001b[0m\n\u001b[1;32m----> 4\u001b[1;33m \u001b[0my_tuned_preds\u001b[0m\u001b[1;33m=\u001b[0m \u001b[0mgs_log_reg\u001b[0m\u001b[1;33m.\u001b[0m\u001b[0mpredict\u001b[0m\u001b[1;33m(\u001b[0m\u001b[0mX_test\u001b[0m\u001b[1;33m)\u001b[0m\u001b[1;33m\u001b[0m\u001b[1;33m\u001b[0m\u001b[0m\n\u001b[0m\u001b[0;32m      5\u001b[0m \u001b[1;33m\u001b[0m\u001b[0m\n\u001b[0;32m      6\u001b[0m \u001b[0mmodel_base\u001b[0m\u001b[1;33m=\u001b[0m\u001b[0mLogisticRegression\u001b[0m\u001b[1;33m(\u001b[0m\u001b[1;33m)\u001b[0m\u001b[1;33m.\u001b[0m\u001b[0mfit\u001b[0m\u001b[1;33m(\u001b[0m\u001b[0mX_train\u001b[0m\u001b[1;33m,\u001b[0m \u001b[0my_train\u001b[0m\u001b[1;33m)\u001b[0m\u001b[1;33m\u001b[0m\u001b[1;33m\u001b[0m\u001b[0m\n",
      "\u001b[1;31mNameError\u001b[0m: name 'gs_log_reg' is not defined"
     ]
    }
   ],
   "source": [
    "# Logistic regression\n",
    "# Make predictions with tuned and baseline model\n",
    "\n",
    "y_tuned_preds= gs_log_reg.predict(X_test)\n",
    "\n",
    "model_base=LogisticRegression().fit(X_train, y_train)\n",
    "y_base_preds=model_base.predict(X_test)\n"
   ]
  },
  {
   "cell_type": "code",
   "execution_count": null,
   "id": "f43b8fa7",
   "metadata": {},
   "outputs": [],
   "source": [
    "# Plot ROC curve and calculate the AUC metric(Lo)\n",
    "#tuned model\n",
    "plot_roc_curve(gs_log_reg, X_test, y_test)\n",
    "plt.plot([0, 1], [0, 1], color='navy', linewidth=2, linestyle='--')\n",
    "plt.title(\"Logistic Regression-Tuned Model\")\n",
    "#baseline model\n",
    "plot_roc_curve(model_base, X_test, y_test)\n",
    "plt.plot([0, 1], [0, 1], color='navy', linewidth=2, linestyle='--')\n",
    "plt.title(\"Logistic Regression-Baseline Model\")\n"
   ]
  },
  {
   "cell_type": "code",
   "execution_count": null,
   "id": "9b8d09c4",
   "metadata": {},
   "outputs": [],
   "source": [
    "# Random Forest Classfication\n",
    "# Make predictions with tuned and baseline model\n",
    "\n",
    "y_tuned_rf_preds= gs_rf_cl.predict(X_test)\n",
    "\n",
    "model_rf_base=RandomForestClassifier().fit(X_train, y_train)\n",
    "y_base_rf_preds=model_rf_base.predict(X_test)\n",
    "\n",
    "y_base_rf_preds"
   ]
  },
  {
   "cell_type": "code",
   "execution_count": null,
   "id": "73d924c1",
   "metadata": {},
   "outputs": [],
   "source": [
    "# Plot ROC curve and calculate the AUC metric(Lo)\n",
    "#tuned model\n",
    "plot_roc_curve(gs_rf_cl, X_test, y_test, color=\"green\")\n",
    "plt.plot([0, 1], [0, 1], color='blue', linewidth=2, linestyle='--')\n",
    "plt.title(\"Random Forest Classifier-Tuned Model\")\n",
    "#baseline model\n",
    "plot_roc_curve(model_rf_base, X_test, y_test, color=\"green\")\n",
    "plt.plot([0, 1], [0, 1], color='blue', linewidth=2, linestyle='--')\n",
    "plt.title(\"Random Forest Classifier-Baseline Model\");\n"
   ]
  },
  {
   "cell_type": "markdown",
   "id": "9904ba8b",
   "metadata": {},
   "source": [
    "# Confusion Matrix(for Logistic Regression and Random Forest Classifier)"
   ]
  },
  {
   "cell_type": "code",
   "execution_count": 43,
   "id": "140413ae",
   "metadata": {},
   "outputs": [],
   "source": [
    "# Define a function for confusion matrix(to plot on sns)\n",
    "\n",
    "def plot_conf_mat(y_test, y_preds):\n",
    "    \"\"\"\n",
    "    Plots a confusion matrix using Seabron's heatmap()\n",
    "    \"\"\"\n",
    "    sns.set(font_scale=1.5)\n",
    "    fig,ax = plt.subplots(figsize=(3,3))\n",
    "    ax= sns.heatmap(confusion_matrix(y_test,y_preds),\n",
    "                   annot=True,\n",
    "                   cbar=False)\n",
    "    plt.xlabel(\"Predicted label\")\n",
    "    plt.ylabel(\"True label\")"
   ]
  },
  {
   "cell_type": "code",
   "execution_count": 41,
   "id": "b31a6c92",
   "metadata": {},
   "outputs": [
    {
     "ename": "NameError",
     "evalue": "name 'plot_conf_mat' is not defined",
     "output_type": "error",
     "traceback": [
      "\u001b[1;31m---------------------------------------------------------------------------\u001b[0m",
      "\u001b[1;31mNameError\u001b[0m                                 Traceback (most recent call last)",
      "\u001b[1;32m<ipython-input-41-855dc5a61a58>\u001b[0m in \u001b[0;36m<module>\u001b[1;34m\u001b[0m\n\u001b[0;32m      2\u001b[0m \u001b[1;33m\u001b[0m\u001b[0m\n\u001b[0;32m      3\u001b[0m \u001b[1;31m#tuned model\u001b[0m\u001b[1;33m\u001b[0m\u001b[1;33m\u001b[0m\u001b[1;33m\u001b[0m\u001b[0m\n\u001b[1;32m----> 4\u001b[1;33m \u001b[0mplot_conf_mat\u001b[0m\u001b[1;33m(\u001b[0m\u001b[0my_test\u001b[0m\u001b[1;33m,\u001b[0m\u001b[0my_tuned_preds\u001b[0m\u001b[1;33m)\u001b[0m\u001b[1;33m\u001b[0m\u001b[1;33m\u001b[0m\u001b[0m\n\u001b[0m\u001b[0;32m      5\u001b[0m \u001b[0mplt\u001b[0m\u001b[1;33m.\u001b[0m\u001b[0mtitle\u001b[0m\u001b[1;33m(\u001b[0m\u001b[1;34m\"Confusion Matrix-Logistic Reg-Tuned model\"\u001b[0m\u001b[1;33m)\u001b[0m\u001b[1;33m\u001b[0m\u001b[1;33m\u001b[0m\u001b[0m\n\u001b[0;32m      6\u001b[0m \u001b[1;33m\u001b[0m\u001b[0m\n",
      "\u001b[1;31mNameError\u001b[0m: name 'plot_conf_mat' is not defined"
     ]
    }
   ],
   "source": [
    "# Logistic Regression\n",
    "\n",
    "#tuned model\n",
    "plot_conf_mat(y_test,y_tuned_preds)\n",
    "plt.title(\"Confusion Matrix-Logistic Reg-Tuned model\")\n",
    "\n",
    "#base model\n",
    "plot_conf_mat(y_test,y_base_preds)\n",
    "plt.title(\"Confusion Matrix-Logistic Reg-Base model\");"
   ]
  },
  {
   "cell_type": "code",
   "execution_count": null,
   "id": "d5f3d399",
   "metadata": {},
   "outputs": [],
   "source": [
    "# Random Forest Classifier\n",
    "\n",
    "y_base_rf_preds\n",
    "#tuned model\n",
    "plot_conf_mat(y_test,y_tuned_rf_preds)\n",
    "plt.title(\"Confusion Matrix-Random Forest-Tuned model\")\n",
    "\n",
    "#base model\n",
    "plot_conf_mat(y_test,y_base_rf_preds)\n",
    "plt.title(\"Confusion Matrix-Random Forest-Base model\");"
   ]
  },
  {
   "cell_type": "markdown",
   "id": "996b2a51",
   "metadata": {},
   "source": [
    "# Cross-validated-  Precision, Recall and F1 score"
   ]
  },
  {
   "cell_type": "code",
   "execution_count": 55,
   "id": "258e08fb",
   "metadata": {},
   "outputs": [
    {
     "data": {
      "text/plain": [
       "0.8248633879781421"
      ]
     },
     "execution_count": 55,
     "metadata": {},
     "output_type": "execute_result"
    }
   ],
   "source": [
    "#Cross validate tuned model(for Logistic Regression)\n",
    "#Cross validated accuracy\n",
    "clf=LogisticRegression(C=2.592943797404667,\n",
    "                      solver=\"liblinear\")\n",
    "cv_acc= cross_val_score(clf,\n",
    "                       X,\n",
    "                       y,\n",
    "                       cv=5,\n",
    "                       scoring=\"accuracy\")\n",
    "cv_acc= np.mean(cv_acc)\n",
    "cv_acc"
   ]
  },
  {
   "cell_type": "code",
   "execution_count": 52,
   "id": "fb11f80c",
   "metadata": {},
   "outputs": [
    {
     "data": {
      "text/plain": [
       "0.8188009641520078"
      ]
     },
     "execution_count": 52,
     "metadata": {},
     "output_type": "execute_result"
    }
   ],
   "source": [
    "#Cross validated precision\n",
    "cv_precision= cross_val_score(clf,\n",
    "                       X,\n",
    "                       y,\n",
    "                       cv=5,\n",
    "                       scoring=\"precision\")\n",
    "\n",
    "cv_precision=np.mean(cv_precision)\n",
    "cv_precision"
   ]
  },
  {
   "cell_type": "code",
   "execution_count": 45,
   "id": "6f1f469b",
   "metadata": {},
   "outputs": [
    {
     "data": {
      "text/plain": [
       "0.8787878787878787"
      ]
     },
     "execution_count": 45,
     "metadata": {},
     "output_type": "execute_result"
    }
   ],
   "source": [
    "#Cross validated recall\n",
    "\n",
    "cv_recall= cross_val_score(clf,\n",
    "                       X,\n",
    "                       y,\n",
    "                       cv=5,\n",
    "                       scoring=\"recall\")\n",
    "\n",
    "cv_recall=np.mean(cv_recall)\n",
    "cv_recall"
   ]
  },
  {
   "cell_type": "code",
   "execution_count": 53,
   "id": "90964791",
   "metadata": {},
   "outputs": [
    {
     "data": {
      "text/plain": [
       "0.8464039460644465"
      ]
     },
     "execution_count": 53,
     "metadata": {},
     "output_type": "execute_result"
    }
   ],
   "source": [
    "#Cross validated F1 score\n",
    "cv_f1= cross_val_score(clf,\n",
    "                       X,\n",
    "                       y,\n",
    "                       cv=5,\n",
    "                       scoring=\"f1\")\n",
    "\n",
    "cv_f1=np.mean(cv_f1)\n",
    "cv_f1"
   ]
  },
  {
   "cell_type": "code",
   "execution_count": 54,
   "id": "4911f39a",
   "metadata": {},
   "outputs": [
    {
     "data": {
      "text/plain": [
       "(0.8248633879781421,\n",
       " 0.8188009641520078,\n",
       " 0.8787878787878787,\n",
       " 0.8464039460644465)"
      ]
     },
     "execution_count": 54,
     "metadata": {},
     "output_type": "execute_result"
    }
   ],
   "source": [
    "cv_acc,cv_precision,cv_recall, cv_f1"
   ]
  },
  {
   "cell_type": "code",
   "execution_count": 51,
   "id": "46e5e0db",
   "metadata": {
    "scrolled": false
   },
   "outputs": [
    {
     "ename": "NameError",
     "evalue": "name 'cv_precision' is not defined",
     "output_type": "error",
     "traceback": [
      "\u001b[1;31m---------------------------------------------------------------------------\u001b[0m",
      "\u001b[1;31mNameError\u001b[0m                                 Traceback (most recent call last)",
      "\u001b[1;32m<ipython-input-51-a0c16c3cfd72>\u001b[0m in \u001b[0;36m<module>\u001b[1;34m\u001b[0m\n\u001b[0;32m      1\u001b[0m \u001b[1;31m#Visualise cross-validated metrics\u001b[0m\u001b[1;33m\u001b[0m\u001b[1;33m\u001b[0m\u001b[1;33m\u001b[0m\u001b[0m\n\u001b[0;32m      2\u001b[0m cv_metrics = pd.DataFrame({\"Accuracy\":cv_acc,\n\u001b[1;32m----> 3\u001b[1;33m                           \u001b[1;34m\"Precision\"\u001b[0m\u001b[1;33m:\u001b[0m\u001b[0mcv_precision\u001b[0m\u001b[1;33m,\u001b[0m\u001b[1;33m\u001b[0m\u001b[1;33m\u001b[0m\u001b[0m\n\u001b[0m\u001b[0;32m      4\u001b[0m                           \u001b[1;34m\"Recall\"\u001b[0m\u001b[1;33m:\u001b[0m\u001b[0mcv_recall\u001b[0m\u001b[1;33m,\u001b[0m\u001b[1;33m\u001b[0m\u001b[1;33m\u001b[0m\u001b[0m\n\u001b[0;32m      5\u001b[0m                           \"F1\":cv_f1}, index=[0])\n",
      "\u001b[1;31mNameError\u001b[0m: name 'cv_precision' is not defined"
     ]
    }
   ],
   "source": [
    "#Visualise cross-validated metrics\n",
    "cv_metrics = pd.DataFrame({\"Accuracy\":cv_acc,\n",
    "                          \"Precision\":cv_precision,\n",
    "                          \"Recall\":cv_recall,\n",
    "                          \"F1\":cv_f1}, index=[0])\n",
    "cv_metrics.T.plot(kind=\"bar\", title=\"Cross-Validated Classification Metrics\", legend=False)\n",
    "plt.xticks(rotation=0);"
   ]
  },
  {
   "cell_type": "code",
   "execution_count": 48,
   "id": "096368e6",
   "metadata": {},
   "outputs": [
    {
     "name": "stderr",
     "output_type": "stream",
     "text": [
      "C:\\Users\\rohan\\Desktop\\sample_project_1\\heart-disease-project\\env\\enviroment.yml\\lib\\site-packages\\sklearn\\linear_model\\_logistic.py:763: ConvergenceWarning: lbfgs failed to converge (status=1):\n",
      "STOP: TOTAL NO. of ITERATIONS REACHED LIMIT.\n",
      "\n",
      "Increase the number of iterations (max_iter) or scale the data as shown in:\n",
      "    https://scikit-learn.org/stable/modules/preprocessing.html\n",
      "Please also refer to the documentation for alternative solver options:\n",
      "    https://scikit-learn.org/stable/modules/linear_model.html#logistic-regression\n",
      "  n_iter_i = _check_optimize_result(\n",
      "C:\\Users\\rohan\\Desktop\\sample_project_1\\heart-disease-project\\env\\enviroment.yml\\lib\\site-packages\\sklearn\\linear_model\\_logistic.py:763: ConvergenceWarning: lbfgs failed to converge (status=1):\n",
      "STOP: TOTAL NO. of ITERATIONS REACHED LIMIT.\n",
      "\n",
      "Increase the number of iterations (max_iter) or scale the data as shown in:\n",
      "    https://scikit-learn.org/stable/modules/preprocessing.html\n",
      "Please also refer to the documentation for alternative solver options:\n",
      "    https://scikit-learn.org/stable/modules/linear_model.html#logistic-regression\n",
      "  n_iter_i = _check_optimize_result(\n",
      "C:\\Users\\rohan\\Desktop\\sample_project_1\\heart-disease-project\\env\\enviroment.yml\\lib\\site-packages\\sklearn\\linear_model\\_logistic.py:763: ConvergenceWarning: lbfgs failed to converge (status=1):\n",
      "STOP: TOTAL NO. of ITERATIONS REACHED LIMIT.\n",
      "\n",
      "Increase the number of iterations (max_iter) or scale the data as shown in:\n",
      "    https://scikit-learn.org/stable/modules/preprocessing.html\n",
      "Please also refer to the documentation for alternative solver options:\n",
      "    https://scikit-learn.org/stable/modules/linear_model.html#logistic-regression\n",
      "  n_iter_i = _check_optimize_result(\n",
      "C:\\Users\\rohan\\Desktop\\sample_project_1\\heart-disease-project\\env\\enviroment.yml\\lib\\site-packages\\sklearn\\linear_model\\_logistic.py:763: ConvergenceWarning: lbfgs failed to converge (status=1):\n",
      "STOP: TOTAL NO. of ITERATIONS REACHED LIMIT.\n",
      "\n",
      "Increase the number of iterations (max_iter) or scale the data as shown in:\n",
      "    https://scikit-learn.org/stable/modules/preprocessing.html\n",
      "Please also refer to the documentation for alternative solver options:\n",
      "    https://scikit-learn.org/stable/modules/linear_model.html#logistic-regression\n",
      "  n_iter_i = _check_optimize_result(\n",
      "C:\\Users\\rohan\\Desktop\\sample_project_1\\heart-disease-project\\env\\enviroment.yml\\lib\\site-packages\\sklearn\\linear_model\\_logistic.py:763: ConvergenceWarning: lbfgs failed to converge (status=1):\n",
      "STOP: TOTAL NO. of ITERATIONS REACHED LIMIT.\n",
      "\n",
      "Increase the number of iterations (max_iter) or scale the data as shown in:\n",
      "    https://scikit-learn.org/stable/modules/preprocessing.html\n",
      "Please also refer to the documentation for alternative solver options:\n",
      "    https://scikit-learn.org/stable/modules/linear_model.html#logistic-regression\n",
      "  n_iter_i = _check_optimize_result(\n",
      "C:\\Users\\rohan\\Desktop\\sample_project_1\\heart-disease-project\\env\\enviroment.yml\\lib\\site-packages\\sklearn\\linear_model\\_logistic.py:763: ConvergenceWarning: lbfgs failed to converge (status=1):\n",
      "STOP: TOTAL NO. of ITERATIONS REACHED LIMIT.\n",
      "\n",
      "Increase the number of iterations (max_iter) or scale the data as shown in:\n",
      "    https://scikit-learn.org/stable/modules/preprocessing.html\n",
      "Please also refer to the documentation for alternative solver options:\n",
      "    https://scikit-learn.org/stable/modules/linear_model.html#logistic-regression\n",
      "  n_iter_i = _check_optimize_result(\n",
      "C:\\Users\\rohan\\Desktop\\sample_project_1\\heart-disease-project\\env\\enviroment.yml\\lib\\site-packages\\sklearn\\linear_model\\_logistic.py:763: ConvergenceWarning: lbfgs failed to converge (status=1):\n",
      "STOP: TOTAL NO. of ITERATIONS REACHED LIMIT.\n",
      "\n",
      "Increase the number of iterations (max_iter) or scale the data as shown in:\n",
      "    https://scikit-learn.org/stable/modules/preprocessing.html\n",
      "Please also refer to the documentation for alternative solver options:\n",
      "    https://scikit-learn.org/stable/modules/linear_model.html#logistic-regression\n",
      "  n_iter_i = _check_optimize_result(\n",
      "C:\\Users\\rohan\\Desktop\\sample_project_1\\heart-disease-project\\env\\enviroment.yml\\lib\\site-packages\\sklearn\\linear_model\\_logistic.py:763: ConvergenceWarning: lbfgs failed to converge (status=1):\n",
      "STOP: TOTAL NO. of ITERATIONS REACHED LIMIT.\n",
      "\n",
      "Increase the number of iterations (max_iter) or scale the data as shown in:\n",
      "    https://scikit-learn.org/stable/modules/preprocessing.html\n",
      "Please also refer to the documentation for alternative solver options:\n",
      "    https://scikit-learn.org/stable/modules/linear_model.html#logistic-regression\n",
      "  n_iter_i = _check_optimize_result(\n",
      "C:\\Users\\rohan\\Desktop\\sample_project_1\\heart-disease-project\\env\\enviroment.yml\\lib\\site-packages\\sklearn\\linear_model\\_logistic.py:763: ConvergenceWarning: lbfgs failed to converge (status=1):\n",
      "STOP: TOTAL NO. of ITERATIONS REACHED LIMIT.\n",
      "\n",
      "Increase the number of iterations (max_iter) or scale the data as shown in:\n",
      "    https://scikit-learn.org/stable/modules/preprocessing.html\n",
      "Please also refer to the documentation for alternative solver options:\n",
      "    https://scikit-learn.org/stable/modules/linear_model.html#logistic-regression\n",
      "  n_iter_i = _check_optimize_result(\n",
      "C:\\Users\\rohan\\Desktop\\sample_project_1\\heart-disease-project\\env\\enviroment.yml\\lib\\site-packages\\sklearn\\linear_model\\_logistic.py:763: ConvergenceWarning: lbfgs failed to converge (status=1):\n",
      "STOP: TOTAL NO. of ITERATIONS REACHED LIMIT.\n",
      "\n",
      "Increase the number of iterations (max_iter) or scale the data as shown in:\n",
      "    https://scikit-learn.org/stable/modules/preprocessing.html\n",
      "Please also refer to the documentation for alternative solver options:\n",
      "    https://scikit-learn.org/stable/modules/linear_model.html#logistic-regression\n",
      "  n_iter_i = _check_optimize_result(\n",
      "C:\\Users\\rohan\\Desktop\\sample_project_1\\heart-disease-project\\env\\enviroment.yml\\lib\\site-packages\\sklearn\\linear_model\\_logistic.py:763: ConvergenceWarning: lbfgs failed to converge (status=1):\n",
      "STOP: TOTAL NO. of ITERATIONS REACHED LIMIT.\n",
      "\n",
      "Increase the number of iterations (max_iter) or scale the data as shown in:\n",
      "    https://scikit-learn.org/stable/modules/preprocessing.html\n",
      "Please also refer to the documentation for alternative solver options:\n",
      "    https://scikit-learn.org/stable/modules/linear_model.html#logistic-regression\n",
      "  n_iter_i = _check_optimize_result(\n",
      "C:\\Users\\rohan\\Desktop\\sample_project_1\\heart-disease-project\\env\\enviroment.yml\\lib\\site-packages\\sklearn\\linear_model\\_logistic.py:763: ConvergenceWarning: lbfgs failed to converge (status=1):\n",
      "STOP: TOTAL NO. of ITERATIONS REACHED LIMIT.\n",
      "\n",
      "Increase the number of iterations (max_iter) or scale the data as shown in:\n",
      "    https://scikit-learn.org/stable/modules/preprocessing.html\n",
      "Please also refer to the documentation for alternative solver options:\n",
      "    https://scikit-learn.org/stable/modules/linear_model.html#logistic-regression\n",
      "  n_iter_i = _check_optimize_result(\n",
      "C:\\Users\\rohan\\Desktop\\sample_project_1\\heart-disease-project\\env\\enviroment.yml\\lib\\site-packages\\sklearn\\linear_model\\_logistic.py:763: ConvergenceWarning: lbfgs failed to converge (status=1):\n",
      "STOP: TOTAL NO. of ITERATIONS REACHED LIMIT.\n",
      "\n",
      "Increase the number of iterations (max_iter) or scale the data as shown in:\n",
      "    https://scikit-learn.org/stable/modules/preprocessing.html\n",
      "Please also refer to the documentation for alternative solver options:\n",
      "    https://scikit-learn.org/stable/modules/linear_model.html#logistic-regression\n",
      "  n_iter_i = _check_optimize_result(\n",
      "C:\\Users\\rohan\\Desktop\\sample_project_1\\heart-disease-project\\env\\enviroment.yml\\lib\\site-packages\\sklearn\\linear_model\\_logistic.py:763: ConvergenceWarning: lbfgs failed to converge (status=1):\n",
      "STOP: TOTAL NO. of ITERATIONS REACHED LIMIT.\n",
      "\n",
      "Increase the number of iterations (max_iter) or scale the data as shown in:\n",
      "    https://scikit-learn.org/stable/modules/preprocessing.html\n",
      "Please also refer to the documentation for alternative solver options:\n",
      "    https://scikit-learn.org/stable/modules/linear_model.html#logistic-regression\n",
      "  n_iter_i = _check_optimize_result(\n",
      "C:\\Users\\rohan\\Desktop\\sample_project_1\\heart-disease-project\\env\\enviroment.yml\\lib\\site-packages\\sklearn\\linear_model\\_logistic.py:763: ConvergenceWarning: lbfgs failed to converge (status=1):\n",
      "STOP: TOTAL NO. of ITERATIONS REACHED LIMIT.\n",
      "\n",
      "Increase the number of iterations (max_iter) or scale the data as shown in:\n",
      "    https://scikit-learn.org/stable/modules/preprocessing.html\n",
      "Please also refer to the documentation for alternative solver options:\n",
      "    https://scikit-learn.org/stable/modules/linear_model.html#logistic-regression\n",
      "  n_iter_i = _check_optimize_result(\n"
     ]
    },
    {
     "name": "stderr",
     "output_type": "stream",
     "text": [
      "C:\\Users\\rohan\\Desktop\\sample_project_1\\heart-disease-project\\env\\enviroment.yml\\lib\\site-packages\\sklearn\\linear_model\\_logistic.py:763: ConvergenceWarning: lbfgs failed to converge (status=1):\n",
      "STOP: TOTAL NO. of ITERATIONS REACHED LIMIT.\n",
      "\n",
      "Increase the number of iterations (max_iter) or scale the data as shown in:\n",
      "    https://scikit-learn.org/stable/modules/preprocessing.html\n",
      "Please also refer to the documentation for alternative solver options:\n",
      "    https://scikit-learn.org/stable/modules/linear_model.html#logistic-regression\n",
      "  n_iter_i = _check_optimize_result(\n",
      "C:\\Users\\rohan\\Desktop\\sample_project_1\\heart-disease-project\\env\\enviroment.yml\\lib\\site-packages\\sklearn\\linear_model\\_logistic.py:763: ConvergenceWarning: lbfgs failed to converge (status=1):\n",
      "STOP: TOTAL NO. of ITERATIONS REACHED LIMIT.\n",
      "\n",
      "Increase the number of iterations (max_iter) or scale the data as shown in:\n",
      "    https://scikit-learn.org/stable/modules/preprocessing.html\n",
      "Please also refer to the documentation for alternative solver options:\n",
      "    https://scikit-learn.org/stable/modules/linear_model.html#logistic-regression\n",
      "  n_iter_i = _check_optimize_result(\n",
      "C:\\Users\\rohan\\Desktop\\sample_project_1\\heart-disease-project\\env\\enviroment.yml\\lib\\site-packages\\sklearn\\linear_model\\_logistic.py:763: ConvergenceWarning: lbfgs failed to converge (status=1):\n",
      "STOP: TOTAL NO. of ITERATIONS REACHED LIMIT.\n",
      "\n",
      "Increase the number of iterations (max_iter) or scale the data as shown in:\n",
      "    https://scikit-learn.org/stable/modules/preprocessing.html\n",
      "Please also refer to the documentation for alternative solver options:\n",
      "    https://scikit-learn.org/stable/modules/linear_model.html#logistic-regression\n",
      "  n_iter_i = _check_optimize_result(\n",
      "C:\\Users\\rohan\\Desktop\\sample_project_1\\heart-disease-project\\env\\enviroment.yml\\lib\\site-packages\\sklearn\\linear_model\\_logistic.py:763: ConvergenceWarning: lbfgs failed to converge (status=1):\n",
      "STOP: TOTAL NO. of ITERATIONS REACHED LIMIT.\n",
      "\n",
      "Increase the number of iterations (max_iter) or scale the data as shown in:\n",
      "    https://scikit-learn.org/stable/modules/preprocessing.html\n",
      "Please also refer to the documentation for alternative solver options:\n",
      "    https://scikit-learn.org/stable/modules/linear_model.html#logistic-regression\n",
      "  n_iter_i = _check_optimize_result(\n",
      "C:\\Users\\rohan\\Desktop\\sample_project_1\\heart-disease-project\\env\\enviroment.yml\\lib\\site-packages\\sklearn\\linear_model\\_logistic.py:763: ConvergenceWarning: lbfgs failed to converge (status=1):\n",
      "STOP: TOTAL NO. of ITERATIONS REACHED LIMIT.\n",
      "\n",
      "Increase the number of iterations (max_iter) or scale the data as shown in:\n",
      "    https://scikit-learn.org/stable/modules/preprocessing.html\n",
      "Please also refer to the documentation for alternative solver options:\n",
      "    https://scikit-learn.org/stable/modules/linear_model.html#logistic-regression\n",
      "  n_iter_i = _check_optimize_result(\n"
     ]
    },
    {
     "data": {
      "text/plain": [
       "(0.8215846994535518,\n",
       " 0.8189511535436832,\n",
       " 0.8727272727272727,\n",
       " 0.8432033990871707)"
      ]
     },
     "execution_count": 48,
     "metadata": {},
     "output_type": "execute_result"
    }
   ],
   "source": [
    "#Cross validate base model(for Logistic Regression)\n",
    "#accuracy\n",
    "cv_base_acc= cross_val_score(LogisticRegression(),\n",
    "                       X,\n",
    "                       y,\n",
    "                       cv=5,\n",
    "                       scoring=\"accuracy\")\n",
    "\n",
    "cv_base_acc= np.mean(cv_base_acc)\n",
    "\n",
    "#precision\n",
    "cv_base_precision= cross_val_score(LogisticRegression(),\n",
    "                       X,\n",
    "                       y,\n",
    "                       cv=5,\n",
    "                       scoring=\"precision\")\n",
    "\n",
    "cv_base_precision= np.mean(cv_base_precision)\n",
    "\n",
    "#recall\n",
    "cv_base_recall= cross_val_score(LogisticRegression(),\n",
    "                       X,\n",
    "                       y,\n",
    "                       cv=5,\n",
    "                       scoring=\"recall\")\n",
    "cv_base_recall= np.mean(cv_base_recall)\n",
    "\n",
    "#f1 score\n",
    "cv_base_f1= cross_val_score(LogisticRegression(),\n",
    "                       X,\n",
    "                       y,\n",
    "                       cv=5,\n",
    "                       scoring=\"f1\")\n",
    "\n",
    "cv_base_f1= np.mean(cv_base_f1)\n",
    "\n",
    "cv_base_acc,cv_base_precision,cv_base_recall,cv_base_f1"
   ]
  },
  {
   "cell_type": "code",
   "execution_count": 50,
   "id": "86606b0d",
   "metadata": {},
   "outputs": [
    {
     "data": {
      "image/png": "[encoded data removed]",
      "text/plain": [
       "<Figure size 432x288 with 1 Axes>"
      ]
     },
     "metadata": {
      "needs_background": "light"
     },
     "output_type": "display_data"
    }
   ],
   "source": [
    "#Visualise cross-validated metrics on base model(for Logistic Regression)\n",
    "cv_base_metrics = pd.DataFrame({\"Accuracy\":cv_base_acc,\n",
    "                          \"Precision\":cv_base_precision,\n",
    "                          \"Recall\":cv_base_recall,\n",
    "                          \"F1\":cv_base_f1}, index=[0])\n",
    "cv_base_metrics.T.plot(kind=\"bar\", title=\"Cross-Validated Classification Metrics- Baseline\", legend=False)\n",
    "plt.xticks(rotation=0);"
   ]
  },
  {
   "cell_type": "markdown",
   "id": "cfe685d3",
   "metadata": {},
   "source": [
    "## Feature Importance"
   ]
  },
  {
   "cell_type": "markdown",
   "id": "be5232f3",
   "metadata": {},
   "source": [
    "# Feature importance for Logistic Regression"
   ]
  },
  {
   "cell_type": "code",
   "execution_count": 57,
   "id": "e55d5262",
   "metadata": {},
   "outputs": [
    {
     "data": {
      "text/plain": [
       "array([[ 0.00895107, -1.73503981,  0.79236432, -0.0179523 , -0.00581454,\n",
       "         0.03732771,  0.59245664,  0.03501319, -0.93510949, -0.39008787,\n",
       "         0.47532076, -0.71017856, -0.77590561]])"
      ]
     },
     "execution_count": 57,
     "metadata": {},
     "output_type": "execute_result"
    }
   ],
   "source": [
    "# using tuned model, check coef\n",
    "clf.fit(X_train, y_train)\n",
    "clf.coef_"
   ]
  },
  {
   "cell_type": "code",
   "execution_count": 58,
   "id": "fb6ff00e",
   "metadata": {},
   "outputs": [
    {
     "data": {
      "text/plain": [
       "{'age': 0.008951068436228228,\n",
       " 'sex': -1.7350398125169169,\n",
       " 'cp': 0.7923643152103435,\n",
       " 'trestbps': -0.017952301007717438,\n",
       " 'chol': -0.00581454055461618,\n",
       " 'fbs': 0.0373277064528919,\n",
       " 'restecg': 0.59245663902194,\n",
       " 'thalach': 0.03501318572520247,\n",
       " 'exang': -0.9351094949274498,\n",
       " 'oldpeak': -0.3900878660382049,\n",
       " 'slope': 0.47532075648969174,\n",
       " 'ca': -0.710178556263775,\n",
       " 'thal': -0.775905606696335}"
      ]
     },
     "execution_count": 58,
     "metadata": {},
     "output_type": "execute_result"
    }
   ],
   "source": [
    "feature_dict = dict(zip(df.columns,list(clf.coef_[0])))\n",
    "feature_dict"
   ]
  },
  {
   "cell_type": "code",
   "execution_count": 59,
   "id": "c3dee4b5",
   "metadata": {},
   "outputs": [
    {
     "data": {
      "image/png": "[encoded data removed]",
      "text/plain": [
       "<Figure size 432x288 with 1 Axes>"
      ]
     },
     "metadata": {
      "needs_background": "light"
     },
     "output_type": "display_data"
    }
   ],
   "source": [
    "feature_df=pd.DataFrame(feature_dict, index=[0])\n",
    "feature_df.T.plot(kind=\"bar\", title=\"Feature Importance on Target\", legend= False, color= \"navy\");"
   ]
  },
  {
   "cell_type": "code",
   "execution_count": null,
   "id": "a2b556ab",
   "metadata": {},
   "outputs": [],
   "source": []
  },
  {
   "cell_type": "code",
   "execution_count": null,
   "id": "247da746",
   "metadata": {},
   "outputs": [],
   "source": []
  }
 ],
 "metadata": {
  "kernelspec": {
   "display_name": "Python 3",
   "language": "python",
   "name": "python3"
  },
  "language_info": {
   "codemirror_mode": {
    "name": "ipython",
    "version": 3
   },
   "file_extension": ".py",
   "mimetype": "text/x-python",
   "name": "python",
   "nbconvert_exporter": "python",
   "pygments_lexer": "ipython3",
   "version": "3.9.5"
  }
 },
 "nbformat": 4,
 "nbformat_minor": 5
}
